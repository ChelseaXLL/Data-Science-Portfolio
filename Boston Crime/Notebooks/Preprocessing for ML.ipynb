{
 "cells": [
  {
   "cell_type": "code",
   "execution_count": 1,
   "metadata": {},
   "outputs": [],
   "source": [
    "import pandas as pd\n",
    "import numpy as np\n",
    "import seaborn as sns\n",
    "sns.set_style('darkgrid')\n",
    "from sklearn.preprocessing import LabelEncoder, OneHotEncoder\n",
    "import warnings\n",
    "warnings.filterwarnings('ignore')\n",
    "import matplotlib.pyplot as plt\n",
    "%matplotlib inline"
   ]
  },
  {
   "cell_type": "code",
   "execution_count": 2,
   "metadata": {},
   "outputs": [
    {
     "data": {
      "text/html": [
       "<div>\n",
       "<style scoped>\n",
       "    .dataframe tbody tr th:only-of-type {\n",
       "        vertical-align: middle;\n",
       "    }\n",
       "\n",
       "    .dataframe tbody tr th {\n",
       "        vertical-align: top;\n",
       "    }\n",
       "\n",
       "    .dataframe thead th {\n",
       "        text-align: right;\n",
       "    }\n",
       "</style>\n",
       "<table border=\"1\" class=\"dataframe\">\n",
       "  <thead>\n",
       "    <tr style=\"text-align: right;\">\n",
       "      <th></th>\n",
       "      <th>OFFENSE_CODE</th>\n",
       "      <th>OFFENSE_CODE_GROUP</th>\n",
       "      <th>OFFENSE_DESCRIPTION</th>\n",
       "      <th>DISTRICT</th>\n",
       "      <th>REPORTING_AREA</th>\n",
       "      <th>OCCURRED_ON_DATE</th>\n",
       "      <th>YEAR</th>\n",
       "      <th>MONTH</th>\n",
       "      <th>DAY_OF_WEEK</th>\n",
       "      <th>HOUR</th>\n",
       "      <th>UCR_PART</th>\n",
       "      <th>Lat</th>\n",
       "      <th>Long</th>\n",
       "      <th>OFFENSE_TYPE</th>\n",
       "      <th>DISTRCIT NAME</th>\n",
       "    </tr>\n",
       "  </thead>\n",
       "  <tbody>\n",
       "    <tr>\n",
       "      <th>0</th>\n",
       "      <td>619</td>\n",
       "      <td>Larceny</td>\n",
       "      <td>LARCENY ALL OTHERS</td>\n",
       "      <td>D14</td>\n",
       "      <td>808</td>\n",
       "      <td>9/2/2018 13:00</td>\n",
       "      <td>2018</td>\n",
       "      <td>9</td>\n",
       "      <td>Sunday</td>\n",
       "      <td>13</td>\n",
       "      <td>Part One</td>\n",
       "      <td>42.377875</td>\n",
       "      <td>-71.156442</td>\n",
       "      <td>LARCENY ALL OTHERS</td>\n",
       "      <td>Brighton</td>\n",
       "    </tr>\n",
       "    <tr>\n",
       "      <th>1</th>\n",
       "      <td>1402</td>\n",
       "      <td>Vandalism</td>\n",
       "      <td>VANDALISM</td>\n",
       "      <td>C11</td>\n",
       "      <td>347</td>\n",
       "      <td>8/21/2018 0:00</td>\n",
       "      <td>2018</td>\n",
       "      <td>8</td>\n",
       "      <td>Tuesday</td>\n",
       "      <td>0</td>\n",
       "      <td>Part Two</td>\n",
       "      <td>42.377875</td>\n",
       "      <td>-71.074495</td>\n",
       "      <td>VANDALISM</td>\n",
       "      <td>Dorchester</td>\n",
       "    </tr>\n",
       "    <tr>\n",
       "      <th>2</th>\n",
       "      <td>3410</td>\n",
       "      <td>Towed</td>\n",
       "      <td>TOWED MOTOR VEHICLE</td>\n",
       "      <td>D4</td>\n",
       "      <td>151</td>\n",
       "      <td>9/3/2018 19:27</td>\n",
       "      <td>2018</td>\n",
       "      <td>9</td>\n",
       "      <td>Monday</td>\n",
       "      <td>19</td>\n",
       "      <td>Part Three</td>\n",
       "      <td>42.377875</td>\n",
       "      <td>-71.077230</td>\n",
       "      <td>TOWED MOTOR VEHICLE</td>\n",
       "      <td>South End</td>\n",
       "    </tr>\n",
       "    <tr>\n",
       "      <th>3</th>\n",
       "      <td>3114</td>\n",
       "      <td>Investigate Property</td>\n",
       "      <td>INVESTIGATE PROPERTY</td>\n",
       "      <td>D4</td>\n",
       "      <td>272</td>\n",
       "      <td>9/3/2018 21:16</td>\n",
       "      <td>2018</td>\n",
       "      <td>9</td>\n",
       "      <td>Monday</td>\n",
       "      <td>21</td>\n",
       "      <td>Part Three</td>\n",
       "      <td>42.377875</td>\n",
       "      <td>-71.077230</td>\n",
       "      <td>INVESTIGATE PROPERTY</td>\n",
       "      <td>South End</td>\n",
       "    </tr>\n",
       "    <tr>\n",
       "      <th>4</th>\n",
       "      <td>3114</td>\n",
       "      <td>Investigate Property</td>\n",
       "      <td>INVESTIGATE PROPERTY</td>\n",
       "      <td>B3</td>\n",
       "      <td>421</td>\n",
       "      <td>9/3/2018 21:05</td>\n",
       "      <td>2018</td>\n",
       "      <td>9</td>\n",
       "      <td>Monday</td>\n",
       "      <td>21</td>\n",
       "      <td>Part Three</td>\n",
       "      <td>42.377875</td>\n",
       "      <td>-71.092427</td>\n",
       "      <td>INVESTIGATE PROPERTY</td>\n",
       "      <td>Mattapan</td>\n",
       "    </tr>\n",
       "  </tbody>\n",
       "</table>\n",
       "</div>"
      ],
      "text/plain": [
       "   OFFENSE_CODE    OFFENSE_CODE_GROUP   OFFENSE_DESCRIPTION DISTRICT  \\\n",
       "0           619               Larceny    LARCENY ALL OTHERS      D14   \n",
       "1          1402             Vandalism             VANDALISM      C11   \n",
       "2          3410                 Towed   TOWED MOTOR VEHICLE       D4   \n",
       "3          3114  Investigate Property  INVESTIGATE PROPERTY       D4   \n",
       "4          3114  Investigate Property  INVESTIGATE PROPERTY       B3   \n",
       "\n",
       "  REPORTING_AREA OCCURRED_ON_DATE  YEAR  MONTH DAY_OF_WEEK  HOUR    UCR_PART  \\\n",
       "0            808   9/2/2018 13:00  2018      9      Sunday    13    Part One   \n",
       "1            347   8/21/2018 0:00  2018      8     Tuesday     0    Part Two   \n",
       "2            151   9/3/2018 19:27  2018      9      Monday    19  Part Three   \n",
       "3            272   9/3/2018 21:16  2018      9      Monday    21  Part Three   \n",
       "4            421   9/3/2018 21:05  2018      9      Monday    21  Part Three   \n",
       "\n",
       "         Lat       Long          OFFENSE_TYPE DISTRCIT NAME  \n",
       "0  42.377875 -71.156442    LARCENY ALL OTHERS      Brighton  \n",
       "1  42.377875 -71.074495             VANDALISM    Dorchester  \n",
       "2  42.377875 -71.077230   TOWED MOTOR VEHICLE     South End  \n",
       "3  42.377875 -71.077230  INVESTIGATE PROPERTY     South End  \n",
       "4  42.377875 -71.092427  INVESTIGATE PROPERTY      Mattapan  "
      ]
     },
     "execution_count": 2,
     "metadata": {},
     "output_type": "execute_result"
    }
   ],
   "source": [
    "df=pd.read_csv('crime_clean.csv')\n",
    "df.head()"
   ]
  },
  {
   "cell_type": "markdown",
   "metadata": {},
   "source": [
    "Bin data based on day hour"
   ]
  },
  {
   "cell_type": "code",
   "execution_count": 6,
   "metadata": {},
   "outputs": [],
   "source": [
    "bins=np.linspace(df['HOUR'].min(),df['HOUR'].max(),5)\n",
    "group_names=['Night','Morning','Afternoon','Evening']"
   ]
  },
  {
   "cell_type": "code",
   "execution_count": 7,
   "metadata": {},
   "outputs": [],
   "source": [
    "df['Period']=pd.cut(df['HOUR'],bins=bins,labels=group_names,include_lowest=True)"
   ]
  },
  {
   "cell_type": "code",
   "execution_count": 8,
   "metadata": {},
   "outputs": [
    {
     "data": {
      "text/plain": [
       "Afternoon    109239\n",
       "Evening       90876\n",
       "Morning       74063\n",
       "Night         43040\n",
       "Name: Period, dtype: int64"
      ]
     },
     "execution_count": 8,
     "metadata": {},
     "output_type": "execute_result"
    }
   ],
   "source": [
    "df['Period'].value_counts()"
   ]
  },
  {
   "cell_type": "code",
   "execution_count": 9,
   "metadata": {},
   "outputs": [
    {
     "data": {
      "text/plain": [
       "Part Three    157531\n",
       "Part Two       97055\n",
       "Part One       61411\n",
       "Other           1221\n",
       "Name: UCR_PART, dtype: int64"
      ]
     },
     "execution_count": 9,
     "metadata": {},
     "output_type": "execute_result"
    }
   ],
   "source": [
    "df.UCR_PART.value_counts()"
   ]
  },
  {
   "cell_type": "code",
   "execution_count": 10,
   "metadata": {},
   "outputs": [
    {
     "data": {
      "text/plain": [
       "63"
      ]
     },
     "execution_count": 10,
     "metadata": {},
     "output_type": "execute_result"
    }
   ],
   "source": [
    "len(df.OFFENSE_CODE_GROUP.value_counts())"
   ]
  },
  {
   "cell_type": "markdown",
   "metadata": {},
   "source": [
    "Exclude Others as they are not defined as a specific category"
   ]
  },
  {
   "cell_type": "code",
   "execution_count": 11,
   "metadata": {},
   "outputs": [],
   "source": [
    "df=df[df['UCR_PART']!='Other']"
   ]
  },
  {
   "cell_type": "code",
   "execution_count": 12,
   "metadata": {},
   "outputs": [],
   "source": [
    "df_=df[['OFFENSE_CODE_GROUP','DISTRCIT NAME','YEAR','MONTH','DAY_OF_WEEK','Period','UCR_PART']]"
   ]
  },
  {
   "cell_type": "code",
   "execution_count": 13,
   "metadata": {},
   "outputs": [],
   "source": [
    "ucr_dic={'Part One':0,\n",
    "         'Part Two':1,\n",
    "         'Part Three':2,}"
   ]
  },
  {
   "cell_type": "code",
   "execution_count": 14,
   "metadata": {},
   "outputs": [],
   "source": [
    "df_['UCR']=df_['UCR_PART'].map(ucr_dic)"
   ]
  },
  {
   "cell_type": "code",
   "execution_count": 16,
   "metadata": {},
   "outputs": [],
   "source": [
    "mon_dic={1:'Jan',\n",
    "         2:'Feb',\n",
    "         3:'Mar',\n",
    "         4:'Apr',\n",
    "         5:'May',\n",
    "         6:'Jun',\n",
    "         7:'Jul',\n",
    "         8:'Aug',\n",
    "         9:'Sep',\n",
    "         10:'Oct',\n",
    "         11:'Nov',\n",
    "        12:'Dec'}"
   ]
  },
  {
   "cell_type": "code",
   "execution_count": 17,
   "metadata": {},
   "outputs": [],
   "source": [
    "df_['MONTH']=df_['MONTH'].map(mon_dic)"
   ]
  },
  {
   "cell_type": "code",
   "execution_count": 18,
   "metadata": {},
   "outputs": [
    {
     "data": {
      "text/html": [
       "<div>\n",
       "<style scoped>\n",
       "    .dataframe tbody tr th:only-of-type {\n",
       "        vertical-align: middle;\n",
       "    }\n",
       "\n",
       "    .dataframe tbody tr th {\n",
       "        vertical-align: top;\n",
       "    }\n",
       "\n",
       "    .dataframe thead th {\n",
       "        text-align: right;\n",
       "    }\n",
       "</style>\n",
       "<table border=\"1\" class=\"dataframe\">\n",
       "  <thead>\n",
       "    <tr style=\"text-align: right;\">\n",
       "      <th></th>\n",
       "      <th>OFFENSE_CODE_GROUP</th>\n",
       "      <th>DISTRCIT NAME</th>\n",
       "      <th>YEAR</th>\n",
       "      <th>MONTH</th>\n",
       "      <th>DAY_OF_WEEK</th>\n",
       "      <th>Period</th>\n",
       "      <th>UCR</th>\n",
       "    </tr>\n",
       "  </thead>\n",
       "  <tbody>\n",
       "    <tr>\n",
       "      <th>0</th>\n",
       "      <td>Larceny</td>\n",
       "      <td>Brighton</td>\n",
       "      <td>2018</td>\n",
       "      <td>Sep</td>\n",
       "      <td>Sunday</td>\n",
       "      <td>Afternoon</td>\n",
       "      <td>0</td>\n",
       "    </tr>\n",
       "    <tr>\n",
       "      <th>1</th>\n",
       "      <td>Vandalism</td>\n",
       "      <td>Dorchester</td>\n",
       "      <td>2018</td>\n",
       "      <td>Aug</td>\n",
       "      <td>Tuesday</td>\n",
       "      <td>Night</td>\n",
       "      <td>1</td>\n",
       "    </tr>\n",
       "    <tr>\n",
       "      <th>2</th>\n",
       "      <td>Towed</td>\n",
       "      <td>South End</td>\n",
       "      <td>2018</td>\n",
       "      <td>Sep</td>\n",
       "      <td>Monday</td>\n",
       "      <td>Evening</td>\n",
       "      <td>2</td>\n",
       "    </tr>\n",
       "  </tbody>\n",
       "</table>\n",
       "</div>"
      ],
      "text/plain": [
       "  OFFENSE_CODE_GROUP DISTRCIT NAME  YEAR MONTH DAY_OF_WEEK     Period  UCR\n",
       "0            Larceny      Brighton  2018   Sep      Sunday  Afternoon    0\n",
       "1          Vandalism    Dorchester  2018   Aug     Tuesday      Night    1\n",
       "2              Towed     South End  2018   Sep      Monday    Evening    2"
      ]
     },
     "execution_count": 18,
     "metadata": {},
     "output_type": "execute_result"
    }
   ],
   "source": [
    "df_.drop('UCR_PART',axis=1,inplace=True)\n",
    "df_.head(3)"
   ]
  },
  {
   "cell_type": "code",
   "execution_count": 19,
   "metadata": {},
   "outputs": [],
   "source": [
    "district=pd.get_dummies(df_['DISTRCIT NAME'],drop_first=True)\n",
    "\n",
    "year=pd.get_dummies(df_['YEAR'],drop_first=True)\n",
    "                    \n",
    "month=pd.get_dummies(df_['MONTH'],drop_first=True)\n",
    "                    \n",
    "weekday=pd.get_dummies(df_['DAY_OF_WEEK'],drop_first=True)\n",
    "                    \n",
    "period=pd.get_dummies(df_['Period'],drop_first=True)\n",
    "\n",
    "offense_group=pd.get_dummies(df_['OFFENSE_CODE_GROUP'], drop_first=True)"
   ]
  },
  {
   "cell_type": "code",
   "execution_count": 22,
   "metadata": {},
   "outputs": [],
   "source": [
    "ucr=df_[['UCR']]"
   ]
  },
  {
   "cell_type": "code",
   "execution_count": 27,
   "metadata": {},
   "outputs": [],
   "source": [
    "X=pd.concat([district,month,weekday,period,offense_group,ucr],axis=1)"
   ]
  },
  {
   "cell_type": "code",
   "execution_count": 28,
   "metadata": {},
   "outputs": [
    {
     "data": {
      "text/html": [
       "<div>\n",
       "<style scoped>\n",
       "    .dataframe tbody tr th:only-of-type {\n",
       "        vertical-align: middle;\n",
       "    }\n",
       "\n",
       "    .dataframe tbody tr th {\n",
       "        vertical-align: top;\n",
       "    }\n",
       "\n",
       "    .dataframe thead th {\n",
       "        text-align: right;\n",
       "    }\n",
       "</style>\n",
       "<table border=\"1\" class=\"dataframe\">\n",
       "  <thead>\n",
       "    <tr style=\"text-align: right;\">\n",
       "      <th></th>\n",
       "      <th>Charlestown</th>\n",
       "      <th>Dorchester</th>\n",
       "      <th>Downtown</th>\n",
       "      <th>East Boston</th>\n",
       "      <th>Hyde Park</th>\n",
       "      <th>Jamaica Plain</th>\n",
       "      <th>Mattapan</th>\n",
       "      <th>Roxbury</th>\n",
       "      <th>South Boston</th>\n",
       "      <th>South End</th>\n",
       "      <th>...</th>\n",
       "      <th>Robbery</th>\n",
       "      <th>Search Warrants</th>\n",
       "      <th>Service</th>\n",
       "      <th>Simple Assault</th>\n",
       "      <th>Towed</th>\n",
       "      <th>Vandalism</th>\n",
       "      <th>Verbal Disputes</th>\n",
       "      <th>Violations</th>\n",
       "      <th>Warrant Arrests</th>\n",
       "      <th>UCR</th>\n",
       "    </tr>\n",
       "  </thead>\n",
       "  <tbody>\n",
       "    <tr>\n",
       "      <th>0</th>\n",
       "      <td>0</td>\n",
       "      <td>0</td>\n",
       "      <td>0</td>\n",
       "      <td>0</td>\n",
       "      <td>0</td>\n",
       "      <td>0</td>\n",
       "      <td>0</td>\n",
       "      <td>0</td>\n",
       "      <td>0</td>\n",
       "      <td>0</td>\n",
       "      <td>...</td>\n",
       "      <td>0</td>\n",
       "      <td>0</td>\n",
       "      <td>0</td>\n",
       "      <td>0</td>\n",
       "      <td>0</td>\n",
       "      <td>0</td>\n",
       "      <td>0</td>\n",
       "      <td>0</td>\n",
       "      <td>0</td>\n",
       "      <td>0</td>\n",
       "    </tr>\n",
       "    <tr>\n",
       "      <th>1</th>\n",
       "      <td>0</td>\n",
       "      <td>1</td>\n",
       "      <td>0</td>\n",
       "      <td>0</td>\n",
       "      <td>0</td>\n",
       "      <td>0</td>\n",
       "      <td>0</td>\n",
       "      <td>0</td>\n",
       "      <td>0</td>\n",
       "      <td>0</td>\n",
       "      <td>...</td>\n",
       "      <td>0</td>\n",
       "      <td>0</td>\n",
       "      <td>0</td>\n",
       "      <td>0</td>\n",
       "      <td>0</td>\n",
       "      <td>1</td>\n",
       "      <td>0</td>\n",
       "      <td>0</td>\n",
       "      <td>0</td>\n",
       "      <td>1</td>\n",
       "    </tr>\n",
       "    <tr>\n",
       "      <th>2</th>\n",
       "      <td>0</td>\n",
       "      <td>0</td>\n",
       "      <td>0</td>\n",
       "      <td>0</td>\n",
       "      <td>0</td>\n",
       "      <td>0</td>\n",
       "      <td>0</td>\n",
       "      <td>0</td>\n",
       "      <td>0</td>\n",
       "      <td>1</td>\n",
       "      <td>...</td>\n",
       "      <td>0</td>\n",
       "      <td>0</td>\n",
       "      <td>0</td>\n",
       "      <td>0</td>\n",
       "      <td>1</td>\n",
       "      <td>0</td>\n",
       "      <td>0</td>\n",
       "      <td>0</td>\n",
       "      <td>0</td>\n",
       "      <td>2</td>\n",
       "    </tr>\n",
       "    <tr>\n",
       "      <th>3</th>\n",
       "      <td>0</td>\n",
       "      <td>0</td>\n",
       "      <td>0</td>\n",
       "      <td>0</td>\n",
       "      <td>0</td>\n",
       "      <td>0</td>\n",
       "      <td>0</td>\n",
       "      <td>0</td>\n",
       "      <td>0</td>\n",
       "      <td>1</td>\n",
       "      <td>...</td>\n",
       "      <td>0</td>\n",
       "      <td>0</td>\n",
       "      <td>0</td>\n",
       "      <td>0</td>\n",
       "      <td>0</td>\n",
       "      <td>0</td>\n",
       "      <td>0</td>\n",
       "      <td>0</td>\n",
       "      <td>0</td>\n",
       "      <td>2</td>\n",
       "    </tr>\n",
       "    <tr>\n",
       "      <th>4</th>\n",
       "      <td>0</td>\n",
       "      <td>0</td>\n",
       "      <td>0</td>\n",
       "      <td>0</td>\n",
       "      <td>0</td>\n",
       "      <td>0</td>\n",
       "      <td>1</td>\n",
       "      <td>0</td>\n",
       "      <td>0</td>\n",
       "      <td>0</td>\n",
       "      <td>...</td>\n",
       "      <td>0</td>\n",
       "      <td>0</td>\n",
       "      <td>0</td>\n",
       "      <td>0</td>\n",
       "      <td>0</td>\n",
       "      <td>0</td>\n",
       "      <td>0</td>\n",
       "      <td>0</td>\n",
       "      <td>0</td>\n",
       "      <td>2</td>\n",
       "    </tr>\n",
       "  </tbody>\n",
       "</table>\n",
       "<p>5 rows × 90 columns</p>\n",
       "</div>"
      ],
      "text/plain": [
       "   Charlestown  Dorchester  Downtown  East Boston  Hyde Park  Jamaica Plain  \\\n",
       "0            0           0         0            0          0              0   \n",
       "1            0           1         0            0          0              0   \n",
       "2            0           0         0            0          0              0   \n",
       "3            0           0         0            0          0              0   \n",
       "4            0           0         0            0          0              0   \n",
       "\n",
       "   Mattapan  Roxbury  South Boston  South End  ...  Robbery  Search Warrants  \\\n",
       "0         0        0             0          0  ...        0                0   \n",
       "1         0        0             0          0  ...        0                0   \n",
       "2         0        0             0          1  ...        0                0   \n",
       "3         0        0             0          1  ...        0                0   \n",
       "4         1        0             0          0  ...        0                0   \n",
       "\n",
       "   Service  Simple Assault  Towed  Vandalism  Verbal Disputes  Violations  \\\n",
       "0        0               0      0          0                0           0   \n",
       "1        0               0      0          1                0           0   \n",
       "2        0               0      1          0                0           0   \n",
       "3        0               0      0          0                0           0   \n",
       "4        0               0      0          0                0           0   \n",
       "\n",
       "   Warrant Arrests  UCR  \n",
       "0                0    0  \n",
       "1                0    1  \n",
       "2                0    2  \n",
       "3                0    2  \n",
       "4                0    2  \n",
       "\n",
       "[5 rows x 90 columns]"
      ]
     },
     "execution_count": 28,
     "metadata": {},
     "output_type": "execute_result"
    }
   ],
   "source": [
    "X.head()"
   ]
  },
  {
   "cell_type": "code",
   "execution_count": 29,
   "metadata": {},
   "outputs": [
    {
     "data": {
      "text/plain": [
       "Index(['Charlestown', 'Dorchester', 'Downtown', 'East Boston', 'Hyde Park',\n",
       "       'Jamaica Plain', 'Mattapan', 'Roxbury', 'South Boston', 'South End',\n",
       "       'West Roxbury', 'Aug', 'Dec', 'Feb', 'Jan', 'Jul', 'Jun', 'Mar', 'May',\n",
       "       'Nov', 'Oct', 'Sep', 'Monday', 'Saturday', 'Sunday', 'Thursday',\n",
       "       'Tuesday', 'Wednesday', 'Morning', 'Afternoon', 'Evening', 'Aircraft',\n",
       "       'Assembly or Gathering Violations', 'Auto Theft', 'Ballistics',\n",
       "       'Biological Threat', 'Bomb Hoax', 'Commercial Burglary',\n",
       "       'Confidence Games', 'Counterfeiting', 'Criminal Harassment',\n",
       "       'Disorderly Conduct', 'Drug Violation', 'Embezzlement', 'Evading Fare',\n",
       "       'Explosives', 'Fire Related Reports', 'Firearm Discovery',\n",
       "       'Firearm Violations', 'Fraud', 'Gambling', 'Harassment',\n",
       "       'Harbor Related Incidents', 'Homicide', 'Investigate Person',\n",
       "       'Investigate Property', 'Landlord/Tenant Disputes', 'Larceny',\n",
       "       'Larceny From Motor Vehicle', 'License Plate Related Incidents',\n",
       "       'License Violation', 'Liquor Violation', 'Medical Assistance',\n",
       "       'Missing Person Located', 'Missing Person Reported',\n",
       "       'Motor Vehicle Accident Response', 'Offenses Against Child / Family',\n",
       "       'Operating Under the Influence', 'Other', 'Other Burglary',\n",
       "       'Phone Call Complaints', 'Police Service Incidents',\n",
       "       'Prisoner Related Incidents', 'Property Found', 'Property Lost',\n",
       "       'Property Related Damage', 'Prostitution', 'Recovered Stolen Property',\n",
       "       'Residential Burglary', 'Restraining Order Violations', 'Robbery',\n",
       "       'Search Warrants', 'Service', 'Simple Assault', 'Towed', 'Vandalism',\n",
       "       'Verbal Disputes', 'Violations', 'Warrant Arrests', 'UCR'],\n",
       "      dtype='object')"
      ]
     },
     "execution_count": 29,
     "metadata": {},
     "output_type": "execute_result"
    }
   ],
   "source": [
    "X.columns"
   ]
  },
  {
   "cell_type": "code",
   "execution_count": 30,
   "metadata": {},
   "outputs": [],
   "source": [
    "X.to_csv('crime_cat.csv')"
   ]
  },
  {
   "cell_type": "code",
   "execution_count": 31,
   "metadata": {},
   "outputs": [
    {
     "data": {
      "text/plain": [
       "(315997, 90)"
      ]
     },
     "execution_count": 31,
     "metadata": {},
     "output_type": "execute_result"
    }
   ],
   "source": [
    "X.shape"
   ]
  },
  {
   "cell_type": "markdown",
   "metadata": {},
   "source": [
    "**Exclude all districts for second datasets**"
   ]
  },
  {
   "cell_type": "code",
   "execution_count": 39,
   "metadata": {},
   "outputs": [],
   "source": [
    "X_no_dist=pd.concat([offense_group,month,weekday,period,ucr],axis=1)"
   ]
  },
  {
   "cell_type": "code",
   "execution_count": 40,
   "metadata": {},
   "outputs": [
    {
     "data": {
      "text/plain": [
       "(315997, 79)"
      ]
     },
     "execution_count": 40,
     "metadata": {},
     "output_type": "execute_result"
    }
   ],
   "source": [
    "X_no_dist.shape"
   ]
  },
  {
   "cell_type": "code",
   "execution_count": 34,
   "metadata": {},
   "outputs": [],
   "source": [
    "X_.to_csv(\"crime_cat_no_dis.csv\")"
   ]
  },
  {
   "cell_type": "markdown",
   "metadata": {},
   "source": [
    "**Exclude all time-related terms for second datasets**"
   ]
  },
  {
   "cell_type": "code",
   "execution_count": 41,
   "metadata": {},
   "outputs": [],
   "source": [
    "X_no_time=pd.concat([offense_group,district,ucr],axis=1)"
   ]
  },
  {
   "cell_type": "code",
   "execution_count": 42,
   "metadata": {},
   "outputs": [
    {
     "data": {
      "text/plain": [
       "(315997, 70)"
      ]
     },
     "execution_count": 42,
     "metadata": {},
     "output_type": "execute_result"
    }
   ],
   "source": [
    "X_no_time.shape"
   ]
  },
  {
   "cell_type": "code",
   "execution_count": 43,
   "metadata": {},
   "outputs": [],
   "source": [
    "X_no_time.to_csv(\"crime_cat_no_time.csv\",index=False)"
   ]
  },
  {
   "cell_type": "markdown",
   "metadata": {},
   "source": [
    "**Exclude all groups**"
   ]
  },
  {
   "cell_type": "code",
   "execution_count": 23,
   "metadata": {},
   "outputs": [],
   "source": [
    "X_no_offense=pd.concat([district,month,weekday,period,ucr],axis=1)"
   ]
  },
  {
   "cell_type": "code",
   "execution_count": 24,
   "metadata": {},
   "outputs": [],
   "source": [
    "X_no_offense.to_csv(\"crime_cat_no_offense.csv\",index=False)"
   ]
  },
  {
   "cell_type": "markdown",
   "metadata": {},
   "source": [
    "**Encoding Part**"
   ]
  },
  {
   "cell_type": "code",
   "execution_count": 25,
   "metadata": {},
   "outputs": [],
   "source": [
    "df_e=df[['DISTRCIT NAME','MONTH','DAY_OF_WEEK','Period','UCR_PART']]"
   ]
  },
  {
   "cell_type": "code",
   "execution_count": 35,
   "metadata": {},
   "outputs": [],
   "source": [
    "X=df_e.iloc[:,:-1].values\n",
    "y=df_e.iloc[:,-1].values"
   ]
  },
  {
   "cell_type": "code",
   "execution_count": 36,
   "metadata": {},
   "outputs": [
    {
     "data": {
      "text/plain": [
       "array([['Brighton', 9, 'Sunday', 'Afternoon'],\n",
       "       ['Dorchester', 8, 'Tuesday', 'Night'],\n",
       "       ['South End', 9, 'Monday', 'Evening']], dtype=object)"
      ]
     },
     "execution_count": 36,
     "metadata": {},
     "output_type": "execute_result"
    }
   ],
   "source": [
    "X[0:3]"
   ]
  },
  {
   "cell_type": "code",
   "execution_count": 37,
   "metadata": {},
   "outputs": [
    {
     "data": {
      "text/plain": [
       "array(['Part One', 'Part Two', 'Part Three'], dtype=object)"
      ]
     },
     "execution_count": 37,
     "metadata": {},
     "output_type": "execute_result"
    }
   ],
   "source": [
    "y[0:3]"
   ]
  },
  {
   "cell_type": "markdown",
   "metadata": {},
   "source": [
    "Transform categorical values by label encoding & hotone encoding"
   ]
  },
  {
   "cell_type": "code",
   "execution_count": 38,
   "metadata": {},
   "outputs": [],
   "source": [
    "labelencoder_0=LabelEncoder()\n",
    "X[:,0]=labelencoder_0.fit_transform(X[:,0])"
   ]
  },
  {
   "cell_type": "code",
   "execution_count": 39,
   "metadata": {},
   "outputs": [],
   "source": [
    "labelencoder_2=LabelEncoder()\n",
    "X[:,2]=labelencoder_2.fit_transform(X[:,2])"
   ]
  },
  {
   "cell_type": "code",
   "execution_count": 40,
   "metadata": {},
   "outputs": [],
   "source": [
    "labelencoder_3=LabelEncoder()\n",
    "X[:,3]=labelencoder_3.fit_transform(X[:,3])"
   ]
  },
  {
   "cell_type": "code",
   "execution_count": 41,
   "metadata": {},
   "outputs": [],
   "source": [
    "onehot=OneHotEncoder( categorical_features=[0,1,2,3])\n",
    "X=onehot.fit_transform(X).toarray()"
   ]
  },
  {
   "cell_type": "code",
   "execution_count": 42,
   "metadata": {},
   "outputs": [
    {
     "data": {
      "text/plain": [
       "(315997, 35)"
      ]
     },
     "execution_count": 42,
     "metadata": {},
     "output_type": "execute_result"
    }
   ],
   "source": [
    "X.shape"
   ]
  },
  {
   "cell_type": "code",
   "execution_count": null,
   "metadata": {},
   "outputs": [],
   "source": [
    "Transform first column"
   ]
  }
 ],
 "metadata": {
  "kernelspec": {
   "display_name": "Python 3",
   "language": "python",
   "name": "python3"
  },
  "language_info": {
   "codemirror_mode": {
    "name": "ipython",
    "version": 3
   },
   "file_extension": ".py",
   "mimetype": "text/x-python",
   "name": "python",
   "nbconvert_exporter": "python",
   "pygments_lexer": "ipython3",
   "version": "3.7.3"
  }
 },
 "nbformat": 4,
 "nbformat_minor": 2
}
