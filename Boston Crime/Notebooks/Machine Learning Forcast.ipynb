{
 "cells": [
  {
   "cell_type": "code",
   "execution_count": 26,
   "metadata": {},
   "outputs": [],
   "source": [
    "import pandas as pd\n",
    "import numpy as np\n",
    "import matplotlib.pyplot as plt\n",
    "from sklearn.model_selection import train_test_split\n",
    "from sklearn.metrics import classification_report, confusion_matrix, silhouette_score\n",
    "from sklearn.linear_model import LogisticRegression\n",
    "from sklearn.neighbors import KNeighborsClassifier\n",
    "from sklearn.cluster import KMeans\n",
    "from sklearn.naive_bayes import GaussianNB\n",
    "from sklearn.svm import SVC\n",
    "from sklearn.ensemble import RandomForestClassifier\n",
    "from sklearn.model_selection import cross_val_score\n",
    "from sklearn.model_selection import GridSearchCV\n",
    "from sklearn.feature_selection import RFE\n",
    "from sklearn.decomposition import PCA\n",
    "from sklearn.feature_selection import SelectKBest\n",
    "from sklearn.feature_selection import chi2\n",
    "from sklearn.ensemble import ExtraTreesClassifier\n",
    "#import foresthelpers.featureimportance as fi\n",
    "from sklearn.utils import resample\n",
    "from sklearn.metrics import log_loss\n",
    "import keras\n",
    "import tensorflow as tf\n",
    "import seaborn as sns\n",
    "sns.set_style(\"darkgrid\")\n",
    "%matplotlib inline\n",
    "import plotly.graph_objects as go\n",
    "import plotly.offline as pyo\n",
    "import warnings\n",
    "warnings.filterwarnings(\"ignore\")"
   ]
  },
  {
   "cell_type": "code",
   "execution_count": 2,
   "metadata": {},
   "outputs": [
    {
     "data": {
      "text/html": [
       "<div>\n",
       "<style scoped>\n",
       "    .dataframe tbody tr th:only-of-type {\n",
       "        vertical-align: middle;\n",
       "    }\n",
       "\n",
       "    .dataframe tbody tr th {\n",
       "        vertical-align: top;\n",
       "    }\n",
       "\n",
       "    .dataframe thead th {\n",
       "        text-align: right;\n",
       "    }\n",
       "</style>\n",
       "<table border=\"1\" class=\"dataframe\">\n",
       "  <thead>\n",
       "    <tr style=\"text-align: right;\">\n",
       "      <th></th>\n",
       "      <th>Charlestown</th>\n",
       "      <th>Dorchester</th>\n",
       "      <th>Downtown</th>\n",
       "      <th>East Boston</th>\n",
       "      <th>Hyde Park</th>\n",
       "      <th>Jamaica Plain</th>\n",
       "      <th>Mattapan</th>\n",
       "      <th>Roxbury</th>\n",
       "      <th>South Boston</th>\n",
       "      <th>South End</th>\n",
       "      <th>...</th>\n",
       "      <th>Robbery</th>\n",
       "      <th>Search Warrants</th>\n",
       "      <th>Service</th>\n",
       "      <th>Simple Assault</th>\n",
       "      <th>Towed</th>\n",
       "      <th>Vandalism</th>\n",
       "      <th>Verbal Disputes</th>\n",
       "      <th>Violations</th>\n",
       "      <th>Warrant Arrests</th>\n",
       "      <th>UCR</th>\n",
       "    </tr>\n",
       "  </thead>\n",
       "  <tbody>\n",
       "    <tr>\n",
       "      <th>0</th>\n",
       "      <td>0</td>\n",
       "      <td>0</td>\n",
       "      <td>0</td>\n",
       "      <td>0</td>\n",
       "      <td>0</td>\n",
       "      <td>0</td>\n",
       "      <td>0</td>\n",
       "      <td>0</td>\n",
       "      <td>0</td>\n",
       "      <td>0</td>\n",
       "      <td>...</td>\n",
       "      <td>0</td>\n",
       "      <td>0</td>\n",
       "      <td>0</td>\n",
       "      <td>0</td>\n",
       "      <td>0</td>\n",
       "      <td>0</td>\n",
       "      <td>0</td>\n",
       "      <td>0</td>\n",
       "      <td>0</td>\n",
       "      <td>0</td>\n",
       "    </tr>\n",
       "    <tr>\n",
       "      <th>1</th>\n",
       "      <td>0</td>\n",
       "      <td>1</td>\n",
       "      <td>0</td>\n",
       "      <td>0</td>\n",
       "      <td>0</td>\n",
       "      <td>0</td>\n",
       "      <td>0</td>\n",
       "      <td>0</td>\n",
       "      <td>0</td>\n",
       "      <td>0</td>\n",
       "      <td>...</td>\n",
       "      <td>0</td>\n",
       "      <td>0</td>\n",
       "      <td>0</td>\n",
       "      <td>0</td>\n",
       "      <td>0</td>\n",
       "      <td>1</td>\n",
       "      <td>0</td>\n",
       "      <td>0</td>\n",
       "      <td>0</td>\n",
       "      <td>1</td>\n",
       "    </tr>\n",
       "    <tr>\n",
       "      <th>2</th>\n",
       "      <td>0</td>\n",
       "      <td>0</td>\n",
       "      <td>0</td>\n",
       "      <td>0</td>\n",
       "      <td>0</td>\n",
       "      <td>0</td>\n",
       "      <td>0</td>\n",
       "      <td>0</td>\n",
       "      <td>0</td>\n",
       "      <td>1</td>\n",
       "      <td>...</td>\n",
       "      <td>0</td>\n",
       "      <td>0</td>\n",
       "      <td>0</td>\n",
       "      <td>0</td>\n",
       "      <td>1</td>\n",
       "      <td>0</td>\n",
       "      <td>0</td>\n",
       "      <td>0</td>\n",
       "      <td>0</td>\n",
       "      <td>2</td>\n",
       "    </tr>\n",
       "    <tr>\n",
       "      <th>3</th>\n",
       "      <td>0</td>\n",
       "      <td>0</td>\n",
       "      <td>0</td>\n",
       "      <td>0</td>\n",
       "      <td>0</td>\n",
       "      <td>0</td>\n",
       "      <td>0</td>\n",
       "      <td>0</td>\n",
       "      <td>0</td>\n",
       "      <td>1</td>\n",
       "      <td>...</td>\n",
       "      <td>0</td>\n",
       "      <td>0</td>\n",
       "      <td>0</td>\n",
       "      <td>0</td>\n",
       "      <td>0</td>\n",
       "      <td>0</td>\n",
       "      <td>0</td>\n",
       "      <td>0</td>\n",
       "      <td>0</td>\n",
       "      <td>2</td>\n",
       "    </tr>\n",
       "    <tr>\n",
       "      <th>4</th>\n",
       "      <td>0</td>\n",
       "      <td>0</td>\n",
       "      <td>0</td>\n",
       "      <td>0</td>\n",
       "      <td>0</td>\n",
       "      <td>0</td>\n",
       "      <td>1</td>\n",
       "      <td>0</td>\n",
       "      <td>0</td>\n",
       "      <td>0</td>\n",
       "      <td>...</td>\n",
       "      <td>0</td>\n",
       "      <td>0</td>\n",
       "      <td>0</td>\n",
       "      <td>0</td>\n",
       "      <td>0</td>\n",
       "      <td>0</td>\n",
       "      <td>0</td>\n",
       "      <td>0</td>\n",
       "      <td>0</td>\n",
       "      <td>2</td>\n",
       "    </tr>\n",
       "  </tbody>\n",
       "</table>\n",
       "<p>5 rows × 90 columns</p>\n",
       "</div>"
      ],
      "text/plain": [
       "   Charlestown  Dorchester  Downtown  East Boston  Hyde Park  Jamaica Plain  \\\n",
       "0            0           0         0            0          0              0   \n",
       "1            0           1         0            0          0              0   \n",
       "2            0           0         0            0          0              0   \n",
       "3            0           0         0            0          0              0   \n",
       "4            0           0         0            0          0              0   \n",
       "\n",
       "   Mattapan  Roxbury  South Boston  South End  ...  Robbery  Search Warrants  \\\n",
       "0         0        0             0          0  ...        0                0   \n",
       "1         0        0             0          0  ...        0                0   \n",
       "2         0        0             0          1  ...        0                0   \n",
       "3         0        0             0          1  ...        0                0   \n",
       "4         1        0             0          0  ...        0                0   \n",
       "\n",
       "   Service  Simple Assault  Towed  Vandalism  Verbal Disputes  Violations  \\\n",
       "0        0               0      0          0                0           0   \n",
       "1        0               0      0          1                0           0   \n",
       "2        0               0      1          0                0           0   \n",
       "3        0               0      0          0                0           0   \n",
       "4        0               0      0          0                0           0   \n",
       "\n",
       "   Warrant Arrests  UCR  \n",
       "0                0    0  \n",
       "1                0    1  \n",
       "2                0    2  \n",
       "3                0    2  \n",
       "4                0    2  \n",
       "\n",
       "[5 rows x 90 columns]"
      ]
     },
     "execution_count": 2,
     "metadata": {},
     "output_type": "execute_result"
    }
   ],
   "source": [
    "df=pd.read_csv('crime_cat.csv')\n",
    "#df.drop('Unnamed: 0',axis=1,inplace=True)\n",
    "df=df[df['UCR']!=3]\n",
    "df.head()"
   ]
  },
  {
   "cell_type": "code",
   "execution_count": 3,
   "metadata": {},
   "outputs": [
    {
     "data": {
      "text/plain": [
       "2    157531\n",
       "1     97055\n",
       "0     61411\n",
       "Name: UCR, dtype: int64"
      ]
     },
     "execution_count": 3,
     "metadata": {},
     "output_type": "execute_result"
    }
   ],
   "source": [
    "df['UCR'].value_counts()"
   ]
  },
  {
   "cell_type": "markdown",
   "metadata": {},
   "source": [
    "## Upsample the data"
   ]
  },
  {
   "cell_type": "code",
   "execution_count": 4,
   "metadata": {},
   "outputs": [],
   "source": [
    "X=df.iloc[:,:-1]\n",
    "y=df.iloc[:,-1]"
   ]
  },
  {
   "cell_type": "code",
   "execution_count": 5,
   "metadata": {},
   "outputs": [
    {
     "data": {
      "text/html": [
       "<div>\n",
       "<style scoped>\n",
       "    .dataframe tbody tr th:only-of-type {\n",
       "        vertical-align: middle;\n",
       "    }\n",
       "\n",
       "    .dataframe tbody tr th {\n",
       "        vertical-align: top;\n",
       "    }\n",
       "\n",
       "    .dataframe thead th {\n",
       "        text-align: right;\n",
       "    }\n",
       "</style>\n",
       "<table border=\"1\" class=\"dataframe\">\n",
       "  <thead>\n",
       "    <tr style=\"text-align: right;\">\n",
       "      <th></th>\n",
       "      <th>Charlestown</th>\n",
       "      <th>Dorchester</th>\n",
       "      <th>Downtown</th>\n",
       "      <th>East Boston</th>\n",
       "      <th>Hyde Park</th>\n",
       "      <th>Jamaica Plain</th>\n",
       "      <th>Mattapan</th>\n",
       "      <th>Roxbury</th>\n",
       "      <th>South Boston</th>\n",
       "      <th>South End</th>\n",
       "      <th>...</th>\n",
       "      <th>Restraining Order Violations</th>\n",
       "      <th>Robbery</th>\n",
       "      <th>Search Warrants</th>\n",
       "      <th>Service</th>\n",
       "      <th>Simple Assault</th>\n",
       "      <th>Towed</th>\n",
       "      <th>Vandalism</th>\n",
       "      <th>Verbal Disputes</th>\n",
       "      <th>Violations</th>\n",
       "      <th>Warrant Arrests</th>\n",
       "    </tr>\n",
       "  </thead>\n",
       "  <tbody>\n",
       "    <tr>\n",
       "      <th>0</th>\n",
       "      <td>0</td>\n",
       "      <td>0</td>\n",
       "      <td>0</td>\n",
       "      <td>0</td>\n",
       "      <td>0</td>\n",
       "      <td>0</td>\n",
       "      <td>0</td>\n",
       "      <td>0</td>\n",
       "      <td>0</td>\n",
       "      <td>0</td>\n",
       "      <td>...</td>\n",
       "      <td>0</td>\n",
       "      <td>0</td>\n",
       "      <td>0</td>\n",
       "      <td>0</td>\n",
       "      <td>0</td>\n",
       "      <td>0</td>\n",
       "      <td>0</td>\n",
       "      <td>0</td>\n",
       "      <td>0</td>\n",
       "      <td>0</td>\n",
       "    </tr>\n",
       "    <tr>\n",
       "      <th>1</th>\n",
       "      <td>0</td>\n",
       "      <td>1</td>\n",
       "      <td>0</td>\n",
       "      <td>0</td>\n",
       "      <td>0</td>\n",
       "      <td>0</td>\n",
       "      <td>0</td>\n",
       "      <td>0</td>\n",
       "      <td>0</td>\n",
       "      <td>0</td>\n",
       "      <td>...</td>\n",
       "      <td>0</td>\n",
       "      <td>0</td>\n",
       "      <td>0</td>\n",
       "      <td>0</td>\n",
       "      <td>0</td>\n",
       "      <td>0</td>\n",
       "      <td>1</td>\n",
       "      <td>0</td>\n",
       "      <td>0</td>\n",
       "      <td>0</td>\n",
       "    </tr>\n",
       "    <tr>\n",
       "      <th>2</th>\n",
       "      <td>0</td>\n",
       "      <td>0</td>\n",
       "      <td>0</td>\n",
       "      <td>0</td>\n",
       "      <td>0</td>\n",
       "      <td>0</td>\n",
       "      <td>0</td>\n",
       "      <td>0</td>\n",
       "      <td>0</td>\n",
       "      <td>1</td>\n",
       "      <td>...</td>\n",
       "      <td>0</td>\n",
       "      <td>0</td>\n",
       "      <td>0</td>\n",
       "      <td>0</td>\n",
       "      <td>0</td>\n",
       "      <td>1</td>\n",
       "      <td>0</td>\n",
       "      <td>0</td>\n",
       "      <td>0</td>\n",
       "      <td>0</td>\n",
       "    </tr>\n",
       "    <tr>\n",
       "      <th>3</th>\n",
       "      <td>0</td>\n",
       "      <td>0</td>\n",
       "      <td>0</td>\n",
       "      <td>0</td>\n",
       "      <td>0</td>\n",
       "      <td>0</td>\n",
       "      <td>0</td>\n",
       "      <td>0</td>\n",
       "      <td>0</td>\n",
       "      <td>1</td>\n",
       "      <td>...</td>\n",
       "      <td>0</td>\n",
       "      <td>0</td>\n",
       "      <td>0</td>\n",
       "      <td>0</td>\n",
       "      <td>0</td>\n",
       "      <td>0</td>\n",
       "      <td>0</td>\n",
       "      <td>0</td>\n",
       "      <td>0</td>\n",
       "      <td>0</td>\n",
       "    </tr>\n",
       "    <tr>\n",
       "      <th>4</th>\n",
       "      <td>0</td>\n",
       "      <td>0</td>\n",
       "      <td>0</td>\n",
       "      <td>0</td>\n",
       "      <td>0</td>\n",
       "      <td>0</td>\n",
       "      <td>1</td>\n",
       "      <td>0</td>\n",
       "      <td>0</td>\n",
       "      <td>0</td>\n",
       "      <td>...</td>\n",
       "      <td>0</td>\n",
       "      <td>0</td>\n",
       "      <td>0</td>\n",
       "      <td>0</td>\n",
       "      <td>0</td>\n",
       "      <td>0</td>\n",
       "      <td>0</td>\n",
       "      <td>0</td>\n",
       "      <td>0</td>\n",
       "      <td>0</td>\n",
       "    </tr>\n",
       "  </tbody>\n",
       "</table>\n",
       "<p>5 rows × 89 columns</p>\n",
       "</div>"
      ],
      "text/plain": [
       "   Charlestown  Dorchester  Downtown  East Boston  Hyde Park  Jamaica Plain  \\\n",
       "0            0           0         0            0          0              0   \n",
       "1            0           1         0            0          0              0   \n",
       "2            0           0         0            0          0              0   \n",
       "3            0           0         0            0          0              0   \n",
       "4            0           0         0            0          0              0   \n",
       "\n",
       "   Mattapan  Roxbury  South Boston  South End  ...  \\\n",
       "0         0        0             0          0  ...   \n",
       "1         0        0             0          0  ...   \n",
       "2         0        0             0          1  ...   \n",
       "3         0        0             0          1  ...   \n",
       "4         1        0             0          0  ...   \n",
       "\n",
       "   Restraining Order Violations  Robbery  Search Warrants  Service  \\\n",
       "0                             0        0                0        0   \n",
       "1                             0        0                0        0   \n",
       "2                             0        0                0        0   \n",
       "3                             0        0                0        0   \n",
       "4                             0        0                0        0   \n",
       "\n",
       "   Simple Assault  Towed  Vandalism  Verbal Disputes  Violations  \\\n",
       "0               0      0          0                0           0   \n",
       "1               0      0          1                0           0   \n",
       "2               0      1          0                0           0   \n",
       "3               0      0          0                0           0   \n",
       "4               0      0          0                0           0   \n",
       "\n",
       "   Warrant Arrests  \n",
       "0                0  \n",
       "1                0  \n",
       "2                0  \n",
       "3                0  \n",
       "4                0  \n",
       "\n",
       "[5 rows x 89 columns]"
      ]
     },
     "execution_count": 5,
     "metadata": {},
     "output_type": "execute_result"
    }
   ],
   "source": [
    "X[0:5]"
   ]
  },
  {
   "cell_type": "code",
   "execution_count": 6,
   "metadata": {},
   "outputs": [
    {
     "data": {
      "text/plain": [
       "0    0\n",
       "1    1\n",
       "2    2\n",
       "Name: UCR, dtype: int64"
      ]
     },
     "execution_count": 6,
     "metadata": {},
     "output_type": "execute_result"
    }
   ],
   "source": [
    "y.head(3)"
   ]
  },
  {
   "cell_type": "code",
   "execution_count": 19,
   "metadata": {},
   "outputs": [],
   "source": [
    "def data_split(dataframe):\n",
    "    X=df.iloc[:,:-1]\n",
    "    y=df.iloc[:,-1]\n",
    "    X_train, X_test, y_train, y_test = train_test_split(X, y, test_size=0.25, random_state=0)  "
   ]
  },
  {
   "cell_type": "code",
   "execution_count": 8,
   "metadata": {},
   "outputs": [],
   "source": [
    "X_train, X_test, y_train, y_test = train_test_split(X, y, test_size=0.25, random_state=0)"
   ]
  },
  {
   "cell_type": "code",
   "execution_count": 9,
   "metadata": {},
   "outputs": [],
   "source": [
    "#Concatenate the traning data back\n",
    "X = pd.concat([X_train, y_train], axis=1)"
   ]
  },
  {
   "cell_type": "code",
   "execution_count": 10,
   "metadata": {},
   "outputs": [],
   "source": [
    "ucr_1=X[X['UCR']==0]\n",
    "ucr_2=X[X['UCR']==1]\n",
    "ucr_3=X[X['UCR']==2]"
   ]
  },
  {
   "cell_type": "code",
   "execution_count": 11,
   "metadata": {},
   "outputs": [
    {
     "name": "stdout",
     "output_type": "stream",
     "text": [
      "46030\n",
      "72892\n",
      "118075\n"
     ]
    }
   ],
   "source": [
    "print(len(ucr_1))\n",
    "print(len(ucr_2))\n",
    "print(len(ucr_3))"
   ]
  },
  {
   "cell_type": "markdown",
   "metadata": {},
   "source": [
    "**Upsample 1 & 2 then concatenate 3 parts together**"
   ]
  },
  {
   "cell_type": "code",
   "execution_count": 16,
   "metadata": {},
   "outputs": [],
   "source": [
    "ucr_1=resample(ucr_1, replace=True, n_samples=len(ucr_3), random_state=0)\n",
    "ucr_2=resample(ucr_2, replace=True, n_samples=len(ucr_3), random_state=0)"
   ]
  },
  {
   "cell_type": "code",
   "execution_count": 17,
   "metadata": {},
   "outputs": [],
   "source": [
    "ucr_all=pd.concat([ucr_1,ucr_2,ucr_3])"
   ]
  },
  {
   "cell_type": "markdown",
   "metadata": {},
   "source": [
    "Check again the number of values under each category "
   ]
  },
  {
   "cell_type": "code",
   "execution_count": 18,
   "metadata": {},
   "outputs": [
    {
     "data": {
      "text/plain": [
       "2    118075\n",
       "1    118075\n",
       "0    118075\n",
       "Name: UCR, dtype: int64"
      ]
     },
     "execution_count": 18,
     "metadata": {},
     "output_type": "execute_result"
    }
   ],
   "source": [
    "ucr_all['UCR'].value_counts()"
   ]
  },
  {
   "cell_type": "markdown",
   "metadata": {},
   "source": [
    "**Resplit the data into train/test datasets**"
   ]
  },
  {
   "cell_type": "code",
   "execution_count": 20,
   "metadata": {},
   "outputs": [
    {
     "data": {
      "text/plain": [
       "(        Charlestown  Dorchester  Downtown  East Boston  Hyde Park  \\\n",
       " 90580             0           0         1            0          0   \n",
       " 82930             0           0         0            0          0   \n",
       " 221965            0           1         0            0          0   \n",
       " 72856             0           0         0            0          1   \n",
       " 220131            0           0         0            0          0   \n",
       " 212347            0           1         0            0          0   \n",
       " 72717             0           0         0            1          0   \n",
       " 305940            0           0         0            0          0   \n",
       " 41330             0           0         0            0          0   \n",
       " 62093             1           0         0            0          0   \n",
       " 89478             0           0         0            1          0   \n",
       " 294834            0           1         0            0          0   \n",
       " 86013             0           0         1            0          0   \n",
       " 41122             0           0         0            0          0   \n",
       " 287744            0           0         1            0          0   \n",
       " 64422             0           0         0            0          0   \n",
       " 107196            0           0         0            0          0   \n",
       " 228237            0           0         0            0          0   \n",
       " 183711            0           0         0            0          0   \n",
       " 25448             0           0         0            0          0   \n",
       " 186283            0           0         0            0          0   \n",
       " 245184            0           0         0            0          0   \n",
       " 60938             0           1         0            0          0   \n",
       " 50016             0           0         0            0          0   \n",
       " 14335             0           0         0            0          0   \n",
       " 10662             0           0         0            0          0   \n",
       " 233221            0           0         0            0          0   \n",
       " 119699            0           0         0            0          0   \n",
       " 150744            0           0         0            0          0   \n",
       " 43724             0           0         0            0          1   \n",
       " ...             ...         ...       ...          ...        ...   \n",
       " 125603            0           1         0            0          0   \n",
       " 312010            0           0         0            0          0   \n",
       " 303648            0           0         0            0          0   \n",
       " 84665             0           0         0            0          0   \n",
       " 183561            0           0         0            0          1   \n",
       " 122144            0           0         1            0          0   \n",
       " 221607            0           0         0            0          0   \n",
       " 199827            0           0         0            0          1   \n",
       " 49811             0           0         0            0          0   \n",
       " 230131            0           0         0            0          0   \n",
       " 31921             0           1         0            0          0   \n",
       " 73135             0           0         0            0          0   \n",
       " 7877              0           0         0            0          0   \n",
       " 82457             0           0         0            0          0   \n",
       " 255653            1           0         0            0          0   \n",
       " 220760            0           0         0            0          0   \n",
       " 150055            0           0         1            0          0   \n",
       " 17089             0           0         0            0          0   \n",
       " 80186             0           0         0            0          0   \n",
       " 314764            0           0         0            1          0   \n",
       " 170584            0           0         1            0          0   \n",
       " 310744            0           0         0            0          0   \n",
       " 212038            0           0         1            0          0   \n",
       " 211543            0           0         0            0          0   \n",
       " 86293             0           0         0            0          0   \n",
       " 122579            0           0         0            0          0   \n",
       " 304137            0           0         0            0          0   \n",
       " 152315            0           0         0            0          0   \n",
       " 117952            0           0         0            0          0   \n",
       " 305711            0           0         1            0          0   \n",
       " \n",
       "         Jamaica Plain  Mattapan  Roxbury  South Boston  South End  ...  \\\n",
       " 90580               0         0        0             0          0  ...   \n",
       " 82930               0         0        1             0          0  ...   \n",
       " 221965              0         0        0             0          0  ...   \n",
       " 72856               0         0        0             0          0  ...   \n",
       " 220131              0         0        0             0          1  ...   \n",
       " 212347              0         0        0             0          0  ...   \n",
       " 72717               0         0        0             0          0  ...   \n",
       " 305940              0         0        1             0          0  ...   \n",
       " 41330               0         1        0             0          0  ...   \n",
       " 62093               0         0        0             0          0  ...   \n",
       " 89478               0         0        0             0          0  ...   \n",
       " 294834              0         0        0             0          0  ...   \n",
       " 86013               0         0        0             0          0  ...   \n",
       " 41122               0         0        1             0          0  ...   \n",
       " 287744              0         0        0             0          0  ...   \n",
       " 64422               0         1        0             0          0  ...   \n",
       " 107196              0         0        1             0          0  ...   \n",
       " 228237              0         1        0             0          0  ...   \n",
       " 183711              0         0        0             0          0  ...   \n",
       " 25448               0         1        0             0          0  ...   \n",
       " 186283              0         0        0             0          1  ...   \n",
       " 245184              0         0        0             0          0  ...   \n",
       " 60938               0         0        0             0          0  ...   \n",
       " 50016               0         0        0             0          1  ...   \n",
       " 14335               0         0        0             1          0  ...   \n",
       " 10662               0         0        0             1          0  ...   \n",
       " 233221              0         1        0             0          0  ...   \n",
       " 119699              0         1        0             0          0  ...   \n",
       " 150744              0         0        1             0          0  ...   \n",
       " 43724               0         0        0             0          0  ...   \n",
       " ...               ...       ...      ...           ...        ...  ...   \n",
       " 125603              0         0        0             0          0  ...   \n",
       " 312010              0         0        0             0          1  ...   \n",
       " 303648              0         1        0             0          0  ...   \n",
       " 84665               1         0        0             0          0  ...   \n",
       " 183561              0         0        0             0          0  ...   \n",
       " 122144              0         0        0             0          0  ...   \n",
       " 221607              0         0        0             0          0  ...   \n",
       " 199827              0         0        0             0          0  ...   \n",
       " 49811               1         0        0             0          0  ...   \n",
       " 230131              0         0        0             0          1  ...   \n",
       " 31921               0         0        0             0          0  ...   \n",
       " 73135               0         0        1             0          0  ...   \n",
       " 7877                0         0        0             0          0  ...   \n",
       " 82457               0         0        0             0          1  ...   \n",
       " 255653              0         0        0             0          0  ...   \n",
       " 220760              0         1        0             0          0  ...   \n",
       " 150055              0         0        0             0          0  ...   \n",
       " 17089               0         0        0             0          1  ...   \n",
       " 80186               0         0        0             0          0  ...   \n",
       " 314764              0         0        0             0          0  ...   \n",
       " 170584              0         0        0             0          0  ...   \n",
       " 310744              0         0        1             0          0  ...   \n",
       " 212038              0         0        0             0          0  ...   \n",
       " 211543              0         1        0             0          0  ...   \n",
       " 86293               0         0        0             0          0  ...   \n",
       " 122579              0         0        1             0          0  ...   \n",
       " 304137              0         0        0             0          1  ...   \n",
       " 152315              0         0        0             0          0  ...   \n",
       " 117952              0         0        1             0          0  ...   \n",
       " 305711              0         0        0             0          0  ...   \n",
       " \n",
       "         Restraining Order Violations  Robbery  Search Warrants  Service  \\\n",
       " 90580                              0        0                0        0   \n",
       " 82930                              0        1                0        0   \n",
       " 221965                             0        0                0        0   \n",
       " 72856                              0        0                0        0   \n",
       " 220131                             0        0                0        0   \n",
       " 212347                             0        0                0        0   \n",
       " 72717                              0        0                0        0   \n",
       " 305940                             0        0                0        0   \n",
       " 41330                              0        0                0        0   \n",
       " 62093                              0        0                0        0   \n",
       " 89478                              0        0                0        0   \n",
       " 294834                             0        0                0        0   \n",
       " 86013                              0        0                0        0   \n",
       " 41122                              0        0                0        0   \n",
       " 287744                             0        0                0        0   \n",
       " 64422                              0        0                0        0   \n",
       " 107196                             0        1                0        0   \n",
       " 228237                             0        0                0        0   \n",
       " 183711                             0        0                0        0   \n",
       " 25448                              0        0                0        0   \n",
       " 186283                             0        0                0        0   \n",
       " 245184                             0        0                0        0   \n",
       " 60938                              1        0                0        0   \n",
       " 50016                              0        0                0        0   \n",
       " 14335                              0        0                0        0   \n",
       " 10662                              0        0                0        0   \n",
       " 233221                             0        0                0        0   \n",
       " 119699                             0        0                0        0   \n",
       " 150744                             0        0                0        0   \n",
       " 43724                              0        0                0        0   \n",
       " ...                              ...      ...              ...      ...   \n",
       " 125603                             0        0                0        0   \n",
       " 312010                             0        0                0        0   \n",
       " 303648                             0        0                0        0   \n",
       " 84665                              0        0                0        0   \n",
       " 183561                             0        0                0        0   \n",
       " 122144                             0        0                0        0   \n",
       " 221607                             0        0                0        0   \n",
       " 199827                             0        0                0        0   \n",
       " 49811                              0        0                0        0   \n",
       " 230131                             0        0                0        0   \n",
       " 31921                              0        1                0        0   \n",
       " 73135                              0        0                0        0   \n",
       " 7877                               0        0                0        0   \n",
       " 82457                              0        0                0        0   \n",
       " 255653                             0        0                0        0   \n",
       " 220760                             0        0                0        0   \n",
       " 150055                             0        0                0        0   \n",
       " 17089                              0        0                0        0   \n",
       " 80186                              0        0                0        0   \n",
       " 314764                             0        0                0        0   \n",
       " 170584                             0        0                0        0   \n",
       " 310744                             0        0                0        0   \n",
       " 212038                             0        0                0        0   \n",
       " 211543                             0        0                0        0   \n",
       " 86293                              0        0                0        0   \n",
       " 122579                             0        0                0        0   \n",
       " 304137                             0        0                0        0   \n",
       " 152315                             0        0                0        0   \n",
       " 117952                             0        0                0        0   \n",
       " 305711                             0        0                0        0   \n",
       " \n",
       "         Simple Assault  Towed  Vandalism  Verbal Disputes  Violations  \\\n",
       " 90580                0      0          0                0           0   \n",
       " 82930                0      0          0                0           0   \n",
       " 221965               0      0          0                0           0   \n",
       " 72856                0      0          0                0           0   \n",
       " 220131               0      0          0                0           0   \n",
       " 212347               0      0          0                0           0   \n",
       " 72717                0      0          0                0           0   \n",
       " 305940               0      0          1                0           0   \n",
       " 41330                0      0          0                0           0   \n",
       " 62093                0      0          0                1           0   \n",
       " 89478                0      0          0                0           0   \n",
       " 294834               0      0          0                0           0   \n",
       " 86013                1      0          0                0           0   \n",
       " 41122                0      0          0                0           0   \n",
       " 287744               0      0          0                0           1   \n",
       " 64422                0      0          0                0           0   \n",
       " 107196               0      0          0                0           0   \n",
       " 228237               0      0          0                0           0   \n",
       " 183711               0      0          0                0           0   \n",
       " 25448                0      0          0                0           0   \n",
       " 186283               0      0          0                0           0   \n",
       " 245184               0      0          0                0           0   \n",
       " 60938                0      0          0                0           0   \n",
       " 50016                0      0          1                0           0   \n",
       " 14335                0      0          0                0           0   \n",
       " 10662                0      0          0                0           0   \n",
       " 233221               0      0          0                1           0   \n",
       " 119699               0      0          0                0           0   \n",
       " 150744               0      0          0                0           0   \n",
       " 43724                0      0          1                0           0   \n",
       " ...                ...    ...        ...              ...         ...   \n",
       " 125603               0      0          0                0           0   \n",
       " 312010               0      0          0                0           0   \n",
       " 303648               0      0          0                0           0   \n",
       " 84665                0      0          0                0           0   \n",
       " 183561               0      1          0                0           0   \n",
       " 122144               0      0          0                0           0   \n",
       " 221607               0      0          0                0           0   \n",
       " 199827               0      0          0                0           0   \n",
       " 49811                0      0          0                0           0   \n",
       " 230131               0      0          0                0           0   \n",
       " 31921                0      0          0                0           0   \n",
       " 73135                0      0          0                0           1   \n",
       " 7877                 0      0          0                0           0   \n",
       " 82457                0      0          0                0           0   \n",
       " 255653               1      0          0                0           0   \n",
       " 220760               0      0          0                0           0   \n",
       " 150055               0      0          0                0           0   \n",
       " 17089                0      0          0                0           0   \n",
       " 80186                0      0          0                0           0   \n",
       " 314764               0      0          0                0           0   \n",
       " 170584               0      0          0                0           0   \n",
       " 310744               0      0          0                0           0   \n",
       " 212038               0      0          0                0           0   \n",
       " 211543               0      0          0                0           0   \n",
       " 86293                1      0          0                0           0   \n",
       " 122579               0      0          0                0           0   \n",
       " 304137               0      0          0                0           0   \n",
       " 152315               0      0          1                0           0   \n",
       " 117952               0      0          0                0           0   \n",
       " 305711               0      0          0                0           0   \n",
       " \n",
       "         Warrant Arrests  \n",
       " 90580                 0  \n",
       " 82930                 0  \n",
       " 221965                0  \n",
       " 72856                 0  \n",
       " 220131                0  \n",
       " 212347                0  \n",
       " 72717                 0  \n",
       " 305940                0  \n",
       " 41330                 0  \n",
       " 62093                 0  \n",
       " 89478                 0  \n",
       " 294834                0  \n",
       " 86013                 0  \n",
       " 41122                 0  \n",
       " 287744                0  \n",
       " 64422                 0  \n",
       " 107196                0  \n",
       " 228237                0  \n",
       " 183711                0  \n",
       " 25448                 0  \n",
       " 186283                0  \n",
       " 245184                0  \n",
       " 60938                 0  \n",
       " 50016                 0  \n",
       " 14335                 0  \n",
       " 10662                 0  \n",
       " 233221                0  \n",
       " 119699                0  \n",
       " 150744                0  \n",
       " 43724                 0  \n",
       " ...                 ...  \n",
       " 125603                0  \n",
       " 312010                0  \n",
       " 303648                0  \n",
       " 84665                 0  \n",
       " 183561                0  \n",
       " 122144                0  \n",
       " 221607                0  \n",
       " 199827                0  \n",
       " 49811                 0  \n",
       " 230131                0  \n",
       " 31921                 0  \n",
       " 73135                 0  \n",
       " 7877                  0  \n",
       " 82457                 0  \n",
       " 255653                0  \n",
       " 220760                0  \n",
       " 150055                0  \n",
       " 17089                 0  \n",
       " 80186                 0  \n",
       " 314764                0  \n",
       " 170584                0  \n",
       " 310744                0  \n",
       " 212038                0  \n",
       " 211543                0  \n",
       " 86293                 0  \n",
       " 122579                0  \n",
       " 304137                0  \n",
       " 152315                0  \n",
       " 117952                0  \n",
       " 305711                0  \n",
       " \n",
       " [236997 rows x 89 columns],\n",
       "         Charlestown  Dorchester  Downtown  East Boston  Hyde Park  \\\n",
       " 307453            0           0         1            0          0   \n",
       " 30398             1           0         0            0          0   \n",
       " 11933             0           0         0            0          0   \n",
       " 108145            1           0         0            0          0   \n",
       " 11074             0           0         0            0          0   \n",
       " 191997            0           1         0            0          0   \n",
       " 164996            0           1         0            0          0   \n",
       " 21721             0           0         1            0          0   \n",
       " 310012            0           1         0            0          0   \n",
       " 258529            0           0         0            0          0   \n",
       " 256229            0           0         0            0          0   \n",
       " 29630             0           0         0            1          0   \n",
       " 220516            0           0         0            0          0   \n",
       " 125639            0           0         0            0          0   \n",
       " 233139            0           0         0            0          0   \n",
       " 243049            0           0         0            0          0   \n",
       " 188440            0           0         0            0          0   \n",
       " 285741            0           0         0            0          0   \n",
       " 86315             0           0         0            0          0   \n",
       " 308982            0           0         0            0          0   \n",
       " 299248            0           0         0            0          0   \n",
       " 34084             0           0         0            0          0   \n",
       " 43024             0           1         0            0          0   \n",
       " 199782            0           0         0            1          0   \n",
       " 256327            0           0         0            0          0   \n",
       " 179496            0           0         0            0          0   \n",
       " 285628            0           0         0            0          0   \n",
       " 144766            0           0         0            0          0   \n",
       " 162600            0           0         0            0          0   \n",
       " 133085            0           0         0            0          0   \n",
       " ...             ...         ...       ...          ...        ...   \n",
       " 87275             0           0         0            1          0   \n",
       " 251069            0           0         1            0          0   \n",
       " 18380             0           0         0            0          0   \n",
       " 50996             1           0         0            0          0   \n",
       " 291268            0           0         0            0          0   \n",
       " 280894            1           0         0            0          0   \n",
       " 69095             0           0         0            0          0   \n",
       " 139734            0           0         0            0          0   \n",
       " 65785             0           1         0            0          0   \n",
       " 59602             0           0         0            0          0   \n",
       " 164993            0           0         0            0          1   \n",
       " 113684            0           0         0            0          0   \n",
       " 21924             0           1         0            0          0   \n",
       " 93904             0           0         0            1          0   \n",
       " 110273            0           0         0            0          0   \n",
       " 111670            0           0         0            0          1   \n",
       " 128818            0           1         0            0          0   \n",
       " 134558            0           1         0            0          0   \n",
       " 198677            0           0         0            0          0   \n",
       " 117136            0           0         0            0          0   \n",
       " 107550            0           0         1            0          0   \n",
       " 159821            0           0         0            0          0   \n",
       " 243126            0           0         0            0          0   \n",
       " 50104             0           0         0            0          1   \n",
       " 219533            0           0         0            0          0   \n",
       " 237431            0           0         0            0          0   \n",
       " 14718             0           0         0            0          0   \n",
       " 202514            0           0         0            0          0   \n",
       " 236371            0           0         0            0          1   \n",
       " 97670             0           0         0            0          0   \n",
       " \n",
       "         Jamaica Plain  Mattapan  Roxbury  South Boston  South End  ...  \\\n",
       " 307453              0         0        0             0          0  ...   \n",
       " 30398               0         0        0             0          0  ...   \n",
       " 11933               0         0        0             0          1  ...   \n",
       " 108145              0         0        0             0          0  ...   \n",
       " 11074               0         0        0             0          0  ...   \n",
       " 191997              0         0        0             0          0  ...   \n",
       " 164996              0         0        0             0          0  ...   \n",
       " 21721               0         0        0             0          0  ...   \n",
       " 310012              0         0        0             0          0  ...   \n",
       " 258529              0         0        0             0          1  ...   \n",
       " 256229              0         0        0             1          0  ...   \n",
       " 29630               0         0        0             0          0  ...   \n",
       " 220516              0         0        0             0          1  ...   \n",
       " 125639              0         0        0             0          0  ...   \n",
       " 233139              0         0        0             0          1  ...   \n",
       " 243049              0         0        0             1          0  ...   \n",
       " 188440              0         0        0             0          0  ...   \n",
       " 285741              0         0        0             0          1  ...   \n",
       " 86315               0         1        0             0          0  ...   \n",
       " 308982              0         0        0             1          0  ...   \n",
       " 299248              0         0        1             0          0  ...   \n",
       " 34084               0         0        0             0          1  ...   \n",
       " 43024               0         0        0             0          0  ...   \n",
       " 199782              0         0        0             0          0  ...   \n",
       " 256327              0         1        0             0          0  ...   \n",
       " 179496              0         0        1             0          0  ...   \n",
       " 285628              0         0        0             0          0  ...   \n",
       " 144766              0         0        0             1          0  ...   \n",
       " 162600              0         0        0             1          0  ...   \n",
       " 133085              1         0        0             0          0  ...   \n",
       " ...               ...       ...      ...           ...        ...  ...   \n",
       " 87275               0         0        0             0          0  ...   \n",
       " 251069              0         0        0             0          0  ...   \n",
       " 18380               0         0        0             0          1  ...   \n",
       " 50996               0         0        0             0          0  ...   \n",
       " 291268              0         0        1             0          0  ...   \n",
       " 280894              0         0        0             0          0  ...   \n",
       " 69095               0         0        0             0          0  ...   \n",
       " 139734              0         0        0             0          1  ...   \n",
       " 65785               0         0        0             0          0  ...   \n",
       " 59602               0         0        0             1          0  ...   \n",
       " 164993              0         0        0             0          0  ...   \n",
       " 113684              0         0        1             0          0  ...   \n",
       " 21924               0         0        0             0          0  ...   \n",
       " 93904               0         0        0             0          0  ...   \n",
       " 110273              0         0        1             0          0  ...   \n",
       " 111670              0         0        0             0          0  ...   \n",
       " 128818              0         0        0             0          0  ...   \n",
       " 134558              0         0        0             0          0  ...   \n",
       " 198677              0         1        0             0          0  ...   \n",
       " 117136              0         0        0             1          0  ...   \n",
       " 107550              0         0        0             0          0  ...   \n",
       " 159821              0         0        0             0          0  ...   \n",
       " 243126              0         0        1             0          0  ...   \n",
       " 50104               0         0        0             0          0  ...   \n",
       " 219533              0         1        0             0          0  ...   \n",
       " 237431              0         0        1             0          0  ...   \n",
       " 14718               0         0        0             0          1  ...   \n",
       " 202514              0         0        0             0          0  ...   \n",
       " 236371              0         0        0             0          0  ...   \n",
       " 97670               0         0        0             0          1  ...   \n",
       " \n",
       "         Restraining Order Violations  Robbery  Search Warrants  Service  \\\n",
       " 307453                             0        0                0        0   \n",
       " 30398                              0        0                0        0   \n",
       " 11933                              0        0                0        0   \n",
       " 108145                             0        0                0        0   \n",
       " 11074                              0        0                0        0   \n",
       " 191997                             0        0                0        0   \n",
       " 164996                             0        0                0        0   \n",
       " 21721                              0        0                0        0   \n",
       " 310012                             0        0                0        0   \n",
       " 258529                             0        0                0        0   \n",
       " 256229                             0        0                0        0   \n",
       " 29630                              0        0                0        0   \n",
       " 220516                             0        0                0        0   \n",
       " 125639                             0        0                0        0   \n",
       " 233139                             0        0                0        0   \n",
       " 243049                             0        0                0        0   \n",
       " 188440                             0        0                0        0   \n",
       " 285741                             0        0                0        0   \n",
       " 86315                              0        0                0        0   \n",
       " 308982                             0        0                0        0   \n",
       " 299248                             0        0                0        0   \n",
       " 34084                              0        0                0        0   \n",
       " 43024                              0        0                0        0   \n",
       " 199782                             0        0                0        0   \n",
       " 256327                             0        0                0        0   \n",
       " 179496                             0        0                0        0   \n",
       " 285628                             0        0                0        0   \n",
       " 144766                             0        0                0        0   \n",
       " 162600                             0        0                0        0   \n",
       " 133085                             0        0                0        0   \n",
       " ...                              ...      ...              ...      ...   \n",
       " 87275                              0        0                0        0   \n",
       " 251069                             0        0                0        0   \n",
       " 18380                              0        0                0        0   \n",
       " 50996                              0        0                0        0   \n",
       " 291268                             0        0                0        0   \n",
       " 280894                             0        0                0        0   \n",
       " 69095                              0        0                0        0   \n",
       " 139734                             0        0                0        0   \n",
       " 65785                              0        0                0        0   \n",
       " 59602                              0        0                0        0   \n",
       " 164993                             0        0                0        0   \n",
       " 113684                             0        0                0        0   \n",
       " 21924                              0        0                0        0   \n",
       " 93904                              0        0                0        0   \n",
       " 110273                             0        0                0        0   \n",
       " 111670                             0        0                0        0   \n",
       " 128818                             0        0                0        0   \n",
       " 134558                             0        0                0        0   \n",
       " 198677                             0        0                0        0   \n",
       " 117136                             0        0                0        0   \n",
       " 107550                             0        0                0        0   \n",
       " 159821                             0        0                0        0   \n",
       " 243126                             0        0                0        0   \n",
       " 50104                              0        0                0        0   \n",
       " 219533                             0        0                0        0   \n",
       " 237431                             0        0                0        0   \n",
       " 14718                              0        0                0        0   \n",
       " 202514                             0        0                0        0   \n",
       " 236371                             0        0                0        0   \n",
       " 97670                              0        0                0        0   \n",
       " \n",
       "         Simple Assault  Towed  Vandalism  Verbal Disputes  Violations  \\\n",
       " 307453               0      0          0                0           0   \n",
       " 30398                0      0          0                0           0   \n",
       " 11933                0      0          0                0           0   \n",
       " 108145               0      1          0                0           0   \n",
       " 11074                0      1          0                0           0   \n",
       " 191997               0      0          0                0           0   \n",
       " 164996               0      0          0                0           0   \n",
       " 21721                0      0          0                0           0   \n",
       " 310012               0      0          0                0           0   \n",
       " 258529               0      1          0                0           0   \n",
       " 256229               0      0          0                0           0   \n",
       " 29630                0      0          0                0           0   \n",
       " 220516               0      0          0                0           0   \n",
       " 125639               0      0          0                0           0   \n",
       " 233139               0      0          0                0           0   \n",
       " 243049               0      0          0                0           0   \n",
       " 188440               0      0          0                0           0   \n",
       " 285741               0      0          0                0           0   \n",
       " 86315                0      0          0                0           0   \n",
       " 308982               0      0          0                1           0   \n",
       " 299248               0      0          0                0           0   \n",
       " 34084                0      0          0                0           0   \n",
       " 43024                1      0          0                0           0   \n",
       " 199782               0      0          1                0           0   \n",
       " 256327               0      0          0                1           0   \n",
       " 179496               0      0          0                0           0   \n",
       " 285628               0      0          0                0           0   \n",
       " 144766               0      0          1                0           0   \n",
       " 162600               1      0          0                0           0   \n",
       " 133085               0      0          0                0           0   \n",
       " ...                ...    ...        ...              ...         ...   \n",
       " 87275                0      0          0                0           0   \n",
       " 251069               0      0          0                0           0   \n",
       " 18380                0      1          0                0           0   \n",
       " 50996                0      1          0                0           0   \n",
       " 291268               0      0          0                0           0   \n",
       " 280894               0      0          0                0           1   \n",
       " 69095                1      0          0                0           0   \n",
       " 139734               0      0          0                0           0   \n",
       " 65785                0      0          0                0           0   \n",
       " 59602                0      0          0                0           0   \n",
       " 164993               0      0          0                0           0   \n",
       " 113684               0      1          0                0           0   \n",
       " 21924                0      0          1                0           0   \n",
       " 93904                0      0          0                0           0   \n",
       " 110273               0      0          0                0           0   \n",
       " 111670               0      0          0                0           0   \n",
       " 128818               0      0          0                0           0   \n",
       " 134558               0      0          0                0           0   \n",
       " 198677               0      0          0                0           0   \n",
       " 117136               0      0          0                0           0   \n",
       " 107550               0      0          0                0           0   \n",
       " 159821               0      0          0                0           0   \n",
       " 243126               0      0          0                0           0   \n",
       " 50104                0      0          0                0           0   \n",
       " 219533               0      0          0                0           0   \n",
       " 237431               0      0          0                0           0   \n",
       " 14718                0      0          0                0           0   \n",
       " 202514               0      0          0                0           0   \n",
       " 236371               0      0          0                0           0   \n",
       " 97670                0      0          0                0           0   \n",
       " \n",
       "         Warrant Arrests  \n",
       " 307453                0  \n",
       " 30398                 0  \n",
       " 11933                 0  \n",
       " 108145                0  \n",
       " 11074                 0  \n",
       " 191997                0  \n",
       " 164996                0  \n",
       " 21721                 0  \n",
       " 310012                0  \n",
       " 258529                0  \n",
       " 256229                0  \n",
       " 29630                 0  \n",
       " 220516                0  \n",
       " 125639                0  \n",
       " 233139                0  \n",
       " 243049                0  \n",
       " 188440                0  \n",
       " 285741                0  \n",
       " 86315                 0  \n",
       " 308982                0  \n",
       " 299248                0  \n",
       " 34084                 0  \n",
       " 43024                 0  \n",
       " 199782                0  \n",
       " 256327                0  \n",
       " 179496                0  \n",
       " 285628                0  \n",
       " 144766                0  \n",
       " 162600                0  \n",
       " 133085                0  \n",
       " ...                 ...  \n",
       " 87275                 0  \n",
       " 251069                0  \n",
       " 18380                 0  \n",
       " 50996                 0  \n",
       " 291268                0  \n",
       " 280894                0  \n",
       " 69095                 0  \n",
       " 139734                0  \n",
       " 65785                 0  \n",
       " 59602                 0  \n",
       " 164993                0  \n",
       " 113684                0  \n",
       " 21924                 0  \n",
       " 93904                 0  \n",
       " 110273                0  \n",
       " 111670                0  \n",
       " 128818                0  \n",
       " 134558                1  \n",
       " 198677                0  \n",
       " 117136                0  \n",
       " 107550                0  \n",
       " 159821                0  \n",
       " 243126                1  \n",
       " 50104                 0  \n",
       " 219533                0  \n",
       " 237431                0  \n",
       " 14718                 0  \n",
       " 202514                0  \n",
       " 236371                0  \n",
       " 97670                 0  \n",
       " \n",
       " [79000 rows x 89 columns],\n",
       " 90580     2\n",
       " 82930     0\n",
       " 221965    0\n",
       " 72856     2\n",
       " 220131    0\n",
       " 212347    2\n",
       " 72717     2\n",
       " 305940    1\n",
       " 41330     1\n",
       " 62093     2\n",
       " 89478     1\n",
       " 294834    0\n",
       " 86013     1\n",
       " 41122     2\n",
       " 287744    1\n",
       " 64422     2\n",
       " 107196    0\n",
       " 228237    0\n",
       " 183711    2\n",
       " 25448     0\n",
       " 186283    2\n",
       " 245184    2\n",
       " 60938     1\n",
       " 50016     1\n",
       " 14335     2\n",
       " 10662     2\n",
       " 233221    2\n",
       " 119699    1\n",
       " 150744    2\n",
       " 43724     1\n",
       "          ..\n",
       " 125603    2\n",
       " 312010    0\n",
       " 303648    2\n",
       " 84665     2\n",
       " 183561    2\n",
       " 122144    1\n",
       " 221607    0\n",
       " 199827    1\n",
       " 49811     0\n",
       " 230131    0\n",
       " 31921     0\n",
       " 73135     1\n",
       " 7877      2\n",
       " 82457     1\n",
       " 255653    1\n",
       " 220760    0\n",
       " 150055    1\n",
       " 17089     2\n",
       " 80186     1\n",
       " 314764    0\n",
       " 170584    2\n",
       " 310744    1\n",
       " 212038    1\n",
       " 211543    0\n",
       " 86293     1\n",
       " 122579    2\n",
       " 304137    2\n",
       " 152315    1\n",
       " 117952    1\n",
       " 305711    2\n",
       " Name: UCR, Length: 236997, dtype: int64,\n",
       " 307453    2\n",
       " 30398     2\n",
       " 11933     1\n",
       " 108145    2\n",
       " 11074     2\n",
       " 191997    2\n",
       " 164996    0\n",
       " 21721     2\n",
       " 310012    2\n",
       " 258529    2\n",
       " 256229    1\n",
       " 29630     0\n",
       " 220516    2\n",
       " 125639    2\n",
       " 233139    0\n",
       " 243049    2\n",
       " 188440    1\n",
       " 285741    0\n",
       " 86315     2\n",
       " 308982    2\n",
       " 299248    2\n",
       " 34084     2\n",
       " 43024     1\n",
       " 199782    1\n",
       " 256327    2\n",
       " 179496    2\n",
       " 285628    2\n",
       " 144766    1\n",
       " 162600    1\n",
       " 133085    2\n",
       "          ..\n",
       " 87275     2\n",
       " 251069    1\n",
       " 18380     2\n",
       " 50996     2\n",
       " 291268    0\n",
       " 280894    1\n",
       " 69095     1\n",
       " 139734    0\n",
       " 65785     2\n",
       " 59602     2\n",
       " 164993    2\n",
       " 113684    2\n",
       " 21924     1\n",
       " 93904     1\n",
       " 110273    2\n",
       " 111670    0\n",
       " 128818    1\n",
       " 134558    2\n",
       " 198677    2\n",
       " 117136    0\n",
       " 107550    0\n",
       " 159821    1\n",
       " 243126    2\n",
       " 50104     2\n",
       " 219533    2\n",
       " 237431    1\n",
       " 14718     0\n",
       " 202514    2\n",
       " 236371    2\n",
       " 97670     0\n",
       " Name: UCR, Length: 79000, dtype: int64)"
      ]
     },
     "execution_count": 20,
     "metadata": {},
     "output_type": "execute_result"
    }
   ],
   "source": [
    "data_split(ucr_all)"
   ]
  },
  {
   "cell_type": "code",
   "execution_count": 21,
   "metadata": {},
   "outputs": [],
   "source": [
    "X=X=ucr_all.iloc[:,:-1]\n",
    "y=ucr_all.iloc[:,-1]\n",
    "X_train, X_test, y_train, y_test = train_test_split(X, y, test_size=0.25, random_state=0)"
   ]
  },
  {
   "cell_type": "markdown",
   "metadata": {},
   "source": [
    "## K-Means"
   ]
  },
  {
   "cell_type": "code",
   "execution_count": 5,
   "metadata": {},
   "outputs": [],
   "source": [
    "from sklearn.cluster import KMeans"
   ]
  },
  {
   "cell_type": "code",
   "execution_count": 24,
   "metadata": {},
   "outputs": [
    {
     "data": {
      "image/png": "[encoded data removed]",
      "text/plain": [
       "<Figure size 864x432 with 1 Axes>"
      ]
     },
     "metadata": {
      "needs_background": "light"
     },
     "output_type": "display_data"
    }
   ],
   "source": [
    "wcss=[]\n",
    "\n",
    "for i in range (1,10):\n",
    "    \n",
    "    kmeans=KMeans(n_clusters=i, init='k-means++', max_iter=300, n_init=10, random_state=0)\n",
    "    kmeans.fit(X)\n",
    "    wcss.append(kmeans.inertia_)\n",
    "\n",
    "plt.figure(figsize=(12,6))\n",
    "plt.plot(range(1,10),wcss, 'o-')\n",
    "plt.xlabel(\"Number of Clusters\")\n",
    "plt.ylabel(\"WCSS\")\n",
    "plt.show()"
   ]
  },
  {
   "cell_type": "code",
   "execution_count": 29,
   "metadata": {},
   "outputs": [
    {
     "data": {
      "image/png": "[encoded data removed]",
      "text/plain": [
       "<Figure size 864x432 with 1 Axes>"
      ]
     },
     "metadata": {
      "needs_background": "light"
     },
     "output_type": "display_data"
    }
   ],
   "source": [
    "silhouettes = []\n",
    "\n",
    "for i in range(2,30):\n",
    "    \n",
    "    kmeans=KMeans(n_clusters=i,init='k-means++', max_iter=300, n_init=10, random_state=0)\n",
    "    kmeans.fit(X)\n",
    "    preds=kmeans.predict(X)\n",
    "    silhouettes.append(silhouette_score(X, preds))\n",
    "    \n",
    "plt.figure(figsize=(12,6))\n",
    "plt.plot(range(2,30), silhouettes,'o-')\n",
    "plt.xlabel(\"Number of Clusters\")\n",
    "plt.ylabel(\"Silhouette score\")\n",
    "plt.show()"
   ]
  },
  {
   "cell_type": "code",
   "execution_count": 30,
   "metadata": {},
   "outputs": [],
   "source": [
    "kmeans=KMeans(n_clusters =3, init='k-means++',max_iter=300, n_init=10, random_state=0)"
   ]
  },
  {
   "cell_type": "code",
   "execution_count": 31,
   "metadata": {},
   "outputs": [],
   "source": [
    "kmeans_pred=kmeans.fit_predict(X)"
   ]
  },
  {
   "cell_type": "code",
   "execution_count": 32,
   "metadata": {},
   "outputs": [
    {
     "data": {
      "text/plain": [
       "(3, 89)"
      ]
     },
     "execution_count": 32,
     "metadata": {},
     "output_type": "execute_result"
    }
   ],
   "source": [
    "kmeans.cluster_centers_.shape"
   ]
  },
  {
   "cell_type": "code",
   "execution_count": 33,
   "metadata": {},
   "outputs": [
    {
     "data": {
      "text/plain": [
       "array([0, 0, 0, ..., 0, 1, 0])"
      ]
     },
     "execution_count": 33,
     "metadata": {},
     "output_type": "execute_result"
    }
   ],
   "source": [
    "kmeans.labels_"
   ]
  },
  {
   "cell_type": "code",
   "execution_count": 34,
   "metadata": {},
   "outputs": [
    {
     "name": "stdout",
     "output_type": "stream",
     "text": [
      "              precision    recall  f1-score   support\n",
      "\n",
      "           0       0.34      0.35      0.34      3301\n",
      "           1       0.34      0.30      0.32      3423\n",
      "           2       0.36      0.40      0.38      3276\n",
      "\n",
      "   micro avg       0.35      0.35      0.35     10000\n",
      "   macro avg       0.35      0.35      0.35     10000\n",
      "weighted avg       0.35      0.35      0.35     10000\n",
      "\n"
     ]
    }
   ],
   "source": [
    "print(classification_report(y,kmeans_pred))"
   ]
  },
  {
   "cell_type": "markdown",
   "metadata": {},
   "source": [
    "## Random Sample Selection, in case rows are too much to be finished in a short time"
   ]
  },
  {
   "cell_type": "code",
   "execution_count": 28,
   "metadata": {},
   "outputs": [],
   "source": [
    "sample_size=100000\n",
    "random_state=42\n",
    "\n",
    "\n",
    "df_r=ucr_all.sample(n=sample_size,random_state=random_state)\n",
    "X=df_r.iloc[:,:-1]\n",
    "y=df_r.iloc[:,-1]\n",
    "X_train, X_test, y_train, y_test=train_test_split(X,y,test_size=0.2,random_state=0)"
   ]
  },
  {
   "cell_type": "markdown",
   "metadata": {},
   "source": [
    "## KNN"
   ]
  },
  {
   "cell_type": "code",
   "execution_count": 12,
   "metadata": {},
   "outputs": [],
   "source": [
    "#X=df_tree.iloc[:,:-1]\n",
    "#y=df_tree.iloc[:,-1]\n",
    "X_train, X_test, y_train, y_test=train_test_split(X,y,test_size=0.2,random_state=0)"
   ]
  },
  {
   "cell_type": "code",
   "execution_count": 13,
   "metadata": {},
   "outputs": [
    {
     "data": {
      "text/html": [
       "<div>\n",
       "<style scoped>\n",
       "    .dataframe tbody tr th:only-of-type {\n",
       "        vertical-align: middle;\n",
       "    }\n",
       "\n",
       "    .dataframe tbody tr th {\n",
       "        vertical-align: top;\n",
       "    }\n",
       "\n",
       "    .dataframe thead th {\n",
       "        text-align: right;\n",
       "    }\n",
       "</style>\n",
       "<table border=\"1\" class=\"dataframe\">\n",
       "  <thead>\n",
       "    <tr style=\"text-align: right;\">\n",
       "      <th></th>\n",
       "      <th>Charlestown</th>\n",
       "      <th>Dorchester</th>\n",
       "      <th>Downtown</th>\n",
       "      <th>East Boston</th>\n",
       "      <th>Hyde Park</th>\n",
       "      <th>Jamaica Plain</th>\n",
       "      <th>Mattapan</th>\n",
       "      <th>Roxbury</th>\n",
       "      <th>South Boston</th>\n",
       "      <th>South End</th>\n",
       "      <th>...</th>\n",
       "      <th>Restraining Order Violations</th>\n",
       "      <th>Robbery</th>\n",
       "      <th>Search Warrants</th>\n",
       "      <th>Service</th>\n",
       "      <th>Simple Assault</th>\n",
       "      <th>Towed</th>\n",
       "      <th>Vandalism</th>\n",
       "      <th>Verbal Disputes</th>\n",
       "      <th>Violations</th>\n",
       "      <th>Warrant Arrests</th>\n",
       "    </tr>\n",
       "  </thead>\n",
       "  <tbody>\n",
       "    <tr>\n",
       "      <th>0</th>\n",
       "      <td>0</td>\n",
       "      <td>0</td>\n",
       "      <td>0</td>\n",
       "      <td>0</td>\n",
       "      <td>0</td>\n",
       "      <td>0</td>\n",
       "      <td>0</td>\n",
       "      <td>0</td>\n",
       "      <td>0</td>\n",
       "      <td>0</td>\n",
       "      <td>...</td>\n",
       "      <td>0</td>\n",
       "      <td>0</td>\n",
       "      <td>0</td>\n",
       "      <td>0</td>\n",
       "      <td>0</td>\n",
       "      <td>0</td>\n",
       "      <td>0</td>\n",
       "      <td>0</td>\n",
       "      <td>0</td>\n",
       "      <td>0</td>\n",
       "    </tr>\n",
       "    <tr>\n",
       "      <th>1</th>\n",
       "      <td>0</td>\n",
       "      <td>1</td>\n",
       "      <td>0</td>\n",
       "      <td>0</td>\n",
       "      <td>0</td>\n",
       "      <td>0</td>\n",
       "      <td>0</td>\n",
       "      <td>0</td>\n",
       "      <td>0</td>\n",
       "      <td>0</td>\n",
       "      <td>...</td>\n",
       "      <td>0</td>\n",
       "      <td>0</td>\n",
       "      <td>0</td>\n",
       "      <td>0</td>\n",
       "      <td>0</td>\n",
       "      <td>0</td>\n",
       "      <td>1</td>\n",
       "      <td>0</td>\n",
       "      <td>0</td>\n",
       "      <td>0</td>\n",
       "    </tr>\n",
       "    <tr>\n",
       "      <th>2</th>\n",
       "      <td>0</td>\n",
       "      <td>0</td>\n",
       "      <td>0</td>\n",
       "      <td>0</td>\n",
       "      <td>0</td>\n",
       "      <td>0</td>\n",
       "      <td>0</td>\n",
       "      <td>0</td>\n",
       "      <td>0</td>\n",
       "      <td>1</td>\n",
       "      <td>...</td>\n",
       "      <td>0</td>\n",
       "      <td>0</td>\n",
       "      <td>0</td>\n",
       "      <td>0</td>\n",
       "      <td>0</td>\n",
       "      <td>1</td>\n",
       "      <td>0</td>\n",
       "      <td>0</td>\n",
       "      <td>0</td>\n",
       "      <td>0</td>\n",
       "    </tr>\n",
       "    <tr>\n",
       "      <th>3</th>\n",
       "      <td>0</td>\n",
       "      <td>0</td>\n",
       "      <td>0</td>\n",
       "      <td>0</td>\n",
       "      <td>0</td>\n",
       "      <td>0</td>\n",
       "      <td>0</td>\n",
       "      <td>0</td>\n",
       "      <td>0</td>\n",
       "      <td>1</td>\n",
       "      <td>...</td>\n",
       "      <td>0</td>\n",
       "      <td>0</td>\n",
       "      <td>0</td>\n",
       "      <td>0</td>\n",
       "      <td>0</td>\n",
       "      <td>0</td>\n",
       "      <td>0</td>\n",
       "      <td>0</td>\n",
       "      <td>0</td>\n",
       "      <td>0</td>\n",
       "    </tr>\n",
       "    <tr>\n",
       "      <th>4</th>\n",
       "      <td>0</td>\n",
       "      <td>0</td>\n",
       "      <td>0</td>\n",
       "      <td>0</td>\n",
       "      <td>0</td>\n",
       "      <td>0</td>\n",
       "      <td>1</td>\n",
       "      <td>0</td>\n",
       "      <td>0</td>\n",
       "      <td>0</td>\n",
       "      <td>...</td>\n",
       "      <td>0</td>\n",
       "      <td>0</td>\n",
       "      <td>0</td>\n",
       "      <td>0</td>\n",
       "      <td>0</td>\n",
       "      <td>0</td>\n",
       "      <td>0</td>\n",
       "      <td>0</td>\n",
       "      <td>0</td>\n",
       "      <td>0</td>\n",
       "    </tr>\n",
       "  </tbody>\n",
       "</table>\n",
       "<p>5 rows × 89 columns</p>\n",
       "</div>"
      ],
      "text/plain": [
       "   Charlestown  Dorchester  Downtown  East Boston  Hyde Park  Jamaica Plain  \\\n",
       "0            0           0         0            0          0              0   \n",
       "1            0           1         0            0          0              0   \n",
       "2            0           0         0            0          0              0   \n",
       "3            0           0         0            0          0              0   \n",
       "4            0           0         0            0          0              0   \n",
       "\n",
       "   Mattapan  Roxbury  South Boston  South End  ...  \\\n",
       "0         0        0             0          0  ...   \n",
       "1         0        0             0          0  ...   \n",
       "2         0        0             0          1  ...   \n",
       "3         0        0             0          1  ...   \n",
       "4         1        0             0          0  ...   \n",
       "\n",
       "   Restraining Order Violations  Robbery  Search Warrants  Service  \\\n",
       "0                             0        0                0        0   \n",
       "1                             0        0                0        0   \n",
       "2                             0        0                0        0   \n",
       "3                             0        0                0        0   \n",
       "4                             0        0                0        0   \n",
       "\n",
       "   Simple Assault  Towed  Vandalism  Verbal Disputes  Violations  \\\n",
       "0               0      0          0                0           0   \n",
       "1               0      0          1                0           0   \n",
       "2               0      1          0                0           0   \n",
       "3               0      0          0                0           0   \n",
       "4               0      0          0                0           0   \n",
       "\n",
       "   Warrant Arrests  \n",
       "0                0  \n",
       "1                0  \n",
       "2                0  \n",
       "3                0  \n",
       "4                0  \n",
       "\n",
       "[5 rows x 89 columns]"
      ]
     },
     "execution_count": 13,
     "metadata": {},
     "output_type": "execute_result"
    }
   ],
   "source": [
    "X.head()"
   ]
  },
  {
   "cell_type": "code",
   "execution_count": 14,
   "metadata": {},
   "outputs": [
    {
     "data": {
      "text/plain": [
       "KNeighborsClassifier(algorithm='auto', leaf_size=30, metric='minkowski',\n",
       "           metric_params=None, n_jobs=None, n_neighbors=3, p=2,\n",
       "           weights='uniform')"
      ]
     },
     "execution_count": 14,
     "metadata": {},
     "output_type": "execute_result"
    }
   ],
   "source": [
    "#Set it to Euclidean Distance measure\n",
    "knn=KNeighborsClassifier(n_neighbors=3, metric='minkowski',p=2)\n",
    "knn.fit(X_train,y_train)"
   ]
  },
  {
   "cell_type": "code",
   "execution_count": 15,
   "metadata": {},
   "outputs": [],
   "source": [
    "knn_pred=knn.predict(X_test)"
   ]
  },
  {
   "cell_type": "code",
   "execution_count": 16,
   "metadata": {},
   "outputs": [
    {
     "name": "stdout",
     "output_type": "stream",
     "text": [
      "              precision    recall  f1-score   support\n",
      "\n",
      "           0       0.83      0.98      0.90     12334\n",
      "           1       0.98      0.92      0.95     19408\n",
      "           2       0.99      0.96      0.97     31458\n",
      "\n",
      "   micro avg       0.95      0.95      0.95     63200\n",
      "   macro avg       0.93      0.95      0.94     63200\n",
      "weighted avg       0.95      0.95      0.95     63200\n",
      "\n",
      "[[12030    82   222]\n",
      " [ 1356 17843   209]\n",
      " [ 1130   224 30104]]\n"
     ]
    }
   ],
   "source": [
    "print(classification_report(y_test,knn_pred))\n",
    "print(confusion_matrix(y_test, knn_pred))"
   ]
  },
  {
   "cell_type": "markdown",
   "metadata": {},
   "source": [
    "## Naive Bayes"
   ]
  },
  {
   "cell_type": "code",
   "execution_count": 17,
   "metadata": {},
   "outputs": [
    {
     "data": {
      "text/plain": [
       "GaussianNB(priors=None, var_smoothing=1e-09)"
      ]
     },
     "execution_count": 17,
     "metadata": {},
     "output_type": "execute_result"
    }
   ],
   "source": [
    "naive_b=GaussianNB()\n",
    "naive_b.fit(X_train, y_train)"
   ]
  },
  {
   "cell_type": "code",
   "execution_count": 18,
   "metadata": {},
   "outputs": [],
   "source": [
    "naive_preds=naive_b.predict(X_test)"
   ]
  },
  {
   "cell_type": "code",
   "execution_count": 19,
   "metadata": {},
   "outputs": [
    {
     "name": "stdout",
     "output_type": "stream",
     "text": [
      "              precision    recall  f1-score   support\n",
      "\n",
      "           0       1.00      1.00      1.00     12334\n",
      "           1       0.99      1.00      0.99     19408\n",
      "           2       1.00      0.99      1.00     31458\n",
      "\n",
      "   micro avg       1.00      1.00      1.00     63200\n",
      "   macro avg       1.00      1.00      1.00     63200\n",
      "weighted avg       1.00      1.00      1.00     63200\n",
      "\n",
      "[[12334     0     0]\n",
      " [    0 19380    28]\n",
      " [    0   201 31257]]\n"
     ]
    }
   ],
   "source": [
    "print(classification_report(y_test,naive_preds))\n",
    "print(confusion_matrix(y_test, naive_preds))"
   ]
  },
  {
   "cell_type": "markdown",
   "metadata": {},
   "source": [
    "## SVM"
   ]
  },
  {
   "cell_type": "code",
   "execution_count": 152,
   "metadata": {},
   "outputs": [
    {
     "data": {
      "text/html": [
       "<div>\n",
       "<style scoped>\n",
       "    .dataframe tbody tr th:only-of-type {\n",
       "        vertical-align: middle;\n",
       "    }\n",
       "\n",
       "    .dataframe tbody tr th {\n",
       "        vertical-align: top;\n",
       "    }\n",
       "\n",
       "    .dataframe thead th {\n",
       "        text-align: right;\n",
       "    }\n",
       "</style>\n",
       "<table border=\"1\" class=\"dataframe\">\n",
       "  <thead>\n",
       "    <tr style=\"text-align: right;\">\n",
       "      <th></th>\n",
       "      <th>Charlestown</th>\n",
       "      <th>Dorchester</th>\n",
       "      <th>Downtown</th>\n",
       "      <th>East Boston</th>\n",
       "      <th>Hyde Park</th>\n",
       "      <th>Jamaica Plain</th>\n",
       "      <th>Mattapan</th>\n",
       "      <th>Roxbury</th>\n",
       "      <th>South Boston</th>\n",
       "      <th>South End</th>\n",
       "      <th>...</th>\n",
       "      <th>Robbery</th>\n",
       "      <th>Search Warrants</th>\n",
       "      <th>Service</th>\n",
       "      <th>Simple Assault</th>\n",
       "      <th>Towed</th>\n",
       "      <th>Vandalism</th>\n",
       "      <th>Verbal Disputes</th>\n",
       "      <th>Violations</th>\n",
       "      <th>Warrant Arrests</th>\n",
       "      <th>UCR</th>\n",
       "    </tr>\n",
       "  </thead>\n",
       "  <tbody>\n",
       "    <tr>\n",
       "      <th>0</th>\n",
       "      <td>0</td>\n",
       "      <td>0</td>\n",
       "      <td>0</td>\n",
       "      <td>0</td>\n",
       "      <td>0</td>\n",
       "      <td>0</td>\n",
       "      <td>0</td>\n",
       "      <td>0</td>\n",
       "      <td>0</td>\n",
       "      <td>0</td>\n",
       "      <td>...</td>\n",
       "      <td>0</td>\n",
       "      <td>0</td>\n",
       "      <td>0</td>\n",
       "      <td>0</td>\n",
       "      <td>0</td>\n",
       "      <td>0</td>\n",
       "      <td>0</td>\n",
       "      <td>0</td>\n",
       "      <td>0</td>\n",
       "      <td>0</td>\n",
       "    </tr>\n",
       "    <tr>\n",
       "      <th>1</th>\n",
       "      <td>0</td>\n",
       "      <td>1</td>\n",
       "      <td>0</td>\n",
       "      <td>0</td>\n",
       "      <td>0</td>\n",
       "      <td>0</td>\n",
       "      <td>0</td>\n",
       "      <td>0</td>\n",
       "      <td>0</td>\n",
       "      <td>0</td>\n",
       "      <td>...</td>\n",
       "      <td>0</td>\n",
       "      <td>0</td>\n",
       "      <td>0</td>\n",
       "      <td>0</td>\n",
       "      <td>0</td>\n",
       "      <td>1</td>\n",
       "      <td>0</td>\n",
       "      <td>0</td>\n",
       "      <td>0</td>\n",
       "      <td>1</td>\n",
       "    </tr>\n",
       "    <tr>\n",
       "      <th>2</th>\n",
       "      <td>0</td>\n",
       "      <td>0</td>\n",
       "      <td>0</td>\n",
       "      <td>0</td>\n",
       "      <td>0</td>\n",
       "      <td>0</td>\n",
       "      <td>0</td>\n",
       "      <td>0</td>\n",
       "      <td>0</td>\n",
       "      <td>1</td>\n",
       "      <td>...</td>\n",
       "      <td>0</td>\n",
       "      <td>0</td>\n",
       "      <td>0</td>\n",
       "      <td>0</td>\n",
       "      <td>1</td>\n",
       "      <td>0</td>\n",
       "      <td>0</td>\n",
       "      <td>0</td>\n",
       "      <td>0</td>\n",
       "      <td>2</td>\n",
       "    </tr>\n",
       "    <tr>\n",
       "      <th>3</th>\n",
       "      <td>0</td>\n",
       "      <td>0</td>\n",
       "      <td>0</td>\n",
       "      <td>0</td>\n",
       "      <td>0</td>\n",
       "      <td>0</td>\n",
       "      <td>0</td>\n",
       "      <td>0</td>\n",
       "      <td>0</td>\n",
       "      <td>1</td>\n",
       "      <td>...</td>\n",
       "      <td>0</td>\n",
       "      <td>0</td>\n",
       "      <td>0</td>\n",
       "      <td>0</td>\n",
       "      <td>0</td>\n",
       "      <td>0</td>\n",
       "      <td>0</td>\n",
       "      <td>0</td>\n",
       "      <td>0</td>\n",
       "      <td>2</td>\n",
       "    </tr>\n",
       "    <tr>\n",
       "      <th>4</th>\n",
       "      <td>0</td>\n",
       "      <td>0</td>\n",
       "      <td>0</td>\n",
       "      <td>0</td>\n",
       "      <td>0</td>\n",
       "      <td>0</td>\n",
       "      <td>1</td>\n",
       "      <td>0</td>\n",
       "      <td>0</td>\n",
       "      <td>0</td>\n",
       "      <td>...</td>\n",
       "      <td>0</td>\n",
       "      <td>0</td>\n",
       "      <td>0</td>\n",
       "      <td>0</td>\n",
       "      <td>0</td>\n",
       "      <td>0</td>\n",
       "      <td>0</td>\n",
       "      <td>0</td>\n",
       "      <td>0</td>\n",
       "      <td>2</td>\n",
       "    </tr>\n",
       "  </tbody>\n",
       "</table>\n",
       "<p>5 rows × 90 columns</p>\n",
       "</div>"
      ],
      "text/plain": [
       "   Charlestown  Dorchester  Downtown  East Boston  Hyde Park  Jamaica Plain  \\\n",
       "0            0           0         0            0          0              0   \n",
       "1            0           1         0            0          0              0   \n",
       "2            0           0         0            0          0              0   \n",
       "3            0           0         0            0          0              0   \n",
       "4            0           0         0            0          0              0   \n",
       "\n",
       "   Mattapan  Roxbury  South Boston  South End  ...  Robbery  Search Warrants  \\\n",
       "0         0        0             0          0  ...        0                0   \n",
       "1         0        0             0          0  ...        0                0   \n",
       "2         0        0             0          1  ...        0                0   \n",
       "3         0        0             0          1  ...        0                0   \n",
       "4         1        0             0          0  ...        0                0   \n",
       "\n",
       "   Service  Simple Assault  Towed  Vandalism  Verbal Disputes  Violations  \\\n",
       "0        0               0      0          0                0           0   \n",
       "1        0               0      0          1                0           0   \n",
       "2        0               0      1          0                0           0   \n",
       "3        0               0      0          0                0           0   \n",
       "4        0               0      0          0                0           0   \n",
       "\n",
       "   Warrant Arrests  UCR  \n",
       "0                0    0  \n",
       "1                0    1  \n",
       "2                0    2  \n",
       "3                0    2  \n",
       "4                0    2  \n",
       "\n",
       "[5 rows x 90 columns]"
      ]
     },
     "execution_count": 152,
     "metadata": {},
     "output_type": "execute_result"
    }
   ],
   "source": [
    "df.head()"
   ]
  },
  {
   "cell_type": "code",
   "execution_count": 140,
   "metadata": {},
   "outputs": [
    {
     "data": {
      "text/plain": [
       "0    0\n",
       "1    1\n",
       "2    2\n",
       "3    2\n",
       "4    2\n",
       "5    2\n",
       "6    0\n",
       "7    2\n",
       "8    0\n",
       "9    2\n",
       "Name: UCR, dtype: int64"
      ]
     },
     "execution_count": 140,
     "metadata": {},
     "output_type": "execute_result"
    }
   ],
   "source": [
    "y[0:10]"
   ]
  },
  {
   "cell_type": "code",
   "execution_count": 53,
   "metadata": {},
   "outputs": [],
   "source": [
    "X_train, X_test, y_train, y_test=train_test_split(X,y ,test_size=0.3,random_state=0)"
   ]
  },
  {
   "cell_type": "markdown",
   "metadata": {},
   "source": [
    "Start with no kernal parameters defined, then apply  **Grid Search** later to tune the model"
   ]
  },
  {
   "cell_type": "code",
   "execution_count": 52,
   "metadata": {},
   "outputs": [],
   "source": [
    "svc=SVC()"
   ]
  },
  {
   "cell_type": "code",
   "execution_count": 53,
   "metadata": {},
   "outputs": [
    {
     "data": {
      "text/plain": [
       "SVC(C=1.0, cache_size=200, class_weight=None, coef0=0.0,\n",
       "  decision_function_shape='ovr', degree=3, gamma='auto_deprecated',\n",
       "  kernel='rbf', max_iter=-1, probability=False, random_state=None,\n",
       "  shrinking=True, tol=0.001, verbose=False)"
      ]
     },
     "execution_count": 53,
     "metadata": {},
     "output_type": "execute_result"
    }
   ],
   "source": [
    "svc.fit(X_train, y_train)"
   ]
  },
  {
   "cell_type": "code",
   "execution_count": 54,
   "metadata": {},
   "outputs": [],
   "source": [
    "svc_pred=svc.predict(X_test)"
   ]
  },
  {
   "cell_type": "code",
   "execution_count": 55,
   "metadata": {},
   "outputs": [
    {
     "name": "stdout",
     "output_type": "stream",
     "text": [
      "[[ 318    0   59]\n",
      " [   0  590    5]\n",
      " [   0    3 1025]]\n",
      "              precision    recall  f1-score   support\n",
      "\n",
      "           0       1.00      0.84      0.92       377\n",
      "           1       0.99      0.99      0.99       595\n",
      "           2       0.94      1.00      0.97      1028\n",
      "\n",
      "   micro avg       0.97      0.97      0.97      2000\n",
      "   macro avg       0.98      0.94      0.96      2000\n",
      "weighted avg       0.97      0.97      0.97      2000\n",
      "\n"
     ]
    }
   ],
   "source": [
    "print(confusion_matrix(y_test, svc_pred))\n",
    "print(classification_report(y_test, svc_pred))"
   ]
  },
  {
   "cell_type": "markdown",
   "metadata": {},
   "source": [
    "## Model Evaluation"
   ]
  },
  {
   "cell_type": "markdown",
   "metadata": {},
   "source": [
    "**Apply K-Fold Cross Validation to see the avaerage accuracy**"
   ]
  },
  {
   "cell_type": "code",
   "execution_count": 169,
   "metadata": {},
   "outputs": [
    {
     "data": {
      "text/plain": [
       "array([0.99625094, 0.99550112, 0.99575   , 0.996     , 0.996     ,\n",
       "       0.996     , 0.99525   , 0.997     , 0.9975    , 0.99374687])"
      ]
     },
     "execution_count": 169,
     "metadata": {},
     "output_type": "execute_result"
    }
   ],
   "source": [
    "accuracy=cross_val_score(estimator=svc,\n",
    "                           X=X_train,\n",
    "                           y=y_train,\n",
    "                           cv=10)\n",
    "accuracy"
   ]
  },
  {
   "cell_type": "code",
   "execution_count": 170,
   "metadata": {},
   "outputs": [
    {
     "data": {
      "text/plain": [
       "0.9958998935421223"
      ]
     },
     "execution_count": 170,
     "metadata": {},
     "output_type": "execute_result"
    }
   ],
   "source": [
    "accuracy.mean()"
   ]
  },
  {
   "cell_type": "markdown",
   "metadata": {},
   "source": [
    "**Apply Grid Search to determine the suitable variables**"
   ]
  },
  {
   "cell_type": "code",
   "execution_count": 56,
   "metadata": {},
   "outputs": [],
   "source": [
    "grid_para=[\n",
    "    {'C':[1,10,100,1000], 'kernel': ['linear']},\n",
    "    {'C':[1,10,100,1000], 'kernel': ['rbf'], 'gamma': [1,0.5, 1/31, 0.001,0.0001]}\n",
    "]\n",
    "\n",
    "grid_search=GridSearchCV(estimator=svc,\n",
    "                         param_grid=grid_para,\n",
    "                         scoring = 'accuracy',\n",
    "                         cv=10,\n",
    "                         verbose=5,\n",
    "                         n_jobs=-1)"
   ]
  },
  {
   "cell_type": "code",
   "execution_count": 57,
   "metadata": {},
   "outputs": [
    {
     "name": "stdout",
     "output_type": "stream",
     "text": [
      "Fitting 10 folds for each of 24 candidates, totalling 240 fits\n"
     ]
    },
    {
     "name": "stderr",
     "output_type": "stream",
     "text": [
      "[Parallel(n_jobs=-1)]: Using backend LokyBackend with 12 concurrent workers.\n",
      "[Parallel(n_jobs=-1)]: Done  48 tasks      | elapsed:   54.7s\n",
      "[Parallel(n_jobs=-1)]: Done 138 tasks      | elapsed:  4.7min\n",
      "[Parallel(n_jobs=-1)]: Done 240 out of 240 | elapsed:  7.6min finished\n"
     ]
    }
   ],
   "source": [
    "grid_search=grid_search.fit(X_train, y_train)"
   ]
  },
  {
   "cell_type": "code",
   "execution_count": 58,
   "metadata": {},
   "outputs": [
    {
     "data": {
      "text/plain": [
       "0.995375"
      ]
     },
     "execution_count": 58,
     "metadata": {},
     "output_type": "execute_result"
    }
   ],
   "source": [
    "grid_score=grid_search.best_score_\n",
    "grid_score"
   ]
  },
  {
   "cell_type": "code",
   "execution_count": 59,
   "metadata": {},
   "outputs": [
    {
     "data": {
      "text/plain": [
       "{'C': 100, 'gamma': 0.03225806451612903, 'kernel': 'rbf'}"
      ]
     },
     "execution_count": 59,
     "metadata": {},
     "output_type": "execute_result"
    }
   ],
   "source": [
    "best_parameters=grid_search.best_params_\n",
    "best_parameters"
   ]
  },
  {
   "cell_type": "markdown",
   "metadata": {},
   "source": [
    "**Retrain the model using SVM**"
   ]
  },
  {
   "cell_type": "code",
   "execution_count": 60,
   "metadata": {},
   "outputs": [
    {
     "data": {
      "text/plain": [
       "SVC(C=100, cache_size=200, class_weight=None, coef0=0.0,\n",
       "  decision_function_shape='ovr', degree=3, gamma=0.03225806451612903,\n",
       "  kernel='rbf', max_iter=-1, probability=False, random_state=None,\n",
       "  shrinking=True, tol=0.001, verbose=False)"
      ]
     },
     "execution_count": 60,
     "metadata": {},
     "output_type": "execute_result"
    }
   ],
   "source": [
    "svc_r=SVC(C=100, kernel='rbf',gamma=0.03225806451612903)\n",
    "svc_r.fit(X_train,y_train)"
   ]
  },
  {
   "cell_type": "code",
   "execution_count": 61,
   "metadata": {},
   "outputs": [],
   "source": [
    "svc_r_pred=svc_r.predict(X_test)"
   ]
  },
  {
   "cell_type": "code",
   "execution_count": 62,
   "metadata": {},
   "outputs": [
    {
     "name": "stdout",
     "output_type": "stream",
     "text": [
      "[[ 377    0    0]\n",
      " [   0  594    1]\n",
      " [   1    3 1024]]\n",
      "              precision    recall  f1-score   support\n",
      "\n",
      "           0       1.00      1.00      1.00       377\n",
      "           1       0.99      1.00      1.00       595\n",
      "           2       1.00      1.00      1.00      1028\n",
      "\n",
      "   micro avg       1.00      1.00      1.00      2000\n",
      "   macro avg       1.00      1.00      1.00      2000\n",
      "weighted avg       1.00      1.00      1.00      2000\n",
      "\n"
     ]
    }
   ],
   "source": [
    "print(confusion_matrix(y_test, svc_r_pred))\n",
    "print(classification_report(y_test, svc_r_pred))"
   ]
  },
  {
   "cell_type": "markdown",
   "metadata": {},
   "source": [
    "**Use refined SVM model to re-predict the whole Training set**"
   ]
  },
  {
   "cell_type": "code",
   "execution_count": 67,
   "metadata": {},
   "outputs": [],
   "source": [
    "X=df.iloc[:,:-1]\n",
    "y=df.iloc[:,-1]"
   ]
  },
  {
   "cell_type": "code",
   "execution_count": null,
   "metadata": {},
   "outputs": [],
   "source": [
    "svc_final=svc.predict(X)"
   ]
  },
  {
   "cell_type": "code",
   "execution_count": 68,
   "metadata": {},
   "outputs": [
    {
     "name": "stdout",
     "output_type": "stream",
     "text": [
      "[[ 53013      0   8398]\n",
      " [     0  96207    848]\n",
      " [     0    971 156560]]\n",
      "              precision    recall  f1-score   support\n",
      "\n",
      "           0       1.00      0.86      0.93     61411\n",
      "           1       0.99      0.99      0.99     97055\n",
      "           2       0.94      0.99      0.97    157531\n",
      "\n",
      "   micro avg       0.97      0.97      0.97    315997\n",
      "   macro avg       0.98      0.95      0.96    315997\n",
      "weighted avg       0.97      0.97      0.97    315997\n",
      "\n"
     ]
    }
   ],
   "source": [
    "print(confusion_matrix(y, svc_final))\n",
    "print(classification_report(y, svc_final))"
   ]
  },
  {
   "cell_type": "markdown",
   "metadata": {},
   "source": [
    "## Random Forest"
   ]
  },
  {
   "cell_type": "code",
   "execution_count": 4,
   "metadata": {},
   "outputs": [],
   "source": [
    "X_train, X_test, y_train, y_test=train_test_split(X,y,test_size=0.2,random_state=0)"
   ]
  },
  {
   "cell_type": "code",
   "execution_count": 6,
   "metadata": {},
   "outputs": [],
   "source": [
    "rf_model=RandomForestClassifier(n_estimators=10,\n",
    "                                criterion='entropy',\n",
    "                                max_features='auto'\n",
    "                                random_state=0)"
   ]
  },
  {
   "cell_type": "code",
   "execution_count": 7,
   "metadata": {},
   "outputs": [
    {
     "data": {
      "text/plain": [
       "RandomForestClassifier(bootstrap=True, class_weight=None, criterion='entropy',\n",
       "                       max_depth=None, max_features='auto', max_leaf_nodes=None,\n",
       "                       min_impurity_decrease=0.0, min_impurity_split=None,\n",
       "                       min_samples_leaf=1, min_samples_split=2,\n",
       "                       min_weight_fraction_leaf=0.0, n_estimators=10,\n",
       "                       n_jobs=None, oob_score=False, random_state=0, verbose=0,\n",
       "                       warm_start=False)"
      ]
     },
     "execution_count": 7,
     "metadata": {},
     "output_type": "execute_result"
    }
   ],
   "source": [
    "rf_model.fit(X_train,y_train)"
   ]
  },
  {
   "cell_type": "code",
   "execution_count": 8,
   "metadata": {},
   "outputs": [],
   "source": [
    "rf_preds=rf_model.predict(X_test)"
   ]
  },
  {
   "cell_type": "code",
   "execution_count": 11,
   "metadata": {},
   "outputs": [
    {
     "name": "stdout",
     "output_type": "stream",
     "text": [
      "[[12333     0     1]\n",
      " [    7 19334    67]\n",
      " [    4   209 31245]]\n",
      "\n",
      "\n",
      "              precision    recall  f1-score   support\n",
      "\n",
      "           0       1.00      1.00      1.00     12334\n",
      "           1       0.99      1.00      0.99     19408\n",
      "           2       1.00      0.99      1.00     31458\n",
      "\n",
      "    accuracy                           1.00     63200\n",
      "   macro avg       1.00      1.00      1.00     63200\n",
      "weighted avg       1.00      1.00      1.00     63200\n",
      "\n"
     ]
    }
   ],
   "source": [
    "print(confusion_matrix(y_test, rf_preds))\n",
    "print(\"\\n\")\n",
    "print(classification_report(y_test, rf_preds))"
   ]
  },
  {
   "cell_type": "code",
   "execution_count": 10,
   "metadata": {},
   "outputs": [],
   "source": [
    "rf_final=rf_model.predict(X)"
   ]
  },
  {
   "cell_type": "code",
   "execution_count": 12,
   "metadata": {},
   "outputs": [
    {
     "name": "stdout",
     "output_type": "stream",
     "text": [
      "[[ 61410      0      1]\n",
      " [     7  96884    164]\n",
      " [     5    897 156629]]\n",
      "\n",
      "\n",
      "              precision    recall  f1-score   support\n",
      "\n",
      "           0       1.00      1.00      1.00     61411\n",
      "           1       0.99      1.00      0.99     97055\n",
      "           2       1.00      0.99      1.00    157531\n",
      "\n",
      "    accuracy                           1.00    315997\n",
      "   macro avg       1.00      1.00      1.00    315997\n",
      "weighted avg       1.00      1.00      1.00    315997\n",
      "\n"
     ]
    }
   ],
   "source": [
    "print(confusion_matrix(y, rf_final))\n",
    "print(\"\\n\")\n",
    "print(classification_report(y, rf_final))"
   ]
  },
  {
   "cell_type": "markdown",
   "metadata": {},
   "source": [
    "## Univariance Selection"
   ]
  },
  {
   "cell_type": "code",
   "execution_count": 23,
   "metadata": {},
   "outputs": [],
   "source": [
    "bestfeatures = SelectKBest(score_func=chi2, k=10)\n",
    "fit = bestfeatures.fit(X,y)\n",
    "dfscores = pd.DataFrame(fit.scores_)\n",
    "dfcolumns = pd.DataFrame(X.columns)\n",
    "#concat two dataframes for better visualization \n",
    "featureScores = pd.Series(fit.scores_, index=X.columns)\n",
    "#featureScores.columns = ['Specs','Score']  #naming the dataframe columns\n",
    "#print(featureScores.nlargest(10,'Score')) "
   ]
  },
  {
   "cell_type": "code",
   "execution_count": 30,
   "metadata": {},
   "outputs": [
    {
     "data": {
      "image/png": "[encoded data removed]",
      "text/plain": [
       "<Figure size 576x432 with 1 Axes>"
      ]
     },
     "metadata": {
      "needs_background": "light"
     },
     "output_type": "display_data"
    }
   ],
   "source": [
    "plt.figure(figsize=(8,6))\n",
    "featureScores.nlargest(10).plot(kind='barh');"
   ]
  },
  {
   "cell_type": "markdown",
   "metadata": {},
   "source": [
    "## Extra Tree Classifier (Feature Importance)"
   ]
  },
  {
   "cell_type": "code",
   "execution_count": 147,
   "metadata": {},
   "outputs": [],
   "source": [
    "df=pd.read_csv(\"crime_cat.csv\")"
   ]
  },
  {
   "cell_type": "code",
   "execution_count": 14,
   "metadata": {},
   "outputs": [],
   "source": [
    "X=df.iloc[:,:-1]\n",
    "y=df.iloc[:,-1]"
   ]
  },
  {
   "cell_type": "code",
   "execution_count": 125,
   "metadata": {},
   "outputs": [
    {
     "data": {
      "text/plain": [
       "Index(['Charlestown', 'Dorchester', 'Downtown', 'East Boston', 'Hyde Park',\n",
       "       'Jamaica Plain', 'Mattapan', 'Roxbury', 'South Boston', 'South End',\n",
       "       'West Roxbury', 'Aug', 'Dec', 'Feb', 'Jan', 'Jul', 'Jun', 'Mar', 'May',\n",
       "       'Nov', 'Oct', 'Sep', 'Monday', 'Saturday', 'Sunday', 'Thursday',\n",
       "       'Tuesday', 'Wednesday', 'Morning', 'Afternoon', 'Evening', 'Aircraft',\n",
       "       'Assembly or Gathering Violations', 'Auto Theft', 'Ballistics',\n",
       "       'Biological Threat', 'Bomb Hoax', 'Commercial Burglary',\n",
       "       'Confidence Games', 'Counterfeiting', 'Criminal Harassment',\n",
       "       'Disorderly Conduct', 'Drug Violation', 'Embezzlement', 'Evading Fare',\n",
       "       'Explosives', 'Fire Related Reports', 'Firearm Discovery',\n",
       "       'Firearm Violations', 'Fraud', 'Gambling', 'Harassment',\n",
       "       'Harbor Related Incidents', 'Homicide', 'Investigate Person',\n",
       "       'Investigate Property', 'Landlord/Tenant Disputes', 'Larceny',\n",
       "       'Larceny From Motor Vehicle', 'License Plate Related Incidents',\n",
       "       'License Violation', 'Liquor Violation', 'Medical Assistance',\n",
       "       'Missing Person Located', 'Missing Person Reported',\n",
       "       'Motor Vehicle Accident Response', 'Offenses Against Child / Family',\n",
       "       'Operating Under the Influence', 'Other', 'Other Burglary',\n",
       "       'Phone Call Complaints', 'Police Service Incidents',\n",
       "       'Prisoner Related Incidents', 'Property Found', 'Property Lost',\n",
       "       'Property Related Damage', 'Prostitution', 'Recovered Stolen Property',\n",
       "       'Residential Burglary', 'Restraining Order Violations', 'Robbery',\n",
       "       'Search Warrants', 'Service', 'Simple Assault', 'Towed', 'Vandalism',\n",
       "       'Verbal Disputes', 'Violations', 'Warrant Arrests'],\n",
       "      dtype='object')"
      ]
     },
     "execution_count": 125,
     "metadata": {},
     "output_type": "execute_result"
    }
   ],
   "source": [
    "X.columns"
   ]
  },
  {
   "cell_type": "code",
   "execution_count": 15,
   "metadata": {},
   "outputs": [
    {
     "data": {
      "text/plain": [
       "2    157531\n",
       "1     97055\n",
       "0     61411\n",
       "Name: UCR, dtype: int64"
      ]
     },
     "execution_count": 15,
     "metadata": {},
     "output_type": "execute_result"
    }
   ],
   "source": [
    "y.value_counts()"
   ]
  },
  {
   "cell_type": "code",
   "execution_count": 22,
   "metadata": {},
   "outputs": [
    {
     "data": {
      "text/plain": [
       "ExtraTreesClassifier(bootstrap=False, class_weight=None, criterion='gini',\n",
       "           max_depth=None, max_features='auto', max_leaf_nodes=None,\n",
       "           min_impurity_decrease=0.0, min_impurity_split=None,\n",
       "           min_samples_leaf=1, min_samples_split=2,\n",
       "           min_weight_fraction_leaf=0.0, n_estimators=10, n_jobs=None,\n",
       "           oob_score=False, random_state=None, verbose=0, warm_start=False)"
      ]
     },
     "execution_count": 22,
     "metadata": {},
     "output_type": "execute_result"
    }
   ],
   "source": [
    "e_tree=ExtraTreesClassifier()\n",
    "e_tree.fit(X,y)"
   ]
  },
  {
   "cell_type": "code",
   "execution_count": 23,
   "metadata": {},
   "outputs": [
    {
     "data": {
      "text/plain": [
       "array([2.26399629e-02, 2.63673311e-02, 3.48722423e-02, 6.76826353e-02,\n",
       "       2.92798268e-02, 5.65436804e-02, 1.63789491e-03, 3.78398618e-03,\n",
       "       2.01669834e-02, 7.72615349e-03, 2.59913639e-02, 7.66109872e-03,\n",
       "       1.25112758e-03, 2.95702786e-03, 2.13534747e-02, 1.00811880e-02,\n",
       "       1.47129014e-03, 9.86984884e-03, 2.29222529e-04, 1.79998875e-03,\n",
       "       5.79278951e-02, 3.37257180e-03, 3.27625745e-03, 6.67622137e-02,\n",
       "       1.09162385e-02, 1.41234685e-02, 4.65330205e-02, 5.21591386e-03,\n",
       "       7.39508458e-03, 2.67708304e-03, 5.16771729e-02, 1.05742461e-01,\n",
       "       4.39399443e-03, 2.39201766e-02, 3.40300296e-02, 2.70109604e-04,\n",
       "       1.03148182e-03, 1.70363493e-02, 5.75837839e-05, 2.38510137e-02,\n",
       "       8.93391769e-03, 3.41273330e-03, 7.56010212e-03, 1.85722196e-04,\n",
       "       2.28651773e-03, 1.97962374e-03, 6.92442372e-02, 1.14851257e-02,\n",
       "       7.99708662e-04, 6.68711766e-03, 1.39964616e-02, 3.93563003e-03,\n",
       "       5.04151073e-04, 1.51830142e-05, 6.02849558e-03, 1.84006070e-02,\n",
       "       3.78071180e-03, 2.45039666e-04, 3.38159217e-04, 5.64304815e-04,\n",
       "       4.44057223e-04, 2.69317975e-04, 2.54317127e-04, 2.47021070e-04,\n",
       "       3.11448042e-04, 2.62700388e-04, 2.88778968e-04, 1.40525768e-04,\n",
       "       1.60554011e-04, 1.46802627e-04, 1.67115227e-04, 1.58817637e-04,\n",
       "       1.52600901e-04, 1.55494128e-04, 1.45357969e-04, 1.38438116e-04,\n",
       "       1.54322440e-04, 1.69968336e-04, 1.63902765e-04, 5.33075996e-04,\n",
       "       1.52154841e-04, 2.18542650e-04, 2.30822535e-04, 1.34714131e-04,\n",
       "       1.36548416e-04, 2.00920872e-04, 2.28021692e-04, 1.37824922e-04,\n",
       "       1.35835303e-04])"
      ]
     },
     "execution_count": 23,
     "metadata": {},
     "output_type": "execute_result"
    }
   ],
   "source": [
    "e_tree.feature_importances_[::-1]"
   ]
  },
  {
   "cell_type": "code",
   "execution_count": 24,
   "metadata": {},
   "outputs": [
    {
     "data": {
      "text/plain": [
       "0.08387953628314374"
      ]
     },
     "execution_count": 24,
     "metadata": {},
     "output_type": "execute_result"
    }
   ],
   "source": [
    "sum(e_tree.feature_importances_[::-1][0:3])"
   ]
  },
  {
   "cell_type": "code",
   "execution_count": 25,
   "metadata": {},
   "outputs": [
    {
     "data": {
      "image/png": "[encoded data removed]",
      "text/plain": [
       "<Figure size 864x432 with 1 Axes>"
      ]
     },
     "metadata": {
      "needs_background": "light"
     },
     "output_type": "display_data"
    }
   ],
   "source": [
    "plt.figure(figsize=(12,6))\n",
    "feat_importances = pd.Series(e_tree.feature_importances_, index=X.columns)\n",
    "feat_importances.nlargest(10).plot(kind='barh')\n",
    "plt.show()"
   ]
  },
  {
   "cell_type": "markdown",
   "metadata": {},
   "source": [
    "## Deep Learning"
   ]
  },
  {
   "cell_type": "code",
   "execution_count": 2,
   "metadata": {},
   "outputs": [
    {
     "name": "stdout",
     "output_type": "stream",
     "text": [
      "[name: \"/device:CPU:0\"\n",
      "device_type: \"CPU\"\n",
      "memory_limit: 268435456\n",
      "locality {\n",
      "}\n",
      "incarnation: 9157827967494946625\n",
      ", name: \"/device:GPU:0\"\n",
      "device_type: \"GPU\"\n",
      "memory_limit: 6622735237\n",
      "locality {\n",
      "  bus_id: 1\n",
      "  links {\n",
      "  }\n",
      "}\n",
      "incarnation: 8065964793443790139\n",
      "physical_device_desc: \"device: 0, name: GeForce RTX 2070, pci bus id: 0000:01:00.0, compute capability: 7.5\"\n",
      "]\n",
      "\n",
      "\n"
     ]
    },
    {
     "data": {
      "text/plain": [
       "True"
      ]
     },
     "execution_count": 2,
     "metadata": {},
     "output_type": "execute_result"
    }
   ],
   "source": [
    "from tensorflow.python.client import device_lib\n",
    "\n",
    "def get_devices():\n",
    "   \n",
    "    return [x.name for x in device_lib.list_local_devices()]\n",
    "\n",
    "    print (get_devices())\n",
    "    \n",
    "def check_available():\n",
    "    if tf.test.is_gpu_available():\n",
    "        return True\n",
    "        \n",
    "        \n",
    "\n",
    "print(device_lib.list_local_devices())\n",
    "print('\\n')\n",
    "check_available()"
   ]
  },
  {
   "cell_type": "code",
   "execution_count": 68,
   "metadata": {},
   "outputs": [
    {
     "data": {
      "text/plain": [
       "'/device:GPU:0'"
      ]
     },
     "execution_count": 68,
     "metadata": {},
     "output_type": "execute_result"
    }
   ],
   "source": [
    "tf.test.gpu_device_name()"
   ]
  },
  {
   "cell_type": "code",
   "execution_count": 9,
   "metadata": {},
   "outputs": [
    {
     "data": {
      "text/plain": [
       "['/job:localhost/replica:0/task:0/device:GPU:0']"
      ]
     },
     "execution_count": 9,
     "metadata": {},
     "output_type": "execute_result"
    }
   ],
   "source": [
    "from keras import backend as K\n",
    "K.tensorflow_backend._get_available_gpus()"
   ]
  },
  {
   "cell_type": "code",
   "execution_count": 28,
   "metadata": {},
   "outputs": [
    {
     "data": {
      "text/plain": [
       "Index(['Charlestown', 'Dorchester', 'Downtown', 'East Boston', 'Hyde Park',\n",
       "       'Jamaica Plain', 'Mattapan', 'Roxbury', 'South Boston', 'South End',\n",
       "       'West Roxbury', 'Aug', 'Dec', 'Feb', 'Jan', 'Jul', 'Jun', 'Mar', 'May',\n",
       "       'Nov', 'Oct', 'Sep', 'Monday', 'Saturday', 'Sunday', 'Thursday',\n",
       "       'Tuesday', 'Wednesday', 'Morning', 'Afternoon', 'Evening', 'Aircraft',\n",
       "       'Assembly or Gathering Violations', 'Auto Theft', 'Ballistics',\n",
       "       'Biological Threat', 'Bomb Hoax', 'Commercial Burglary',\n",
       "       'Confidence Games', 'Counterfeiting', 'Criminal Harassment',\n",
       "       'Disorderly Conduct', 'Drug Violation', 'Embezzlement', 'Evading Fare',\n",
       "       'Explosives', 'Fire Related Reports', 'Firearm Discovery',\n",
       "       'Firearm Violations', 'Fraud', 'Gambling', 'Harassment',\n",
       "       'Harbor Related Incidents', 'Homicide', 'Investigate Person',\n",
       "       'Investigate Property', 'Landlord/Tenant Disputes', 'Larceny',\n",
       "       'Larceny From Motor Vehicle', 'License Plate Related Incidents',\n",
       "       'License Violation', 'Liquor Violation', 'Medical Assistance',\n",
       "       'Missing Person Located', 'Missing Person Reported',\n",
       "       'Motor Vehicle Accident Response', 'Offenses Against Child / Family',\n",
       "       'Operating Under the Influence', 'Other', 'Other Burglary',\n",
       "       'Phone Call Complaints', 'Police Service Incidents',\n",
       "       'Prisoner Related Incidents', 'Property Found', 'Property Lost',\n",
       "       'Property Related Damage', 'Prostitution', 'Recovered Stolen Property',\n",
       "       'Residential Burglary', 'Restraining Order Violations', 'Robbery',\n",
       "       'Search Warrants', 'Service', 'Simple Assault', 'Towed', 'Vandalism',\n",
       "       'Verbal Disputes', 'Violations', 'Warrant Arrests', 'UCR'],\n",
       "      dtype='object')"
      ]
     },
     "execution_count": 28,
     "metadata": {},
     "output_type": "execute_result"
    }
   ],
   "source": [
    "df=pd.read_csv(\"crime_cat.csv\")\n",
    "df.columns"
   ]
  },
  {
   "cell_type": "code",
   "execution_count": 29,
   "metadata": {},
   "outputs": [],
   "source": [
    "X=df.iloc[:,:-1].values\n",
    "y=df.iloc[:,-1]"
   ]
  },
  {
   "cell_type": "code",
   "execution_count": 30,
   "metadata": {},
   "outputs": [],
   "source": [
    "y=pd.get_dummies(y)"
   ]
  },
  {
   "cell_type": "code",
   "execution_count": 31,
   "metadata": {},
   "outputs": [
    {
     "data": {
      "text/plain": [
       "array([[0, 0, 0, 0, 0, 0, 0, 0, 0, 0, 0, 0, 0, 0, 0, 0, 0, 0, 0, 0, 0, 1,\n",
       "        0, 0, 1, 0, 0, 0, 0, 1, 0, 0, 0, 0, 0, 0, 0, 0, 0, 0, 0, 0, 0, 0,\n",
       "        0, 0, 0, 0, 0, 0, 0, 0, 0, 0, 0, 0, 0, 1, 0, 0, 0, 0, 0, 0, 0, 0,\n",
       "        0, 0, 0, 0, 0, 0, 0, 0, 0, 0, 0, 0, 0, 0, 0, 0, 0, 0, 0, 0, 0, 0,\n",
       "        0],\n",
       "       [0, 1, 0, 0, 0, 0, 0, 0, 0, 0, 0, 1, 0, 0, 0, 0, 0, 0, 0, 0, 0, 0,\n",
       "        0, 0, 0, 0, 1, 0, 0, 0, 0, 0, 0, 0, 0, 0, 0, 0, 0, 0, 0, 0, 0, 0,\n",
       "        0, 0, 0, 0, 0, 0, 0, 0, 0, 0, 0, 0, 0, 0, 0, 0, 0, 0, 0, 0, 0, 0,\n",
       "        0, 0, 0, 0, 0, 0, 0, 0, 0, 0, 0, 0, 0, 0, 0, 0, 0, 0, 0, 1, 0, 0,\n",
       "        0],\n",
       "       [0, 0, 0, 0, 0, 0, 0, 0, 0, 1, 0, 0, 0, 0, 0, 0, 0, 0, 0, 0, 0, 1,\n",
       "        1, 0, 0, 0, 0, 0, 0, 0, 1, 0, 0, 0, 0, 0, 0, 0, 0, 0, 0, 0, 0, 0,\n",
       "        0, 0, 0, 0, 0, 0, 0, 0, 0, 0, 0, 0, 0, 0, 0, 0, 0, 0, 0, 0, 0, 0,\n",
       "        0, 0, 0, 0, 0, 0, 0, 0, 0, 0, 0, 0, 0, 0, 0, 0, 0, 0, 1, 0, 0, 0,\n",
       "        0],\n",
       "       [0, 0, 0, 0, 0, 0, 0, 0, 0, 1, 0, 0, 0, 0, 0, 0, 0, 0, 0, 0, 0, 1,\n",
       "        1, 0, 0, 0, 0, 0, 0, 0, 1, 0, 0, 0, 0, 0, 0, 0, 0, 0, 0, 0, 0, 0,\n",
       "        0, 0, 0, 0, 0, 0, 0, 0, 0, 0, 0, 1, 0, 0, 0, 0, 0, 0, 0, 0, 0, 0,\n",
       "        0, 0, 0, 0, 0, 0, 0, 0, 0, 0, 0, 0, 0, 0, 0, 0, 0, 0, 0, 0, 0, 0,\n",
       "        0],\n",
       "       [0, 0, 0, 0, 0, 0, 1, 0, 0, 0, 0, 0, 0, 0, 0, 0, 0, 0, 0, 0, 0, 1,\n",
       "        1, 0, 0, 0, 0, 0, 0, 0, 1, 0, 0, 0, 0, 0, 0, 0, 0, 0, 0, 0, 0, 0,\n",
       "        0, 0, 0, 0, 0, 0, 0, 0, 0, 0, 0, 1, 0, 0, 0, 0, 0, 0, 0, 0, 0, 0,\n",
       "        0, 0, 0, 0, 0, 0, 0, 0, 0, 0, 0, 0, 0, 0, 0, 0, 0, 0, 0, 0, 0, 0,\n",
       "        0]], dtype=int64)"
      ]
     },
     "execution_count": 31,
     "metadata": {},
     "output_type": "execute_result"
    }
   ],
   "source": [
    "X[:5]"
   ]
  },
  {
   "cell_type": "code",
   "execution_count": 32,
   "metadata": {},
   "outputs": [
    {
     "data": {
      "text/plain": [
       "(315997, 89)"
      ]
     },
     "execution_count": 32,
     "metadata": {},
     "output_type": "execute_result"
    }
   ],
   "source": [
    "X.shape"
   ]
  },
  {
   "cell_type": "code",
   "execution_count": 33,
   "metadata": {},
   "outputs": [
    {
     "data": {
      "text/html": [
       "<div>\n",
       "<style scoped>\n",
       "    .dataframe tbody tr th:only-of-type {\n",
       "        vertical-align: middle;\n",
       "    }\n",
       "\n",
       "    .dataframe tbody tr th {\n",
       "        vertical-align: top;\n",
       "    }\n",
       "\n",
       "    .dataframe thead th {\n",
       "        text-align: right;\n",
       "    }\n",
       "</style>\n",
       "<table border=\"1\" class=\"dataframe\">\n",
       "  <thead>\n",
       "    <tr style=\"text-align: right;\">\n",
       "      <th></th>\n",
       "      <th>0</th>\n",
       "      <th>1</th>\n",
       "      <th>2</th>\n",
       "    </tr>\n",
       "  </thead>\n",
       "  <tbody>\n",
       "    <tr>\n",
       "      <th>0</th>\n",
       "      <td>1</td>\n",
       "      <td>0</td>\n",
       "      <td>0</td>\n",
       "    </tr>\n",
       "    <tr>\n",
       "      <th>1</th>\n",
       "      <td>0</td>\n",
       "      <td>1</td>\n",
       "      <td>0</td>\n",
       "    </tr>\n",
       "    <tr>\n",
       "      <th>2</th>\n",
       "      <td>0</td>\n",
       "      <td>0</td>\n",
       "      <td>1</td>\n",
       "    </tr>\n",
       "    <tr>\n",
       "      <th>3</th>\n",
       "      <td>0</td>\n",
       "      <td>0</td>\n",
       "      <td>1</td>\n",
       "    </tr>\n",
       "    <tr>\n",
       "      <th>4</th>\n",
       "      <td>0</td>\n",
       "      <td>0</td>\n",
       "      <td>1</td>\n",
       "    </tr>\n",
       "  </tbody>\n",
       "</table>\n",
       "</div>"
      ],
      "text/plain": [
       "   0  1  2\n",
       "0  1  0  0\n",
       "1  0  1  0\n",
       "2  0  0  1\n",
       "3  0  0  1\n",
       "4  0  0  1"
      ]
     },
     "execution_count": 33,
     "metadata": {},
     "output_type": "execute_result"
    }
   ],
   "source": [
    "y[0:5]"
   ]
  },
  {
   "cell_type": "code",
   "execution_count": 51,
   "metadata": {},
   "outputs": [
    {
     "data": {
      "text/plain": [
       "(315997, 3)"
      ]
     },
     "execution_count": 51,
     "metadata": {},
     "output_type": "execute_result"
    }
   ],
   "source": [
    "y.shape"
   ]
  },
  {
   "cell_type": "code",
   "execution_count": 35,
   "metadata": {},
   "outputs": [],
   "source": [
    "X_train,X_test, y_train, y_test=train_test_split(X,y,test_size=0.25,random_state=0)"
   ]
  },
  {
   "cell_type": "code",
   "execution_count": 36,
   "metadata": {},
   "outputs": [],
   "source": [
    "from keras.models import Sequential\n",
    "from keras.layers import Dense"
   ]
  },
  {
   "cell_type": "code",
   "execution_count": 42,
   "metadata": {},
   "outputs": [],
   "source": [
    "ann_=Sequential()"
   ]
  },
  {
   "cell_type": "code",
   "execution_count": 43,
   "metadata": {},
   "outputs": [],
   "source": [
    "#Input layer\n",
    "ann_.add(Dense(input_dim=89, \n",
    "              output_dim=46, \n",
    "              init='uniform', \n",
    "              activation='relu'))"
   ]
  },
  {
   "cell_type": "code",
   "execution_count": 44,
   "metadata": {},
   "outputs": [],
   "source": [
    "#Hidden Layer\n",
    "ann_.add(Dense(output_dim=89, \n",
    "              init='uniform', \n",
    "              activation='relu'))"
   ]
  },
  {
   "cell_type": "code",
   "execution_count": 45,
   "metadata": {},
   "outputs": [],
   "source": [
    "#Output Layer\n",
    "ann_.add(Dense(output_dim=3, \n",
    "              init='uniform', \n",
    "              activation='softmax'))"
   ]
  },
  {
   "cell_type": "code",
   "execution_count": 46,
   "metadata": {},
   "outputs": [],
   "source": [
    "ann_.compile(optimizer='adam',\n",
    "            loss='categorical_crossentropy',\n",
    "            metrics=['accuracy'])"
   ]
  },
  {
   "cell_type": "code",
   "execution_count": 47,
   "metadata": {},
   "outputs": [
    {
     "name": "stdout",
     "output_type": "stream",
     "text": [
      "Epoch 1/50\n",
      "236997/236997 [==============================] - 1s 2us/step - loss: 1.0675 - acc: 0.4913\n",
      "Epoch 2/50\n",
      "236997/236997 [==============================] - 0s 1us/step - loss: 0.9292 - acc: 0.4982\n",
      "Epoch 3/50\n",
      "236997/236997 [==============================] - 0s 1us/step - loss: 0.6609 - acc: 0.6759\n",
      "Epoch 4/50\n",
      "236997/236997 [==============================] - 0s 1us/step - loss: 0.3704 - acc: 0.8081\n",
      "Epoch 5/50\n",
      "236997/236997 [==============================] - 0s 1us/step - loss: 0.2119 - acc: 0.9692\n",
      "Epoch 6/50\n",
      "236997/236997 [==============================] - 0s 1us/step - loss: 0.0980 - acc: 0.9871\n",
      "Epoch 7/50\n",
      "236997/236997 [==============================] - 0s 1us/step - loss: 0.0496 - acc: 0.9961\n",
      "Epoch 8/50\n",
      "236997/236997 [==============================] - 0s 1us/step - loss: 0.0326 - acc: 0.9963\n",
      "Epoch 9/50\n",
      "236997/236997 [==============================] - 0s 1us/step - loss: 0.0246 - acc: 0.9963\n",
      "Epoch 10/50\n",
      "236997/236997 [==============================] - 0s 1us/step - loss: 0.0207 - acc: 0.9963\n",
      "Epoch 11/50\n",
      "236997/236997 [==============================] - 0s 1us/step - loss: 0.0186 - acc: 0.9963\n",
      "Epoch 12/50\n",
      "236997/236997 [==============================] - 0s 1us/step - loss: 0.0174 - acc: 0.9963\n",
      "Epoch 13/50\n",
      "236997/236997 [==============================] - 0s 1us/step - loss: 0.0165 - acc: 0.9963\n",
      "Epoch 14/50\n",
      "236997/236997 [==============================] - 0s 1us/step - loss: 0.0160 - acc: 0.9963\n",
      "Epoch 15/50\n",
      "236997/236997 [==============================] - 0s 1us/step - loss: 0.0156 - acc: 0.9963\n",
      "Epoch 16/50\n",
      "236997/236997 [==============================] - 0s 1us/step - loss: 0.0153 - acc: 0.9963\n",
      "Epoch 17/50\n",
      "236997/236997 [==============================] - 0s 1us/step - loss: 0.0151 - acc: 0.9963\n",
      "Epoch 18/50\n",
      "236997/236997 [==============================] - 0s 1us/step - loss: 0.0149 - acc: 0.9963\n",
      "Epoch 19/50\n",
      "236997/236997 [==============================] - 0s 1us/step - loss: 0.0147 - acc: 0.9963\n",
      "Epoch 20/50\n",
      "236997/236997 [==============================] - 0s 1us/step - loss: 0.0147 - acc: 0.9963\n",
      "Epoch 21/50\n",
      "236997/236997 [==============================] - 0s 1us/step - loss: 0.0145 - acc: 0.9963\n",
      "Epoch 22/50\n",
      "236997/236997 [==============================] - 0s 1us/step - loss: 0.0145 - acc: 0.9963\n",
      "Epoch 23/50\n",
      "236997/236997 [==============================] - 0s 1us/step - loss: 0.0144 - acc: 0.9963\n",
      "Epoch 24/50\n",
      "236997/236997 [==============================] - 0s 1us/step - loss: 0.0144 - acc: 0.9963\n",
      "Epoch 25/50\n",
      "236997/236997 [==============================] - 0s 1us/step - loss: 0.0143 - acc: 0.9963\n",
      "Epoch 26/50\n",
      "236997/236997 [==============================] - 0s 1us/step - loss: 0.0143 - acc: 0.9963\n",
      "Epoch 27/50\n",
      "236997/236997 [==============================] - 0s 1us/step - loss: 0.0142 - acc: 0.9963\n",
      "Epoch 28/50\n",
      "236997/236997 [==============================] - 0s 1us/step - loss: 0.0142 - acc: 0.9963\n",
      "Epoch 29/50\n",
      "236997/236997 [==============================] - 0s 1us/step - loss: 0.0141 - acc: 0.9963\n",
      "Epoch 30/50\n",
      "236997/236997 [==============================] - 0s 1us/step - loss: 0.0141 - acc: 0.9963\n",
      "Epoch 31/50\n",
      "236997/236997 [==============================] - 0s 1us/step - loss: 0.0141 - acc: 0.9963\n",
      "Epoch 32/50\n",
      "236997/236997 [==============================] - 0s 1us/step - loss: 0.0142 - acc: 0.9963\n",
      "Epoch 33/50\n",
      "236997/236997 [==============================] - 0s 1us/step - loss: 0.0141 - acc: 0.9963\n",
      "Epoch 34/50\n",
      "236997/236997 [==============================] - 0s 1us/step - loss: 0.0140 - acc: 0.9963\n",
      "Epoch 35/50\n",
      "236997/236997 [==============================] - ETA: 0s - loss: 0.0142 - acc: 0.996 - 0s 1us/step - loss: 0.0141 - acc: 0.9963\n",
      "Epoch 36/50\n",
      "236997/236997 [==============================] - 0s 1us/step - loss: 0.0140 - acc: 0.9963\n",
      "Epoch 37/50\n",
      "236997/236997 [==============================] - 0s 1us/step - loss: 0.0140 - acc: 0.9963\n",
      "Epoch 38/50\n",
      "236997/236997 [==============================] - 0s 1us/step - loss: 0.0140 - acc: 0.9963\n",
      "Epoch 39/50\n",
      "236997/236997 [==============================] - 0s 1us/step - loss: 0.0140 - acc: 0.9963\n",
      "Epoch 40/50\n",
      "236997/236997 [==============================] - 0s 1us/step - loss: 0.0140 - acc: 0.9963\n",
      "Epoch 41/50\n",
      "236997/236997 [==============================] - 0s 1us/step - loss: 0.0140 - acc: 0.9963\n",
      "Epoch 42/50\n",
      "236997/236997 [==============================] - 0s 1us/step - loss: 0.0139 - acc: 0.9963\n",
      "Epoch 43/50\n",
      "236997/236997 [==============================] - 0s 1us/step - loss: 0.0140 - acc: 0.9963\n",
      "Epoch 44/50\n",
      "236997/236997 [==============================] - ETA: 0s - loss: 0.0137 - acc: 0.996 - 0s 1us/step - loss: 0.0140 - acc: 0.9963\n",
      "Epoch 45/50\n",
      "236997/236997 [==============================] - 0s 1us/step - loss: 0.0139 - acc: 0.9963\n",
      "Epoch 46/50\n",
      "236997/236997 [==============================] - 0s 1us/step - loss: 0.0139 - acc: 0.9963\n",
      "Epoch 47/50\n",
      "236997/236997 [==============================] - 0s 1us/step - loss: 0.0139 - acc: 0.9963\n",
      "Epoch 48/50\n",
      "236997/236997 [==============================] - 0s 1us/step - loss: 0.0139 - acc: 0.9963\n",
      "Epoch 49/50\n",
      "236997/236997 [==============================] - 0s 1us/step - loss: 0.0139 - acc: 0.9963\n",
      "Epoch 50/50\n",
      "236997/236997 [==============================] - 0s 1us/step - loss: 0.0139 - acc: 0.9963\n"
     ]
    },
    {
     "data": {
      "text/plain": [
       "<keras.callbacks.History at 0x1de95995908>"
      ]
     },
     "execution_count": 47,
     "metadata": {},
     "output_type": "execute_result"
    }
   ],
   "source": [
    "ann_.fit(X_train, \n",
    "        y_train, \n",
    "        batch_size=10000,\n",
    "        nb_epoch=50)"
   ]
  },
  {
   "cell_type": "code",
   "execution_count": 66,
   "metadata": {
    "scrolled": true
   },
   "outputs": [
    {
     "data": {
      "image/png": "[encoded data removed]",
      "text/plain": [
       "<Figure size 432x288 with 1 Axes>"
      ]
     },
     "metadata": {
      "needs_background": "light"
     },
     "output_type": "display_data"
    }
   ],
   "source": [
    "plt.figure(figsize=(6,4))\n",
    "loss_func=ann_.history.history['loss']\n",
    "epochs=range(len(loss_func))\n",
    "plt.plot(epochs, loss_func)\n",
    "plt.title(\"Epochs vs Loss Function\")\n",
    "plt.xlabel(\"epochs\")\n",
    "plt.ylabel(\"Loss Function\");"
   ]
  },
  {
   "cell_type": "code",
   "execution_count": 49,
   "metadata": {},
   "outputs": [],
   "source": [
    "ann_result=ann_.predict(X_test)"
   ]
  },
  {
   "cell_type": "markdown",
   "metadata": {},
   "source": [
    "**Converted results back**"
   ]
  },
  {
   "cell_type": "code",
   "execution_count": 53,
   "metadata": {},
   "outputs": [],
   "source": [
    "y_test=np.argmax(y_test.values, axis=1)"
   ]
  },
  {
   "cell_type": "code",
   "execution_count": 54,
   "metadata": {},
   "outputs": [
    {
     "data": {
      "text/plain": [
       "array([2, 2, 1, 2], dtype=int64)"
      ]
     },
     "execution_count": 54,
     "metadata": {},
     "output_type": "execute_result"
    }
   ],
   "source": [
    "y_test[0:4]"
   ]
  },
  {
   "cell_type": "code",
   "execution_count": 55,
   "metadata": {},
   "outputs": [
    {
     "data": {
      "text/plain": [
       "array([[8.9089335e-05, 2.2499479e-02, 9.7741139e-01],\n",
       "       [4.3005843e-05, 2.6769307e-05, 9.9993026e-01],\n",
       "       [1.6689274e-04, 9.7011459e-01, 2.9718539e-02],\n",
       "       [6.0743267e-05, 1.3254707e-05, 9.9992597e-01]], dtype=float32)"
      ]
     },
     "execution_count": 55,
     "metadata": {},
     "output_type": "execute_result"
    }
   ],
   "source": [
    "ann_result[0:4]"
   ]
  },
  {
   "cell_type": "code",
   "execution_count": 56,
   "metadata": {},
   "outputs": [
    {
     "name": "stdout",
     "output_type": "stream",
     "text": [
      "[[15381     0     0]\n",
      " [    0 24126    37]\n",
      " [    0   248 39208]]\n",
      "\n",
      "\n",
      "              precision    recall  f1-score   support\n",
      "\n",
      "           0       1.00      1.00      1.00     15381\n",
      "           1       0.99      1.00      0.99     24163\n",
      "           2       1.00      0.99      1.00     39456\n",
      "\n",
      "   micro avg       1.00      1.00      1.00     79000\n",
      "   macro avg       1.00      1.00      1.00     79000\n",
      "weighted avg       1.00      1.00      1.00     79000\n",
      "\n"
     ]
    }
   ],
   "source": [
    "print(confusion_matrix(y_test, np.argmax(ann_result, axis=1)))\n",
    "print(\"\\n\")\n",
    "print(classification_report(y_test, np.argmax(ann_result, axis=1)))"
   ]
  }
 ],
 "metadata": {
  "kernelspec": {
   "display_name": "Python 3",
   "language": "python",
   "name": "python3"
  },
  "language_info": {
   "codemirror_mode": {
    "name": "ipython",
    "version": 3
   },
   "file_extension": ".py",
   "mimetype": "text/x-python",
   "name": "python",
   "nbconvert_exporter": "python",
   "pygments_lexer": "ipython3",
   "version": "3.7.3"
  }
 },
 "nbformat": 4,
 "nbformat_minor": 2
}
