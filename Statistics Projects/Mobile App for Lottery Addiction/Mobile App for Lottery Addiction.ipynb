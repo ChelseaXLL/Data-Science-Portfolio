{
 "cells": [
  {
   "cell_type": "markdown",
   "metadata": {},
   "source": [
    "# Mobile App for Lottery Addiction"
   ]
  },
  {
   "cell_type": "markdown",
   "metadata": {},
   "source": [
    "## Goal\n",
    "**Many people are easy to get addicted to playing lottery, which will put a huge burden on their savings, they usually are not clear about chance for winning. This project aims at finding out probability of winning lottery, which will to a certain extent prevent addiction. More specifically, it will focus on the 6/49 lottery and solve all possible winning scenarios:**\n",
    "\n",
    "- One-ticket Probability\n",
    "- Multi-ticket probability\n",
    "- Less winning numbers"
   ]
  },
  {
   "cell_type": "markdown",
   "metadata": {},
   "source": [
    "## background of 6/49 Lottery\n",
    "In the 6/49 lottery, six numbers are drawn from a set of 49 numbers that range from 1 to 49. A player wins the big prize if the six numbers on their tickets match all the six numbers drawn. If a player has a ticket with the numbers {13, 22, 24, 27, 42, 44}, he only wins the big prize if the numbers drawn are {13, 22, 24, 27, 42, 44}. If only one number differs, he doesn't win"
   ]
  },
  {
   "cell_type": "markdown",
   "metadata": {},
   "source": [
    "## Dataset\n",
    "This dataset, which dates from 1982 to 2018 was made public on <a href='https://www.kaggle.com/datascienceai/lottery-dataset'> Kaggle </a>, where it was downloaded."
   ]
  },
  {
   "cell_type": "code",
   "execution_count": 1,
   "metadata": {
    "collapsed": true
   },
   "outputs": [],
   "source": [
    "import pandas as pd\n",
    "import numpy as np\n",
    "import random"
   ]
  },
  {
   "cell_type": "markdown",
   "metadata": {},
   "source": [
    "**Constrcuct functions**"
   ]
  },
  {
   "cell_type": "markdown",
   "metadata": {},
   "source": [
    "functions for:\n",
    "- Factorial\n",
    "- Permutation\n",
    "- Combination"
   ]
  },
  {
   "cell_type": "code",
   "execution_count": 2,
   "metadata": {
    "collapsed": true
   },
   "outputs": [],
   "source": [
    "#Factorial function \n",
    "def factorial(n):\n",
    "    fact=1\n",
    "    for i in range(n, 0, -1):\n",
    "        fact *= i\n",
    "    return fact\n",
    "\n",
    "#Permutation\n",
    "def permutation(n,k):\n",
    "    numerator=1\n",
    "    denominator=1\n",
    "    for i in range(n,0,-1):\n",
    "        numerator *= i\n",
    "    for j in range(n-k,0,-1):\n",
    "        denominator *= j\n",
    "    return numerator/denominator\n",
    "\n",
    "#Combination\n",
    "def combinations(n,k):\n",
    "    numerator=factorial(n)\n",
    "    denominator=factorial(k)*factorial(n-k)\n",
    "    return numerator/denominator"
   ]
  },
  {
   "cell_type": "markdown",
   "metadata": {},
   "source": [
    "## One-Ticket Probability"
   ]
  },
  {
   "cell_type": "markdown",
   "metadata": {},
   "source": [
    "For each drawing, six numbers are drawn from a set of 49, and a player wins the big prize if the six numbers on their tickets match all six numbers"
   ]
  },
  {
   "cell_type": "markdown",
   "metadata": {
    "collapsed": true
   },
   "source": [
    "Functions for calculating the winning probability"
   ]
  },
  {
   "cell_type": "code",
   "execution_count": 3,
   "metadata": {
    "collapsed": false
   },
   "outputs": [],
   "source": [
    "def one_ticket_probability(user_number):\n",
    "    \n",
    "    n_combinations= combinations(49,6)\n",
    "    prob_single_ticket=1/n_combinations\n",
    "    percentage_single=prob_single_ticket*100\n",
    "    \n",
    "    print('''Your chances to win the big prize with the numbers {} are {:.7f}%.'''.format(user_number,\n",
    "                    percentage_single))\n",
    "    "
   ]
  },
  {
   "cell_type": "markdown",
   "metadata": {},
   "source": [
    "Test the functioin"
   ]
  },
  {
   "cell_type": "code",
   "execution_count": 4,
   "metadata": {
    "collapsed": false
   },
   "outputs": [
    {
     "data": {
      "text/plain": [
       "[14, 1, 48, 37, 26, 10]"
      ]
     },
     "execution_count": 4,
     "metadata": {},
     "output_type": "execute_result"
    }
   ],
   "source": [
    "#Generate 6 unique numbers\n",
    "user_numbers_list=random.sample(range(1, 50), 6)\n",
    "user_numbers_list"
   ]
  },
  {
   "cell_type": "code",
   "execution_count": 5,
   "metadata": {
    "collapsed": false
   },
   "outputs": [
    {
     "name": "stdout",
     "output_type": "stream",
     "text": [
      "Your chances to win the big prize with the numbers [14, 1, 48, 37, 26, 10] are 0.0000072%.\n"
     ]
    }
   ],
   "source": [
    "#parse the list into the function\n",
    "one_ticket_probability(user_numbers_list)"
   ]
  },
  {
   "cell_type": "markdown",
   "metadata": {},
   "source": [
    "**Import the data**"
   ]
  },
  {
   "cell_type": "code",
   "execution_count": 6,
   "metadata": {
    "collapsed": false
   },
   "outputs": [
    {
     "data": {
      "text/html": [
       "<div>\n",
       "<style scoped>\n",
       "    .dataframe tbody tr th:only-of-type {\n",
       "        vertical-align: middle;\n",
       "    }\n",
       "\n",
       "    .dataframe tbody tr th {\n",
       "        vertical-align: top;\n",
       "    }\n",
       "\n",
       "    .dataframe thead th {\n",
       "        text-align: right;\n",
       "    }\n",
       "</style>\n",
       "<table border=\"1\" class=\"dataframe\">\n",
       "  <thead>\n",
       "    <tr style=\"text-align: right;\">\n",
       "      <th></th>\n",
       "      <th>PRODUCT</th>\n",
       "      <th>DRAW NUMBER</th>\n",
       "      <th>SEQUENCE NUMBER</th>\n",
       "      <th>DRAW DATE</th>\n",
       "      <th>NUMBER DRAWN 1</th>\n",
       "      <th>NUMBER DRAWN 2</th>\n",
       "      <th>NUMBER DRAWN 3</th>\n",
       "      <th>NUMBER DRAWN 4</th>\n",
       "      <th>NUMBER DRAWN 5</th>\n",
       "      <th>NUMBER DRAWN 6</th>\n",
       "      <th>BONUS NUMBER</th>\n",
       "    </tr>\n",
       "  </thead>\n",
       "  <tbody>\n",
       "    <tr>\n",
       "      <th>0</th>\n",
       "      <td>649</td>\n",
       "      <td>1</td>\n",
       "      <td>0</td>\n",
       "      <td>6/12/1982</td>\n",
       "      <td>3</td>\n",
       "      <td>11</td>\n",
       "      <td>12</td>\n",
       "      <td>14</td>\n",
       "      <td>41</td>\n",
       "      <td>43</td>\n",
       "      <td>13</td>\n",
       "    </tr>\n",
       "    <tr>\n",
       "      <th>1</th>\n",
       "      <td>649</td>\n",
       "      <td>2</td>\n",
       "      <td>0</td>\n",
       "      <td>6/19/1982</td>\n",
       "      <td>8</td>\n",
       "      <td>33</td>\n",
       "      <td>36</td>\n",
       "      <td>37</td>\n",
       "      <td>39</td>\n",
       "      <td>41</td>\n",
       "      <td>9</td>\n",
       "    </tr>\n",
       "    <tr>\n",
       "      <th>2</th>\n",
       "      <td>649</td>\n",
       "      <td>3</td>\n",
       "      <td>0</td>\n",
       "      <td>6/26/1982</td>\n",
       "      <td>1</td>\n",
       "      <td>6</td>\n",
       "      <td>23</td>\n",
       "      <td>24</td>\n",
       "      <td>27</td>\n",
       "      <td>39</td>\n",
       "      <td>34</td>\n",
       "    </tr>\n",
       "    <tr>\n",
       "      <th>3</th>\n",
       "      <td>649</td>\n",
       "      <td>4</td>\n",
       "      <td>0</td>\n",
       "      <td>7/3/1982</td>\n",
       "      <td>3</td>\n",
       "      <td>9</td>\n",
       "      <td>10</td>\n",
       "      <td>13</td>\n",
       "      <td>20</td>\n",
       "      <td>43</td>\n",
       "      <td>34</td>\n",
       "    </tr>\n",
       "    <tr>\n",
       "      <th>4</th>\n",
       "      <td>649</td>\n",
       "      <td>5</td>\n",
       "      <td>0</td>\n",
       "      <td>7/10/1982</td>\n",
       "      <td>5</td>\n",
       "      <td>14</td>\n",
       "      <td>21</td>\n",
       "      <td>31</td>\n",
       "      <td>34</td>\n",
       "      <td>47</td>\n",
       "      <td>45</td>\n",
       "    </tr>\n",
       "  </tbody>\n",
       "</table>\n",
       "</div>"
      ],
      "text/plain": [
       "   PRODUCT  DRAW NUMBER  SEQUENCE NUMBER  DRAW DATE  NUMBER DRAWN 1  \\\n",
       "0      649            1                0  6/12/1982               3   \n",
       "1      649            2                0  6/19/1982               8   \n",
       "2      649            3                0  6/26/1982               1   \n",
       "3      649            4                0   7/3/1982               3   \n",
       "4      649            5                0  7/10/1982               5   \n",
       "\n",
       "   NUMBER DRAWN 2  NUMBER DRAWN 3  NUMBER DRAWN 4  NUMBER DRAWN 5  \\\n",
       "0              11              12              14              41   \n",
       "1              33              36              37              39   \n",
       "2               6              23              24              27   \n",
       "3               9              10              13              20   \n",
       "4              14              21              31              34   \n",
       "\n",
       "   NUMBER DRAWN 6  BONUS NUMBER  \n",
       "0              43            13  \n",
       "1              41             9  \n",
       "2              39            34  \n",
       "3              43            34  \n",
       "4              47            45  "
      ]
     },
     "execution_count": 6,
     "metadata": {},
     "output_type": "execute_result"
    }
   ],
   "source": [
    "df=pd.read_csv('649.csv')\n",
    "df.head()"
   ]
  },
  {
   "cell_type": "code",
   "execution_count": 7,
   "metadata": {
    "collapsed": false
   },
   "outputs": [
    {
     "name": "stdout",
     "output_type": "stream",
     "text": [
      "<class 'pandas.core.frame.DataFrame'>\n",
      "RangeIndex: 3665 entries, 0 to 3664\n",
      "Data columns (total 11 columns):\n",
      "PRODUCT            3665 non-null int64\n",
      "DRAW NUMBER        3665 non-null int64\n",
      "SEQUENCE NUMBER    3665 non-null int64\n",
      "DRAW DATE          3665 non-null object\n",
      "NUMBER DRAWN 1     3665 non-null int64\n",
      "NUMBER DRAWN 2     3665 non-null int64\n",
      "NUMBER DRAWN 3     3665 non-null int64\n",
      "NUMBER DRAWN 4     3665 non-null int64\n",
      "NUMBER DRAWN 5     3665 non-null int64\n",
      "NUMBER DRAWN 6     3665 non-null int64\n",
      "BONUS NUMBER       3665 non-null int64\n",
      "dtypes: int64(10), object(1)\n",
      "memory usage: 315.0+ KB\n"
     ]
    }
   ],
   "source": [
    "df.info()"
   ]
  },
  {
   "cell_type": "code",
   "execution_count": 8,
   "metadata": {
    "collapsed": false
   },
   "outputs": [
    {
     "data": {
      "text/plain": [
       "PRODUCT            0\n",
       "DRAW NUMBER        0\n",
       "SEQUENCE NUMBER    0\n",
       "DRAW DATE          0\n",
       "NUMBER DRAWN 1     0\n",
       "NUMBER DRAWN 2     0\n",
       "NUMBER DRAWN 3     0\n",
       "NUMBER DRAWN 4     0\n",
       "NUMBER DRAWN 5     0\n",
       "NUMBER DRAWN 6     0\n",
       "BONUS NUMBER       0\n",
       "dtype: int64"
      ]
     },
     "execution_count": 8,
     "metadata": {},
     "output_type": "execute_result"
    }
   ],
   "source": [
    "#Check null values\n",
    "df.isnull().sum()"
   ]
  },
  {
   "cell_type": "markdown",
   "metadata": {},
   "source": [
    "Write a function to extract winning numbers from the dataset, column based"
   ]
  },
  {
   "cell_type": "code",
   "execution_count": 9,
   "metadata": {
    "collapsed": false
   },
   "outputs": [
    {
     "data": {
      "text/plain": [
       "0    {3, 41, 11, 12, 43, 14}\n",
       "1    {33, 36, 37, 39, 8, 41}\n",
       "2     {1, 6, 39, 23, 24, 27}\n",
       "3     {3, 9, 10, 43, 13, 20}\n",
       "4    {34, 5, 14, 47, 21, 31}\n",
       "dtype: object"
      ]
     },
     "execution_count": 9,
     "metadata": {},
     "output_type": "execute_result"
    }
   ],
   "source": [
    "def extract_number(column):\n",
    "    col=column[4:10]\n",
    "    col=set(col.values)\n",
    "    return col\n",
    "\n",
    "winning_numbers=df.apply(extract_number, axis=1)\n",
    "winning_numbers.head()"
   ]
  },
  {
   "cell_type": "markdown",
   "metadata": {},
   "source": [
    "**Historical Data Check**"
   ]
  },
  {
   "cell_type": "markdown",
   "metadata": {},
   "source": [
    "Write a functions which compare the user numbers and historical number sets, then print information with respect to the number of occurrences and probability of winning in the next drawing"
   ]
  },
  {
   "cell_type": "code",
   "execution_count": 12,
   "metadata": {
    "collapsed": true
   },
   "outputs": [],
   "source": [
    "def check_historical_occurrence(user_numbers, historical_numbers):\n",
    "    \n",
    "    #Convert Usernumbers to a list\n",
    "    user_numbers=set(user_numbers)\n",
    "    \n",
    "    #compare user numbers to historical umbers, then sum up times of occurence\n",
    "    occurence=user_numbers == historical_numbers\n",
    "    total_occurence=occurence.sum()\n",
    "    \n",
    "    if total_occurence ==0:\n",
    "        print(\"Your combination {} has never occured. The chance to win in the next drwaing using the combination {} is 0.0000072%.\".format(\n",
    "        user_numbers, user_numbers))\n",
    "    \n",
    "    else:\n",
    "        print(\"Number of times of Your combination {} has occured is {}. The chance to win in the next drwaing using the combination {} is 0.0000072%.\".format(\n",
    "        user_numbers, total_occurence,user_numbers\n",
    "        ))"
   ]
  },
  {
   "cell_type": "code",
   "execution_count": 13,
   "metadata": {
    "collapsed": false
   },
   "outputs": [
    {
     "name": "stdout",
     "output_type": "stream",
     "text": [
      "Number of times of Your combination {3, 41, 11, 12, 43, 14} has occured is 1. The chance to win in the next drwaing using the combination {3, 41, 11, 12, 43, 14} is 0.0000072%.\n"
     ]
    }
   ],
   "source": [
    "#Use first set of historical data to test the function\n",
    "test = [3, 41, 11, 12, 43, 14]\n",
    "check_historical_occurrence(test, winning_numbers)"
   ]
  },
  {
   "cell_type": "markdown",
   "metadata": {},
   "source": [
    "**Random Test & Conclusion"
   ]
  },
  {
   "cell_type": "code",
   "execution_count": 15,
   "metadata": {
    "collapsed": false
   },
   "outputs": [
    {
     "name": "stdout",
     "output_type": "stream",
     "text": [
      "Your combination {1, 37, 10, 14, 48, 26} has never occured. The chance to win in the next drwaing using the combination {1, 37, 10, 14, 48, 26} is 0.0000072%.\n"
     ]
    }
   ],
   "source": [
    "#Use randomly generate number to test\n",
    "check_historical_occurrence(user_numbers_list, winning_numbers)"
   ]
  },
  {
   "cell_type": "markdown",
   "metadata": {},
   "source": [
    "## Multi-ticket Probability"
   ]
  },
  {
   "cell_type": "markdown",
   "metadata": {},
   "source": [
    "Suppose users want to try their luck on purchase of multiple ticket instead of betting on single-obe shot, they would also need to be aware of the exact probility that they are going to win"
   ]
  },
  {
   "cell_type": "markdown",
   "metadata": {},
   "source": [
    "Function for nulti-ticket probability calculation"
   ]
  },
  {
   "cell_type": "code",
   "execution_count": 20,
   "metadata": {
    "collapsed": true
   },
   "outputs": [],
   "source": [
    "def multi_ticket_probability(tickets):\n",
    "    \n",
    "    n_combinations=combinations(49,6)\n",
    "    prob_multi_ticket=tickets/n_combinations\n",
    "    percentage_multi=prob_multi_ticket*100\n",
    "    \n",
    "\n",
    "    print('''Your chances to win the big prize with the numbers {} are {:.7f}%.'''.format(tickets,\n",
    "                    percentage_multi))\n",
    "    \n",
    "#     n_combinations= combinations(49,6)\n",
    "#     prob_single_ticket=1/n_combinations\n",
    "#     percentage_single=prob_single_ticket*100"
   ]
  },
  {
   "cell_type": "markdown",
   "metadata": {},
   "source": [
    "**Conclusion**"
   ]
  },
  {
   "cell_type": "code",
   "execution_count": 23,
   "metadata": {
    "collapsed": false
   },
   "outputs": [
    {
     "name": "stdout",
     "output_type": "stream",
     "text": [
      "Your chances to win the big prize with the numbers 1 are 0.0000072%.\n",
      "--------------------\n",
      "Your chances to win the big prize with the numbers 3 are 0.0000215%.\n",
      "--------------------\n",
      "Your chances to win the big prize with the numbers 10 are 0.0000715%.\n",
      "--------------------\n",
      "Your chances to win the big prize with the numbers 200 are 0.0014302%.\n",
      "--------------------\n",
      "Your chances to win the big prize with the numbers 500 are 0.0035756%.\n",
      "--------------------\n",
      "Your chances to win the big prize with the numbers 1000 are 0.0071511%.\n",
      "--------------------\n",
      "Your chances to win the big prize with the numbers 5000 are 0.0357556%.\n",
      "--------------------\n",
      "Your chances to win the big prize with the numbers 10000 are 0.0715112%.\n",
      "--------------------\n",
      "Your chances to win the big prize with the numbers 1000000 are 7.1511238%.\n",
      "--------------------\n",
      "Your chances to win the big prize with the numbers 6991908 are 50.0000000%.\n",
      "--------------------\n",
      "Your chances to win the big prize with the numbers 13983816 are 100.0000000%.\n",
      "--------------------\n"
     ]
    }
   ],
   "source": [
    "#Use a loop to run multiple test \n",
    "n_tickets=[1,3,10,200,500,1000,5000,10000,1000000, 6991908, 13983816]\n",
    "\n",
    "for n in n_tickets:\n",
    "    multi_ticket_probability(n)\n",
    "    print('--------------------')"
   ]
  },
  {
   "cell_type": "markdown",
   "metadata": {},
   "source": [
    "## Less winning numbers"
   ]
  },
  {
   "cell_type": "markdown",
   "metadata": {},
   "source": [
    "There are situations that in most 6/49 lotteries there are smaller prizes if a player's ticket match two, three, four, or five of the six numbers drawn. As a consequence, the users might be interested in knowing the probability of having two, three, four, or five winning numbers"
   ]
  },
  {
   "cell_type": "markdown",
   "metadata": {},
   "source": [
    "Function for finding probability of wining with less winning numbers (from 2 to 5)"
   ]
  },
  {
   "cell_type": "code",
   "execution_count": 40,
   "metadata": {
    "collapsed": false
   },
   "outputs": [],
   "source": [
    "def less_winning_probabilities(n_winning):\n",
    "    #First, calculate the number of total combinations\n",
    "    n_combinations_tickets=combinations(6,n_winning)\n",
    "    \n",
    "    #Calculate the number of combinations for remaining numbers\n",
    "    n_combinations_remaining=combinations(43, 6-n_winning)\n",
    "    \n",
    "    #Total successful outcomes\n",
    "    successful_outcomes=n_combinations_tickets * n_combinations_remaining\n",
    "    \n",
    "    #Total Combinations\n",
    "    total_outcomes=combinations(49,6)\n",
    "    \n",
    "    less_winning_probability=successful_outcomes/total_outcomes\n",
    "    percentage=less_winning_probability*100\n",
    "    \n",
    "    print('''Your chances to win the big prize with {} numbers are {:.6f}%.'''.format(n_winning,\n",
    "                    percentage))\n",
    "    "
   ]
  },
  {
   "cell_type": "markdown",
   "metadata": {},
   "source": [
    "**Conclusion**"
   ]
  },
  {
   "cell_type": "code",
   "execution_count": 41,
   "metadata": {
    "collapsed": false
   },
   "outputs": [
    {
     "name": "stdout",
     "output_type": "stream",
     "text": [
      "Your chances to win the big prize with 2 numbers are 13.237803%.\n",
      "---------------------------\n",
      "Your chances to win the big prize with 3 numbers are 1.765040%.\n",
      "---------------------------\n",
      "Your chances to win the big prize with 4 numbers are 0.096862%.\n",
      "---------------------------\n",
      "Your chances to win the big prize with 5 numbers are 0.001845%.\n",
      "---------------------------\n"
     ]
    }
   ],
   "source": [
    "for n in [2,3,4,5]:\n",
    "    less_winning_probabilities(n)\n",
    "    print('---------------------------')"
   ]
  },
  {
   "cell_type": "code",
   "execution_count": null,
   "metadata": {
    "collapsed": true
   },
   "outputs": [],
   "source": []
  }
 ],
 "metadata": {
  "kernelspec": {
   "display_name": "Python 3",
   "language": "python",
   "name": "python3"
  },
  "language_info": {
   "codemirror_mode": {
    "name": "ipython",
    "version": 3
   },
   "file_extension": ".py",
   "mimetype": "text/x-python",
   "name": "python",
   "nbconvert_exporter": "python",
   "pygments_lexer": "ipython3",
   "version": "3.4.3"
  }
 },
 "nbformat": 4,
 "nbformat_minor": 2
}
