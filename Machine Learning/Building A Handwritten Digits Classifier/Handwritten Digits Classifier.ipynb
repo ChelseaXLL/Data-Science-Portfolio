{
 "cells": [
  {
   "cell_type": "markdown",
   "metadata": {},
   "source": [
    "# Building A Handwritten Digits Classifier"
   ]
  },
  {
   "cell_type": "markdown",
   "metadata": {},
   "source": [
    "## Goal:\n",
    "To build a classifier using both regular classification methods and deep learning frame work"
   ]
  },
  {
   "cell_type": "markdown",
   "metadata": {},
   "source": [
    "## Datasets:\n",
    "Import the data directly from sklearn. Converting the data into a pandas DataFrame as a tabular representation is needed"
   ]
  },
  {
   "cell_type": "markdown",
   "metadata": {},
   "source": [
    "**Note: This dataset is quite popular for a while for image classification purpose, but I never got my hands on it to test my own logics. I implemented deep learning along with other machgine learning algorithms against it, then check individual performance**"
   ]
  },
  {
   "cell_type": "code",
   "execution_count": 30,
   "metadata": {
    "collapsed": false
   },
   "outputs": [],
   "source": [
    "import pandas as pd\n",
    "import numpy as np\n",
    "from sklearn.datasets import load_digits\n",
    "from sklearn.neighbors import KNeighborsClassifier\n",
    "from sklearn.neural_network import MLPClassifier\n",
    "from sklearn.model_selection import cross_val_score, GridSearchCV\n",
    "from sklearn.ensemble import RandomForestClassifier\n",
    "from sklearn.metrics import accuracy_score\n",
    "import matplotlib.pyplot as plt\n",
    "import warnings\n",
    "warnings.filterwarnings(\"ignore\")\n",
    "%matplotlib inline"
   ]
  },
  {
   "cell_type": "code",
   "execution_count": 14,
   "metadata": {
    "collapsed": false
   },
   "outputs": [
    {
     "data": {
      "text/plain": [
       "<matplotlib.figure.Figure at 0x7f473053f320>"
      ]
     },
     "metadata": {},
     "output_type": "display_data"
    },
    {
     "data": {
      "image/png": "[encoded data removed]",
      "text/plain": [
       "<matplotlib.figure.Figure at 0x7f4732ba0630>"
      ]
     },
     "metadata": {},
     "output_type": "display_data"
    }
   ],
   "source": [
    "digits = load_digits()\n",
    "plt.gray() \n",
    "plt.matshow(digits.images[0]) \n",
    "plt.show() "
   ]
  },
  {
   "cell_type": "code",
   "execution_count": 22,
   "metadata": {
    "collapsed": false
   },
   "outputs": [
    {
     "data": {
      "text/html": [
       "<div>\n",
       "<style scoped>\n",
       "    .dataframe tbody tr th:only-of-type {\n",
       "        vertical-align: middle;\n",
       "    }\n",
       "\n",
       "    .dataframe tbody tr th {\n",
       "        vertical-align: top;\n",
       "    }\n",
       "\n",
       "    .dataframe thead th {\n",
       "        text-align: right;\n",
       "    }\n",
       "</style>\n",
       "<table border=\"1\" class=\"dataframe\">\n",
       "  <thead>\n",
       "    <tr style=\"text-align: right;\">\n",
       "      <th></th>\n",
       "      <th>0</th>\n",
       "      <th>1</th>\n",
       "      <th>2</th>\n",
       "      <th>3</th>\n",
       "      <th>4</th>\n",
       "      <th>5</th>\n",
       "      <th>6</th>\n",
       "      <th>7</th>\n",
       "    </tr>\n",
       "  </thead>\n",
       "  <tbody>\n",
       "    <tr>\n",
       "      <th>0</th>\n",
       "      <td>0.0</td>\n",
       "      <td>0.0</td>\n",
       "      <td>5.0</td>\n",
       "      <td>13.0</td>\n",
       "      <td>9.0</td>\n",
       "      <td>1.0</td>\n",
       "      <td>0.0</td>\n",
       "      <td>0.0</td>\n",
       "    </tr>\n",
       "    <tr>\n",
       "      <th>1</th>\n",
       "      <td>0.0</td>\n",
       "      <td>0.0</td>\n",
       "      <td>13.0</td>\n",
       "      <td>15.0</td>\n",
       "      <td>10.0</td>\n",
       "      <td>15.0</td>\n",
       "      <td>5.0</td>\n",
       "      <td>0.0</td>\n",
       "    </tr>\n",
       "    <tr>\n",
       "      <th>2</th>\n",
       "      <td>0.0</td>\n",
       "      <td>3.0</td>\n",
       "      <td>15.0</td>\n",
       "      <td>2.0</td>\n",
       "      <td>0.0</td>\n",
       "      <td>11.0</td>\n",
       "      <td>8.0</td>\n",
       "      <td>0.0</td>\n",
       "    </tr>\n",
       "    <tr>\n",
       "      <th>3</th>\n",
       "      <td>0.0</td>\n",
       "      <td>4.0</td>\n",
       "      <td>12.0</td>\n",
       "      <td>0.0</td>\n",
       "      <td>0.0</td>\n",
       "      <td>8.0</td>\n",
       "      <td>8.0</td>\n",
       "      <td>0.0</td>\n",
       "    </tr>\n",
       "    <tr>\n",
       "      <th>4</th>\n",
       "      <td>0.0</td>\n",
       "      <td>5.0</td>\n",
       "      <td>8.0</td>\n",
       "      <td>0.0</td>\n",
       "      <td>0.0</td>\n",
       "      <td>9.0</td>\n",
       "      <td>8.0</td>\n",
       "      <td>0.0</td>\n",
       "    </tr>\n",
       "  </tbody>\n",
       "</table>\n",
       "</div>"
      ],
      "text/plain": [
       "     0    1     2     3     4     5    6    7\n",
       "0  0.0  0.0   5.0  13.0   9.0   1.0  0.0  0.0\n",
       "1  0.0  0.0  13.0  15.0  10.0  15.0  5.0  0.0\n",
       "2  0.0  3.0  15.0   2.0   0.0  11.0  8.0  0.0\n",
       "3  0.0  4.0  12.0   0.0   0.0   8.0  8.0  0.0\n",
       "4  0.0  5.0   8.0   0.0   0.0   9.0  8.0  0.0"
      ]
     },
     "execution_count": 22,
     "metadata": {},
     "output_type": "execute_result"
    }
   ],
   "source": [
    "data=digits.images\n",
    "img=pd.DataFrame(data[0])\n",
    "img.head()"
   ]
  },
  {
   "cell_type": "code",
   "execution_count": 23,
   "metadata": {
    "collapsed": false
   },
   "outputs": [
    {
     "data": {
      "image/png": "[encoded data removed]",
      "text/plain": [
       "<matplotlib.figure.Figure at 0x7f47307a8ef0>"
      ]
     },
     "metadata": {},
     "output_type": "display_data"
    }
   ],
   "source": [
    "#Generate a Scatter plot grid, with 2 rows and 4 columns\n",
    "fig=plt.figure(figsize=(20,10))\n",
    "ax={}\n",
    "for i in range(1,9,1):\n",
    "    ax[i]=fig.add_subplot(2,4,i)\n",
    "    \n",
    "count=1\n",
    "\n",
    "#Visualze images corresponding to certain number of rows\n",
    "for row in [0,100,200,300,1000,1100,1200,1300]:\n",
    "    img=pd.DataFrame(data[row])\n",
    "    ax[count].matshow(img)\n",
    "    count += 1\n",
    "    \n",
    "plt.show()\n",
    "    "
   ]
  },
  {
   "cell_type": "markdown",
   "metadata": {},
   "source": [
    "Convert images to a dataframe"
   ]
  },
  {
   "cell_type": "code",
   "execution_count": 24,
   "metadata": {
    "collapsed": false
   },
   "outputs": [
    {
     "data": {
      "text/html": [
       "<div>\n",
       "<style scoped>\n",
       "    .dataframe tbody tr th:only-of-type {\n",
       "        vertical-align: middle;\n",
       "    }\n",
       "\n",
       "    .dataframe tbody tr th {\n",
       "        vertical-align: top;\n",
       "    }\n",
       "\n",
       "    .dataframe thead th {\n",
       "        text-align: right;\n",
       "    }\n",
       "</style>\n",
       "<table border=\"1\" class=\"dataframe\">\n",
       "  <thead>\n",
       "    <tr style=\"text-align: right;\">\n",
       "      <th></th>\n",
       "      <th>0</th>\n",
       "      <th>1</th>\n",
       "      <th>2</th>\n",
       "      <th>3</th>\n",
       "      <th>4</th>\n",
       "      <th>5</th>\n",
       "      <th>6</th>\n",
       "      <th>7</th>\n",
       "      <th>8</th>\n",
       "      <th>9</th>\n",
       "      <th>...</th>\n",
       "      <th>55</th>\n",
       "      <th>56</th>\n",
       "      <th>57</th>\n",
       "      <th>58</th>\n",
       "      <th>59</th>\n",
       "      <th>60</th>\n",
       "      <th>61</th>\n",
       "      <th>62</th>\n",
       "      <th>63</th>\n",
       "      <th>target</th>\n",
       "    </tr>\n",
       "  </thead>\n",
       "  <tbody>\n",
       "    <tr>\n",
       "      <th>0</th>\n",
       "      <td>0.0</td>\n",
       "      <td>0.0</td>\n",
       "      <td>5.0</td>\n",
       "      <td>13.0</td>\n",
       "      <td>9.0</td>\n",
       "      <td>1.0</td>\n",
       "      <td>0.0</td>\n",
       "      <td>0.0</td>\n",
       "      <td>0.0</td>\n",
       "      <td>0.0</td>\n",
       "      <td>...</td>\n",
       "      <td>0.0</td>\n",
       "      <td>0.0</td>\n",
       "      <td>0.0</td>\n",
       "      <td>6.0</td>\n",
       "      <td>13.0</td>\n",
       "      <td>10.0</td>\n",
       "      <td>0.0</td>\n",
       "      <td>0.0</td>\n",
       "      <td>0.0</td>\n",
       "      <td>0</td>\n",
       "    </tr>\n",
       "    <tr>\n",
       "      <th>1</th>\n",
       "      <td>0.0</td>\n",
       "      <td>0.0</td>\n",
       "      <td>0.0</td>\n",
       "      <td>12.0</td>\n",
       "      <td>13.0</td>\n",
       "      <td>5.0</td>\n",
       "      <td>0.0</td>\n",
       "      <td>0.0</td>\n",
       "      <td>0.0</td>\n",
       "      <td>0.0</td>\n",
       "      <td>...</td>\n",
       "      <td>0.0</td>\n",
       "      <td>0.0</td>\n",
       "      <td>0.0</td>\n",
       "      <td>0.0</td>\n",
       "      <td>11.0</td>\n",
       "      <td>16.0</td>\n",
       "      <td>10.0</td>\n",
       "      <td>0.0</td>\n",
       "      <td>0.0</td>\n",
       "      <td>1</td>\n",
       "    </tr>\n",
       "    <tr>\n",
       "      <th>2</th>\n",
       "      <td>0.0</td>\n",
       "      <td>0.0</td>\n",
       "      <td>0.0</td>\n",
       "      <td>4.0</td>\n",
       "      <td>15.0</td>\n",
       "      <td>12.0</td>\n",
       "      <td>0.0</td>\n",
       "      <td>0.0</td>\n",
       "      <td>0.0</td>\n",
       "      <td>0.0</td>\n",
       "      <td>...</td>\n",
       "      <td>0.0</td>\n",
       "      <td>0.0</td>\n",
       "      <td>0.0</td>\n",
       "      <td>0.0</td>\n",
       "      <td>3.0</td>\n",
       "      <td>11.0</td>\n",
       "      <td>16.0</td>\n",
       "      <td>9.0</td>\n",
       "      <td>0.0</td>\n",
       "      <td>2</td>\n",
       "    </tr>\n",
       "    <tr>\n",
       "      <th>3</th>\n",
       "      <td>0.0</td>\n",
       "      <td>0.0</td>\n",
       "      <td>7.0</td>\n",
       "      <td>15.0</td>\n",
       "      <td>13.0</td>\n",
       "      <td>1.0</td>\n",
       "      <td>0.0</td>\n",
       "      <td>0.0</td>\n",
       "      <td>0.0</td>\n",
       "      <td>8.0</td>\n",
       "      <td>...</td>\n",
       "      <td>0.0</td>\n",
       "      <td>0.0</td>\n",
       "      <td>0.0</td>\n",
       "      <td>7.0</td>\n",
       "      <td>13.0</td>\n",
       "      <td>13.0</td>\n",
       "      <td>9.0</td>\n",
       "      <td>0.0</td>\n",
       "      <td>0.0</td>\n",
       "      <td>3</td>\n",
       "    </tr>\n",
       "    <tr>\n",
       "      <th>4</th>\n",
       "      <td>0.0</td>\n",
       "      <td>0.0</td>\n",
       "      <td>0.0</td>\n",
       "      <td>1.0</td>\n",
       "      <td>11.0</td>\n",
       "      <td>0.0</td>\n",
       "      <td>0.0</td>\n",
       "      <td>0.0</td>\n",
       "      <td>0.0</td>\n",
       "      <td>0.0</td>\n",
       "      <td>...</td>\n",
       "      <td>0.0</td>\n",
       "      <td>0.0</td>\n",
       "      <td>0.0</td>\n",
       "      <td>0.0</td>\n",
       "      <td>2.0</td>\n",
       "      <td>16.0</td>\n",
       "      <td>4.0</td>\n",
       "      <td>0.0</td>\n",
       "      <td>0.0</td>\n",
       "      <td>4</td>\n",
       "    </tr>\n",
       "  </tbody>\n",
       "</table>\n",
       "<p>5 rows × 65 columns</p>\n",
       "</div>"
      ],
      "text/plain": [
       "     0    1    2     3     4     5    6    7    8    9   ...     55   56   57  \\\n",
       "0  0.0  0.0  5.0  13.0   9.0   1.0  0.0  0.0  0.0  0.0   ...    0.0  0.0  0.0   \n",
       "1  0.0  0.0  0.0  12.0  13.0   5.0  0.0  0.0  0.0  0.0   ...    0.0  0.0  0.0   \n",
       "2  0.0  0.0  0.0   4.0  15.0  12.0  0.0  0.0  0.0  0.0   ...    0.0  0.0  0.0   \n",
       "3  0.0  0.0  7.0  15.0  13.0   1.0  0.0  0.0  0.0  8.0   ...    0.0  0.0  0.0   \n",
       "4  0.0  0.0  0.0   1.0  11.0   0.0  0.0  0.0  0.0  0.0   ...    0.0  0.0  0.0   \n",
       "\n",
       "    58    59    60    61   62   63  target  \n",
       "0  6.0  13.0  10.0   0.0  0.0  0.0       0  \n",
       "1  0.0  11.0  16.0  10.0  0.0  0.0       1  \n",
       "2  0.0   3.0  11.0  16.0  9.0  0.0       2  \n",
       "3  7.0  13.0  13.0   9.0  0.0  0.0       3  \n",
       "4  0.0   2.0  16.0   4.0  0.0  0.0       4  \n",
       "\n",
       "[5 rows x 65 columns]"
      ]
     },
     "execution_count": 24,
     "metadata": {},
     "output_type": "execute_result"
    }
   ],
   "source": [
    "df=pd.DataFrame(np.c_[digits['data']])\n",
    "df['target']=digits['target']\n",
    "df.head()"
   ]
  },
  {
   "cell_type": "markdown",
   "metadata": {},
   "source": [
    "Split the data"
   ]
  },
  {
   "cell_type": "code",
   "execution_count": 25,
   "metadata": {
    "collapsed": false
   },
   "outputs": [
    {
     "name": "stdout",
     "output_type": "stream",
     "text": [
      "Length of trainset:  1437\n",
      "Length of testset:  360\n"
     ]
    }
   ],
   "source": [
    "#Split data into train/test sets\n",
    "df_shuffle=df.sample(frac=1).reset_index(drop=True)\n",
    "bound=int(df_shuffle.shape[0]*0.8)\n",
    "\n",
    "train=df[:bound]\n",
    "test=df[bound:]\n",
    "\n",
    "print(\"Length of trainset: \", len(train))\n",
    "print(\"Length of testset: \", len(test))"
   ]
  },
  {
   "cell_type": "markdown",
   "metadata": {},
   "source": [
    "## KNN"
   ]
  },
  {
   "cell_type": "code",
   "execution_count": 26,
   "metadata": {
    "collapsed": true
   },
   "outputs": [],
   "source": [
    "def knn_(trainset, testset, features, target, k):\n",
    "    \n",
    "    knn=KNeighborsClassifier(n_neighbors=k)\n",
    "    knn.fit(train[features], train[target])\n",
    "    predictions=knn.predict(test[features])\n",
    "    score=accuracy_score(predictions, test[target])\n",
    "    return score"
   ]
  },
  {
   "cell_type": "code",
   "execution_count": 27,
   "metadata": {
    "collapsed": false
   },
   "outputs": [
    {
     "data": {
      "image/png": "[encoded data removed]",
      "text/plain": [
       "<matplotlib.figure.Figure at 0x7f473036b978>"
      ]
     },
     "metadata": {},
     "output_type": "display_data"
    }
   ],
   "source": [
    "#Define features and target  for model development\n",
    "target=['target']\n",
    "features=[col for col in df.columns if col not in target]\n",
    "\n",
    "accuracy_scores=[]\n",
    "\n",
    "#Choose different k values to train&visualize results\n",
    "for k in range(1,20,1):\n",
    "    scores=knn_(train,test, features, target, k)\n",
    "    accuracy_scores.append(scores)\n",
    "\n",
    "plt.figure(figsize=(8,8))\n",
    "plt.plot(range(1,20,1), accuracy_scores)\n",
    "plt.grid(True)\n",
    "plt.xlabel(\"Number of K\")\n",
    "plt.ylabel(\"Accuracy\")\n",
    "plt.title(\"KNN\")\n",
    "plt.show()"
   ]
  },
  {
   "cell_type": "code",
   "execution_count": 28,
   "metadata": {
    "collapsed": false
   },
   "outputs": [
    {
     "name": "stdout",
     "output_type": "stream",
     "text": [
      "[0.98901099 0.98895028 0.98885794 0.9859944  0.98028169]\n",
      "cv_scores mean:0.9866190583745389\n"
     ]
    }
   ],
   "source": [
    "# Cross validation score\n",
    "knn_cv=KNeighborsClassifier(n_neighbors=3)\n",
    "cv_scores = cross_val_score(knn_cv, df_shuffle[features], df_shuffle['target'], cv=5)\n",
    "print(cv_scores)\n",
    "print(\"cv_scores mean:{}\".format(np.mean(cv_scores)))"
   ]
  },
  {
   "cell_type": "markdown",
   "metadata": {},
   "source": [
    "## Random Forest (With Grid Search)"
   ]
  },
  {
   "cell_type": "code",
   "execution_count": 31,
   "metadata": {
    "collapsed": true
   },
   "outputs": [],
   "source": [
    "hyperparameters = {\"criterion\": [\"entropy\", \"gini\"],\n",
    "                   \"max_depth\": [5, 10,15,20,25,30, 35],\n",
    "                   \"max_features\": [\"log2\", \"sqrt\"],\n",
    "                   \"min_samples_leaf\": [1, 5],\n",
    "                   \"min_samples_split\": [3, 5,7,9],\n",
    "                   \"n_estimators\": [6, 9,12,15]\n",
    "}"
   ]
  },
  {
   "cell_type": "code",
   "execution_count": 34,
   "metadata": {
    "collapsed": false
   },
   "outputs": [],
   "source": [
    "def rf_(trainset, testset, features, hyperparameters):\n",
    "    \n",
    "    #Initiate the classifier and grid search object\n",
    "    rf=RandomForestClassifier()\n",
    "    grid=GridSearchCV(rf, param_grid=hyperparameters, cv=10)\n",
    "    grid.fit(trainset[features], trainset['target'])\n",
    "    \n",
    "    #Use the best combo to fit the data\n",
    "    best_rf=grid.best_estimator_\n",
    "    cv_scores = cross_val_score(best_rf, df_shuffle[features], df_shuffle['target'], cv=5)\n",
    "    print(\"Best parameters: \", grid.best_params_)\n",
    "    print(\"----------------------\")\n",
    "    print(cv_scores)\n",
    "    print(\"cv_scores mean:{}\".format(np.mean(cv_scores)))"
   ]
  },
  {
   "cell_type": "code",
   "execution_count": 35,
   "metadata": {
    "collapsed": false
   },
   "outputs": [
    {
     "name": "stdout",
     "output_type": "stream",
     "text": [
      "Best parameters:  {'max_depth': 15, 'min_samples_leaf': 1, 'criterion': 'entropy', 'min_samples_split': 3, 'max_features': 'sqrt', 'n_estimators': 12}\n",
      "----------------------\n",
      "[0.97527473 0.95303867 0.94150418 0.96358543 0.94366197]\n",
      "cv_scores mean:0.955412996717102\n"
     ]
    }
   ],
   "source": [
    "rf_(train, test, features, hyperparameters)"
   ]
  },
  {
   "cell_type": "markdown",
   "metadata": {},
   "source": [
    "**Conclusion**\n",
    "KNN (with 3 as the number of K) outerperforms Random Forest"
   ]
  },
  {
   "cell_type": "markdown",
   "metadata": {},
   "source": [
    "## Deep Learning "
   ]
  },
  {
   "cell_type": "markdown",
   "metadata": {},
   "source": [
    "**Single Hidden Layers**"
   ]
  },
  {
   "cell_type": "code",
   "execution_count": 10,
   "metadata": {
    "collapsed": false
   },
   "outputs": [
    {
     "name": "stdout",
     "output_type": "stream",
     "text": [
      "[relu] neuron:8, accuracy_test:0.8444444444444444, accuracy_train:0.9749478079331941\n",
      "[relu] neuron:16, accuracy_test:0.9055555555555556, accuracy_train:0.9951287404314544\n",
      "[relu] neuron:32, accuracy_test:0.9111111111111111, accuracy_train:0.9993041057759221\n",
      "[relu] neuron:64, accuracy_test:0.9055555555555556, accuracy_train:1.0\n",
      "[relu] neuron:128, accuracy_test:0.9194444444444444, accuracy_train:1.0\n",
      "[relu] neuron:256, accuracy_test:0.9277777777777778, accuracy_train:1.0\n",
      "[logistic] neuron:8, accuracy_test:0.8277777777777777, accuracy_train:0.9791231732776617\n",
      "[logistic] neuron:16, accuracy_test:0.8972222222222223, accuracy_train:0.9923451635351427\n",
      "[logistic] neuron:32, accuracy_test:0.9083333333333333, accuracy_train:0.9993041057759221\n",
      "[logistic] neuron:64, accuracy_test:0.9194444444444444, accuracy_train:1.0\n",
      "[logistic] neuron:128, accuracy_test:0.9222222222222223, accuracy_train:1.0\n",
      "[logistic] neuron:256, accuracy_test:0.9222222222222223, accuracy_train:1.0\n"
     ]
    }
   ],
   "source": [
    "neurons=[8, 16, 32, 64, 128, 256]\n",
    "activations=['relu', 'logistic']\n",
    "\n",
    "accuracies_test=[]\n",
    "accuracies_train=[]\n",
    "\n",
    "for acfun in activations:\n",
    "    for n in neurons:\n",
    "        mlp=MLPClassifier(hidden_layer_sizes=(n,), activation=acfun)\n",
    "        mlp.fit(train[features], train['target'])\n",
    "        \n",
    "        test_predictions=mlp.predict(test[features])\n",
    "        accuracy_test=accuracy_score(test['target'], test_predictions)\n",
    "        \n",
    "        train_predictions=mlp.predict(train[features])\n",
    "        accuracy_train=accuracy_score(train['target'], train_predictions)\n",
    "        \n",
    "        accuracies_test.append(accuracy_test)\n",
    "        accuracies_train.append(accuracy_train)\n",
    "        \n",
    "        print(\"[{}] neuron:{}, accuracy_test:{}, accuracy_train:{}\".format(acfun, n, accuracy_test,\n",
    "                                                                                     accuracy_train))"
   ]
  },
  {
   "cell_type": "code",
   "execution_count": 62,
   "metadata": {
    "collapsed": false
   },
   "outputs": [
    {
     "data": {
      "image/png": "[encoded data removed]",
      "text/plain": [
       "<matplotlib.figure.Figure at 0x7f3497d3a940>"
      ]
     },
     "metadata": {},
     "output_type": "display_data"
    }
   ],
   "source": [
    "#PLot relu\n",
    "n_neuron=[8, 16, 32, 64, 128, 256]\n",
    "\n",
    "relu_test=accuracies_test[:6]\n",
    "relu_train=accuracies_train[:6]\n",
    "\n",
    "logistic_test=accuracies_test[6:]\n",
    "logistic_train=accuracies_train[6:]\n",
    "\n",
    "fig = plt.figure(figsize=(8,12)) \n",
    "fig.subplots_adjust(bottom=0.2)\n",
    "\n",
    "ax0=fig.add_subplot(211)\n",
    "ax1=fig.add_subplot(212)\n",
    "\n",
    "\n",
    "#Plot accuracies for ReLU model\n",
    "ax0.plot(range(1,7,1), relu_test,'bo',label='Test Accuracy')\n",
    "ax0.plot(range(1,7,1), relu_train,'ro',label='Train Accuracy')\n",
    "ax0.set_xticklabels(n_neuron)\n",
    "ax0.set_ylim([0.8,1.2])\n",
    "ax0.axhline(1,label='value: 1')\n",
    "ax0.legend()\n",
    "ax0.set_title(\"RELU Function\")\n",
    "ax0.set_xlabel(\"Number of Neurons\")\n",
    "ax0.set_ylabel(\"Accuracy\")\n",
    "\n",
    "#Plot out accuracies for Sigmoid model\n",
    "ax1.plot(range(1,7,1), logistic_test,'bo',label='Test Accuracy')\n",
    "ax1.plot(range(1,7,1), logistic_train,'ro',label='Train Accuracy')\n",
    "ax1.set_xticklabels(n_neuron)\n",
    "ax1.set_ylim([0.8,1.2])\n",
    "ax1.axhline(1,label='value: 1')\n",
    "ax1.legend()\n",
    "ax1.set_title(\"Sigmoid Function\")\n",
    "ax1.set_xlabel(\"Number of Neurons\")\n",
    "ax1.set_ylabel(\"Accuracy\")\n",
    "\n",
    "\n",
    "plt.tight_layout()"
   ]
  },
  {
   "cell_type": "markdown",
   "metadata": {},
   "source": [
    "**Conclusion**\n",
    "\n",
    "By plot out accuracies score , we can see that \n",
    "- Model with \"RELU\" function starts to overfit with 64 neurons and more, because test accuracy starts to decrease while traning accuracy remain 1, which is the maximum value\n",
    "- Model with \"Sigmoid\" function prones to overfitting with 256 and more neurons given that both test_accuracy and train_accuracy remain the same. 128 is the optimal option here\n",
    "\n",
    "With only one hidden layer, sigmoid model beats relu model with higher accuracy without overfitting too much"
   ]
  },
  {
   "cell_type": "markdown",
   "metadata": {},
   "source": [
    "**Try 3 layers with equal number of neurons per layer**"
   ]
  },
  {
   "cell_type": "markdown",
   "metadata": {},
   "source": [
    "Only use three here is because using more hidden layers is known to increase the amount of overfitting, especially when dealing wih small datasets"
   ]
  },
  {
   "cell_type": "code",
   "execution_count": 36,
   "metadata": {
    "collapsed": false
   },
   "outputs": [
    {
     "name": "stdout",
     "output_type": "stream",
     "text": [
      "[relu] neuron:10, accuracy:[0.90969163 0.91796009 0.93736018 0.93707865], overall acuuracy: 0.925523\n",
      "[relu] neuron:64, accuracy:[0.97356828 0.97339246 0.97315436 0.97078652], overall acuuracy: 0.972725\n",
      "[relu] neuron:128, accuracy:[0.97797357 0.97560976 0.9753915  0.9752809 ], overall acuuracy: 0.976064\n",
      "[relu] neuron:256, accuracy:[0.98898678 0.98004435 0.97315436 0.97752809], overall acuuracy: 0.979928\n",
      "[logistic] neuron:10, accuracy:[0.63656388 0.73392461 0.46085011 0.67865169], overall acuuracy: 0.627498\n",
      "[logistic] neuron:64, accuracy:[0.969163   0.96895787 0.97091723 0.95955056], overall acuuracy: 0.967147\n",
      "[logistic] neuron:128, accuracy:[0.98017621 0.97560976 0.97091723 0.97078652], overall acuuracy: 0.974372\n",
      "[logistic] neuron:256, accuracy:[0.98017621 0.98004435 0.97762864 0.96853933], overall acuuracy: 0.976597\n"
     ]
    }
   ],
   "source": [
    "#Try 2 hidden layers\n",
    "activations=['relu', 'logistic']\n",
    "neurons=[10,64,128,256]\n",
    "accuracies=[]\n",
    "\n",
    "for acfun in activations:\n",
    "    for n in neurons:\n",
    "        mlp=MLPClassifier(hidden_layer_sizes=(n,n,n), activation=acfun)\n",
    "        accuracy=cross_val_score(mlp, df_shuffle[features], df_shuffle['target'], cv=4)\n",
    "        accuracies.append(accuracy)\n",
    "        print(\"[{}] neuron:{}, accuracy:{}, overall acuuracy: {:2f}\".format(acfun, n, accuracy, accuracy.mean() ))\n",
    "\n",
    "    "
   ]
  },
  {
   "cell_type": "markdown",
   "metadata": {},
   "source": [
    "**Conclusion**\n",
    "Multiple-layer models are bettern than models with only single one layer. Relu Functions perform better than Sigmoid, and Model with more neurons per layer performs generally better than models with less neuron per layer."
   ]
  },
  {
   "cell_type": "code",
   "execution_count": null,
   "metadata": {
    "collapsed": true
   },
   "outputs": [],
   "source": []
  }
 ],
 "metadata": {
  "anaconda-cloud": {},
  "kernelspec": {
   "display_name": "Python 3",
   "language": "python",
   "name": "python3"
  },
  "language_info": {
   "codemirror_mode": {
    "name": "ipython",
    "version": 3
   },
   "file_extension": ".py",
   "mimetype": "text/x-python",
   "name": "python",
   "nbconvert_exporter": "python",
   "pygments_lexer": "ipython3",
   "version": "3.4.3"
  }
 },
 "nbformat": 4,
 "nbformat_minor": 2
}
