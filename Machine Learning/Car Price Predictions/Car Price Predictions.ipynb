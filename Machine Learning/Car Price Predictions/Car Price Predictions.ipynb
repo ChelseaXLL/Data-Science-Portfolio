{
 "cells": [
  {
   "cell_type": "markdown",
   "metadata": {},
   "source": [
    "# Car price predictions"
   ]
  },
  {
   "cell_type": "markdown",
   "metadata": {},
   "source": [
    "## Goal\n",
    "**Build a model to predict car prices based on columns being filtered out. Will focus on both unvariate & multivariate models**"
   ]
  },
  {
   "cell_type": "markdown",
   "metadata": {},
   "source": [
    "## Dataset\n",
    "**The data is quite popular as it is one of datasets in UCI machine learning repository. <a href='https://archive.ics.uci.edu/ml/datasets/automobile'>This page</a> contains information about the data**"
   ]
  },
  {
   "cell_type": "code",
   "execution_count": 1,
   "metadata": {},
   "outputs": [],
   "source": [
    "import pandas  as pd\n",
    "import numpy as np\n",
    "import matplotlib.pyplot as plt\n",
    "import warnings\n",
    "from sklearn.neighbors import KNeighborsRegressor\n",
    "from sklearn.metrics import mean_squared_error\n",
    "from sklearn.model_selection import KFold, cross_val_score\n",
    "warnings.filterwarnings(\"ignore\")\n",
    "%matplotlib inline"
   ]
  },
  {
   "cell_type": "markdown",
   "metadata": {},
   "source": [
    "**import and format data**"
   ]
  },
  {
   "cell_type": "code",
   "execution_count": 2,
   "metadata": {},
   "outputs": [
    {
     "data": {
      "text/html": [
       "<div>\n",
       "<style scoped>\n",
       "    .dataframe tbody tr th:only-of-type {\n",
       "        vertical-align: middle;\n",
       "    }\n",
       "\n",
       "    .dataframe tbody tr th {\n",
       "        vertical-align: top;\n",
       "    }\n",
       "\n",
       "    .dataframe thead th {\n",
       "        text-align: right;\n",
       "    }\n",
       "</style>\n",
       "<table border=\"1\" class=\"dataframe\">\n",
       "  <thead>\n",
       "    <tr style=\"text-align: right;\">\n",
       "      <th></th>\n",
       "      <th>symboling</th>\n",
       "      <th>normalized-losses</th>\n",
       "      <th>make</th>\n",
       "      <th>fuel-type</th>\n",
       "      <th>aspiration</th>\n",
       "      <th>num-of-doors</th>\n",
       "      <th>body-style</th>\n",
       "      <th>drive-wheels</th>\n",
       "      <th>engine-location</th>\n",
       "      <th>wheel-base</th>\n",
       "      <th>...</th>\n",
       "      <th>engine-size</th>\n",
       "      <th>fuel-system</th>\n",
       "      <th>bore</th>\n",
       "      <th>stroke</th>\n",
       "      <th>compression-rate</th>\n",
       "      <th>horsepower</th>\n",
       "      <th>peak-rpm</th>\n",
       "      <th>city-mpg</th>\n",
       "      <th>highway-mpg</th>\n",
       "      <th>price</th>\n",
       "    </tr>\n",
       "  </thead>\n",
       "  <tbody>\n",
       "    <tr>\n",
       "      <th>0</th>\n",
       "      <td>3</td>\n",
       "      <td>?</td>\n",
       "      <td>alfa-romero</td>\n",
       "      <td>gas</td>\n",
       "      <td>std</td>\n",
       "      <td>two</td>\n",
       "      <td>convertible</td>\n",
       "      <td>rwd</td>\n",
       "      <td>front</td>\n",
       "      <td>88.6</td>\n",
       "      <td>...</td>\n",
       "      <td>130</td>\n",
       "      <td>mpfi</td>\n",
       "      <td>3.47</td>\n",
       "      <td>2.68</td>\n",
       "      <td>9.0</td>\n",
       "      <td>111</td>\n",
       "      <td>5000</td>\n",
       "      <td>21</td>\n",
       "      <td>27</td>\n",
       "      <td>13495</td>\n",
       "    </tr>\n",
       "    <tr>\n",
       "      <th>1</th>\n",
       "      <td>3</td>\n",
       "      <td>?</td>\n",
       "      <td>alfa-romero</td>\n",
       "      <td>gas</td>\n",
       "      <td>std</td>\n",
       "      <td>two</td>\n",
       "      <td>convertible</td>\n",
       "      <td>rwd</td>\n",
       "      <td>front</td>\n",
       "      <td>88.6</td>\n",
       "      <td>...</td>\n",
       "      <td>130</td>\n",
       "      <td>mpfi</td>\n",
       "      <td>3.47</td>\n",
       "      <td>2.68</td>\n",
       "      <td>9.0</td>\n",
       "      <td>111</td>\n",
       "      <td>5000</td>\n",
       "      <td>21</td>\n",
       "      <td>27</td>\n",
       "      <td>16500</td>\n",
       "    </tr>\n",
       "    <tr>\n",
       "      <th>2</th>\n",
       "      <td>1</td>\n",
       "      <td>?</td>\n",
       "      <td>alfa-romero</td>\n",
       "      <td>gas</td>\n",
       "      <td>std</td>\n",
       "      <td>two</td>\n",
       "      <td>hatchback</td>\n",
       "      <td>rwd</td>\n",
       "      <td>front</td>\n",
       "      <td>94.5</td>\n",
       "      <td>...</td>\n",
       "      <td>152</td>\n",
       "      <td>mpfi</td>\n",
       "      <td>2.68</td>\n",
       "      <td>3.47</td>\n",
       "      <td>9.0</td>\n",
       "      <td>154</td>\n",
       "      <td>5000</td>\n",
       "      <td>19</td>\n",
       "      <td>26</td>\n",
       "      <td>16500</td>\n",
       "    </tr>\n",
       "    <tr>\n",
       "      <th>3</th>\n",
       "      <td>2</td>\n",
       "      <td>164</td>\n",
       "      <td>audi</td>\n",
       "      <td>gas</td>\n",
       "      <td>std</td>\n",
       "      <td>four</td>\n",
       "      <td>sedan</td>\n",
       "      <td>fwd</td>\n",
       "      <td>front</td>\n",
       "      <td>99.8</td>\n",
       "      <td>...</td>\n",
       "      <td>109</td>\n",
       "      <td>mpfi</td>\n",
       "      <td>3.19</td>\n",
       "      <td>3.40</td>\n",
       "      <td>10.0</td>\n",
       "      <td>102</td>\n",
       "      <td>5500</td>\n",
       "      <td>24</td>\n",
       "      <td>30</td>\n",
       "      <td>13950</td>\n",
       "    </tr>\n",
       "    <tr>\n",
       "      <th>4</th>\n",
       "      <td>2</td>\n",
       "      <td>164</td>\n",
       "      <td>audi</td>\n",
       "      <td>gas</td>\n",
       "      <td>std</td>\n",
       "      <td>four</td>\n",
       "      <td>sedan</td>\n",
       "      <td>4wd</td>\n",
       "      <td>front</td>\n",
       "      <td>99.4</td>\n",
       "      <td>...</td>\n",
       "      <td>136</td>\n",
       "      <td>mpfi</td>\n",
       "      <td>3.19</td>\n",
       "      <td>3.40</td>\n",
       "      <td>8.0</td>\n",
       "      <td>115</td>\n",
       "      <td>5500</td>\n",
       "      <td>18</td>\n",
       "      <td>22</td>\n",
       "      <td>17450</td>\n",
       "    </tr>\n",
       "  </tbody>\n",
       "</table>\n",
       "<p>5 rows × 26 columns</p>\n",
       "</div>"
      ],
      "text/plain": [
       "   symboling normalized-losses         make fuel-type aspiration num-of-doors  \\\n",
       "0          3                 ?  alfa-romero       gas        std          two   \n",
       "1          3                 ?  alfa-romero       gas        std          two   \n",
       "2          1                 ?  alfa-romero       gas        std          two   \n",
       "3          2               164         audi       gas        std         four   \n",
       "4          2               164         audi       gas        std         four   \n",
       "\n",
       "    body-style drive-wheels engine-location  wheel-base  ...  engine-size  \\\n",
       "0  convertible          rwd           front        88.6  ...          130   \n",
       "1  convertible          rwd           front        88.6  ...          130   \n",
       "2    hatchback          rwd           front        94.5  ...          152   \n",
       "3        sedan          fwd           front        99.8  ...          109   \n",
       "4        sedan          4wd           front        99.4  ...          136   \n",
       "\n",
       "   fuel-system  bore  stroke compression-rate horsepower  peak-rpm city-mpg  \\\n",
       "0         mpfi  3.47    2.68              9.0        111      5000       21   \n",
       "1         mpfi  3.47    2.68              9.0        111      5000       21   \n",
       "2         mpfi  2.68    3.47              9.0        154      5000       19   \n",
       "3         mpfi  3.19    3.40             10.0        102      5500       24   \n",
       "4         mpfi  3.19    3.40              8.0        115      5500       18   \n",
       "\n",
       "  highway-mpg  price  \n",
       "0          27  13495  \n",
       "1          27  16500  \n",
       "2          26  16500  \n",
       "3          30  13950  \n",
       "4          22  17450  \n",
       "\n",
       "[5 rows x 26 columns]"
      ]
     },
     "execution_count": 2,
     "metadata": {},
     "output_type": "execute_result"
    }
   ],
   "source": [
    "cols = ['symboling', 'normalized-losses', 'make', 'fuel-type', 'aspiration', 'num-of-doors', 'body-style', \n",
    "        'drive-wheels', 'engine-location', 'wheel-base', 'length', 'width', 'height', 'curb-weight', 'engine-type', \n",
    "        'num-of-cylinders', 'engine-size', 'fuel-system', 'bore', 'stroke', 'compression-rate', 'horsepower', 'peak-rpm', 'city-mpg', 'highway-mpg', 'price']\n",
    "\n",
    "cars=pd.read_csv(\"imports-85.data\",names=cols)\n",
    "cars.head()"
   ]
  },
  {
   "cell_type": "markdown",
   "metadata": {},
   "source": [
    "## Data Preprocessing"
   ]
  },
  {
   "cell_type": "markdown",
   "metadata": {},
   "source": [
    "Filter out only numeric valus"
   ]
  },
  {
   "cell_type": "code",
   "execution_count": 4,
   "metadata": {},
   "outputs": [],
   "source": [
    "numeric_values_cols = ['normalized-losses', 'wheel-base', 'length', 'width', 'height', 'curb-weight', 'bore', 'stroke', 'compression-rate', 'horsepower', 'peak-rpm', 'city-mpg', 'highway-mpg', 'price']\n",
    "df = cars[numeric_values_cols]"
   ]
  },
  {
   "cell_type": "code",
   "execution_count": 6,
   "metadata": {},
   "outputs": [
    {
     "data": {
      "text/html": [
       "<div>\n",
       "<style scoped>\n",
       "    .dataframe tbody tr th:only-of-type {\n",
       "        vertical-align: middle;\n",
       "    }\n",
       "\n",
       "    .dataframe tbody tr th {\n",
       "        vertical-align: top;\n",
       "    }\n",
       "\n",
       "    .dataframe thead th {\n",
       "        text-align: right;\n",
       "    }\n",
       "</style>\n",
       "<table border=\"1\" class=\"dataframe\">\n",
       "  <thead>\n",
       "    <tr style=\"text-align: right;\">\n",
       "      <th></th>\n",
       "      <th>normalized-losses</th>\n",
       "      <th>wheel-base</th>\n",
       "      <th>length</th>\n",
       "      <th>width</th>\n",
       "      <th>height</th>\n",
       "      <th>curb-weight</th>\n",
       "      <th>bore</th>\n",
       "      <th>stroke</th>\n",
       "      <th>compression-rate</th>\n",
       "      <th>horsepower</th>\n",
       "      <th>peak-rpm</th>\n",
       "      <th>city-mpg</th>\n",
       "      <th>highway-mpg</th>\n",
       "      <th>price</th>\n",
       "    </tr>\n",
       "  </thead>\n",
       "  <tbody>\n",
       "    <tr>\n",
       "      <th>0</th>\n",
       "      <td>?</td>\n",
       "      <td>88.6</td>\n",
       "      <td>168.8</td>\n",
       "      <td>64.1</td>\n",
       "      <td>48.8</td>\n",
       "      <td>2548</td>\n",
       "      <td>3.47</td>\n",
       "      <td>2.68</td>\n",
       "      <td>9.0</td>\n",
       "      <td>111</td>\n",
       "      <td>5000</td>\n",
       "      <td>21</td>\n",
       "      <td>27</td>\n",
       "      <td>13495</td>\n",
       "    </tr>\n",
       "    <tr>\n",
       "      <th>1</th>\n",
       "      <td>?</td>\n",
       "      <td>88.6</td>\n",
       "      <td>168.8</td>\n",
       "      <td>64.1</td>\n",
       "      <td>48.8</td>\n",
       "      <td>2548</td>\n",
       "      <td>3.47</td>\n",
       "      <td>2.68</td>\n",
       "      <td>9.0</td>\n",
       "      <td>111</td>\n",
       "      <td>5000</td>\n",
       "      <td>21</td>\n",
       "      <td>27</td>\n",
       "      <td>16500</td>\n",
       "    </tr>\n",
       "    <tr>\n",
       "      <th>2</th>\n",
       "      <td>?</td>\n",
       "      <td>94.5</td>\n",
       "      <td>171.2</td>\n",
       "      <td>65.5</td>\n",
       "      <td>52.4</td>\n",
       "      <td>2823</td>\n",
       "      <td>2.68</td>\n",
       "      <td>3.47</td>\n",
       "      <td>9.0</td>\n",
       "      <td>154</td>\n",
       "      <td>5000</td>\n",
       "      <td>19</td>\n",
       "      <td>26</td>\n",
       "      <td>16500</td>\n",
       "    </tr>\n",
       "  </tbody>\n",
       "</table>\n",
       "</div>"
      ],
      "text/plain": [
       "  normalized-losses  wheel-base  length  width  height  curb-weight  bore  \\\n",
       "0                 ?        88.6   168.8   64.1    48.8         2548  3.47   \n",
       "1                 ?        88.6   168.8   64.1    48.8         2548  3.47   \n",
       "2                 ?        94.5   171.2   65.5    52.4         2823  2.68   \n",
       "\n",
       "  stroke  compression-rate horsepower peak-rpm  city-mpg  highway-mpg  price  \n",
       "0   2.68               9.0        111     5000        21           27  13495  \n",
       "1   2.68               9.0        111     5000        21           27  16500  \n",
       "2   3.47               9.0        154     5000        19           26  16500  "
      ]
     },
     "execution_count": 6,
     "metadata": {},
     "output_type": "execute_result"
    }
   ],
   "source": [
    "df.head(3)"
   ]
  },
  {
   "cell_type": "code",
   "execution_count": 7,
   "metadata": {},
   "outputs": [
    {
     "name": "stdout",
     "output_type": "stream",
     "text": [
      "<class 'pandas.core.frame.DataFrame'>\n",
      "RangeIndex: 205 entries, 0 to 204\n",
      "Data columns (total 14 columns):\n",
      "normalized-losses    205 non-null object\n",
      "wheel-base           205 non-null float64\n",
      "length               205 non-null float64\n",
      "width                205 non-null float64\n",
      "height               205 non-null float64\n",
      "curb-weight          205 non-null int64\n",
      "bore                 205 non-null object\n",
      "stroke               205 non-null object\n",
      "compression-rate     205 non-null float64\n",
      "horsepower           205 non-null object\n",
      "peak-rpm             205 non-null object\n",
      "city-mpg             205 non-null int64\n",
      "highway-mpg          205 non-null int64\n",
      "price                205 non-null object\n",
      "dtypes: float64(5), int64(3), object(6)\n",
      "memory usage: 22.5+ KB\n"
     ]
    }
   ],
   "source": [
    "df.info()"
   ]
  },
  {
   "cell_type": "markdown",
   "metadata": {},
   "source": [
    "**Data cleaning**"
   ]
  },
  {
   "cell_type": "code",
   "execution_count": 8,
   "metadata": {},
   "outputs": [],
   "source": [
    "df=df.replace(\"?\", np.nan)"
   ]
  },
  {
   "cell_type": "code",
   "execution_count": 9,
   "metadata": {},
   "outputs": [],
   "source": [
    "#Convert all data type to float\n",
    "df=df.astype('float')"
   ]
  },
  {
   "cell_type": "code",
   "execution_count": 11,
   "metadata": {},
   "outputs": [
    {
     "data": {
      "text/plain": [
       "normalized-losses    41\n",
       "wheel-base            0\n",
       "length                0\n",
       "width                 0\n",
       "height                0\n",
       "curb-weight           0\n",
       "bore                  4\n",
       "stroke                4\n",
       "compression-rate      0\n",
       "horsepower            2\n",
       "peak-rpm              2\n",
       "city-mpg              0\n",
       "highway-mpg           0\n",
       "price                 4\n",
       "dtype: int64"
      ]
     },
     "execution_count": 11,
     "metadata": {},
     "output_type": "execute_result"
    }
   ],
   "source": [
    "#Check how many rows having null values\n",
    "df.isnull().sum()"
   ]
  },
  {
   "cell_type": "markdown",
   "metadata": {},
   "source": [
    "Drop rows where price is null"
   ]
  },
  {
   "cell_type": "code",
   "execution_count": 12,
   "metadata": {},
   "outputs": [
    {
     "data": {
      "text/plain": [
       "normalized-losses    37\n",
       "wheel-base            0\n",
       "length                0\n",
       "width                 0\n",
       "height                0\n",
       "curb-weight           0\n",
       "bore                  4\n",
       "stroke                4\n",
       "compression-rate      0\n",
       "horsepower            2\n",
       "peak-rpm              2\n",
       "city-mpg              0\n",
       "highway-mpg           0\n",
       "price                 0\n",
       "dtype: int64"
      ]
     },
     "execution_count": 12,
     "metadata": {},
     "output_type": "execute_result"
    }
   ],
   "source": [
    "df.dropna(subset=['price'], inplace=True)\n",
    "df.isnull().sum()"
   ]
  },
  {
   "cell_type": "markdown",
   "metadata": {},
   "source": [
    "For the rest, replace any null values using the mean value of that column"
   ]
  },
  {
   "cell_type": "code",
   "execution_count": 13,
   "metadata": {},
   "outputs": [],
   "source": [
    "df=df.fillna(df.mean())"
   ]
  },
  {
   "cell_type": "code",
   "execution_count": 14,
   "metadata": {},
   "outputs": [
    {
     "data": {
      "text/plain": [
       "normalized-losses    0\n",
       "wheel-base           0\n",
       "length               0\n",
       "width                0\n",
       "height               0\n",
       "curb-weight          0\n",
       "bore                 0\n",
       "stroke               0\n",
       "compression-rate     0\n",
       "horsepower           0\n",
       "peak-rpm             0\n",
       "city-mpg             0\n",
       "highway-mpg          0\n",
       "price                0\n",
       "dtype: int64"
      ]
     },
     "execution_count": 14,
     "metadata": {},
     "output_type": "execute_result"
    }
   ],
   "source": [
    "df.isnull().sum()"
   ]
  },
  {
   "cell_type": "markdown",
   "metadata": {},
   "source": [
    "**Data Normalization**"
   ]
  },
  {
   "cell_type": "markdown",
   "metadata": {},
   "source": [
    "Data is largly scaled, so normalizing data is a must"
   ]
  },
  {
   "cell_type": "code",
   "execution_count": 16,
   "metadata": {},
   "outputs": [],
   "source": [
    "#Drop 'price' column\n",
    "df_X=df.drop('price',axis=1)\n",
    "\n",
    "#Normnalize the data\n",
    "df_norm=(df_X-df_X.min()) / (df_X.max()-df_X.min())\n",
    "\n",
    "df_norm['price']=df['price']"
   ]
  },
  {
   "cell_type": "code",
   "execution_count": 17,
   "metadata": {},
   "outputs": [
    {
     "data": {
      "text/html": [
       "<div>\n",
       "<style scoped>\n",
       "    .dataframe tbody tr th:only-of-type {\n",
       "        vertical-align: middle;\n",
       "    }\n",
       "\n",
       "    .dataframe tbody tr th {\n",
       "        vertical-align: top;\n",
       "    }\n",
       "\n",
       "    .dataframe thead th {\n",
       "        text-align: right;\n",
       "    }\n",
       "</style>\n",
       "<table border=\"1\" class=\"dataframe\">\n",
       "  <thead>\n",
       "    <tr style=\"text-align: right;\">\n",
       "      <th></th>\n",
       "      <th>normalized-losses</th>\n",
       "      <th>wheel-base</th>\n",
       "      <th>length</th>\n",
       "      <th>width</th>\n",
       "      <th>height</th>\n",
       "      <th>curb-weight</th>\n",
       "      <th>bore</th>\n",
       "      <th>stroke</th>\n",
       "      <th>compression-rate</th>\n",
       "      <th>horsepower</th>\n",
       "      <th>peak-rpm</th>\n",
       "      <th>city-mpg</th>\n",
       "      <th>highway-mpg</th>\n",
       "      <th>price</th>\n",
       "    </tr>\n",
       "  </thead>\n",
       "  <tbody>\n",
       "    <tr>\n",
       "      <th>0</th>\n",
       "      <td>0.298429</td>\n",
       "      <td>0.058309</td>\n",
       "      <td>0.413433</td>\n",
       "      <td>0.324786</td>\n",
       "      <td>0.083333</td>\n",
       "      <td>0.411171</td>\n",
       "      <td>0.664286</td>\n",
       "      <td>0.290476</td>\n",
       "      <td>0.125</td>\n",
       "      <td>0.294393</td>\n",
       "      <td>0.346939</td>\n",
       "      <td>0.222222</td>\n",
       "      <td>0.289474</td>\n",
       "      <td>13495.0</td>\n",
       "    </tr>\n",
       "    <tr>\n",
       "      <th>1</th>\n",
       "      <td>0.298429</td>\n",
       "      <td>0.058309</td>\n",
       "      <td>0.413433</td>\n",
       "      <td>0.324786</td>\n",
       "      <td>0.083333</td>\n",
       "      <td>0.411171</td>\n",
       "      <td>0.664286</td>\n",
       "      <td>0.290476</td>\n",
       "      <td>0.125</td>\n",
       "      <td>0.294393</td>\n",
       "      <td>0.346939</td>\n",
       "      <td>0.222222</td>\n",
       "      <td>0.289474</td>\n",
       "      <td>16500.0</td>\n",
       "    </tr>\n",
       "    <tr>\n",
       "      <th>2</th>\n",
       "      <td>0.298429</td>\n",
       "      <td>0.230321</td>\n",
       "      <td>0.449254</td>\n",
       "      <td>0.444444</td>\n",
       "      <td>0.383333</td>\n",
       "      <td>0.517843</td>\n",
       "      <td>0.100000</td>\n",
       "      <td>0.666667</td>\n",
       "      <td>0.125</td>\n",
       "      <td>0.495327</td>\n",
       "      <td>0.346939</td>\n",
       "      <td>0.166667</td>\n",
       "      <td>0.263158</td>\n",
       "      <td>16500.0</td>\n",
       "    </tr>\n",
       "  </tbody>\n",
       "</table>\n",
       "</div>"
      ],
      "text/plain": [
       "   normalized-losses  wheel-base    length     width    height  curb-weight  \\\n",
       "0           0.298429    0.058309  0.413433  0.324786  0.083333     0.411171   \n",
       "1           0.298429    0.058309  0.413433  0.324786  0.083333     0.411171   \n",
       "2           0.298429    0.230321  0.449254  0.444444  0.383333     0.517843   \n",
       "\n",
       "       bore    stroke  compression-rate  horsepower  peak-rpm  city-mpg  \\\n",
       "0  0.664286  0.290476             0.125    0.294393  0.346939  0.222222   \n",
       "1  0.664286  0.290476             0.125    0.294393  0.346939  0.222222   \n",
       "2  0.100000  0.666667             0.125    0.495327  0.346939  0.166667   \n",
       "\n",
       "   highway-mpg    price  \n",
       "0     0.289474  13495.0  \n",
       "1     0.289474  16500.0  \n",
       "2     0.263158  16500.0  "
      ]
     },
     "execution_count": 17,
     "metadata": {},
     "output_type": "execute_result"
    }
   ],
   "source": [
    "df_norm.head(3)"
   ]
  },
  {
   "cell_type": "code",
   "execution_count": 18,
   "metadata": {},
   "outputs": [
    {
     "data": {
      "text/plain": [
       "201"
      ]
     },
     "execution_count": 18,
     "metadata": {},
     "output_type": "execute_result"
    }
   ],
   "source": [
    "len(df_norm)"
   ]
  },
  {
   "cell_type": "markdown",
   "metadata": {},
   "source": [
    "## Model Constructions"
   ]
  },
  {
   "cell_type": "markdown",
   "metadata": {},
   "source": [
    "**Unvariate model, only use one feature to trtain the model**"
   ]
  },
  {
   "cell_type": "code",
   "execution_count": 27,
   "metadata": {},
   "outputs": [],
   "source": [
    "def knn_train_test(train_col,target_col, df):\n",
    "    #Instantiate KNN \n",
    "    knn=KNeighborsRegressor()\n",
    "    \n",
    "    #Shuffule and randomnize the data order\n",
    "    np.random.seed(0)\n",
    "    new_index=np.random.permutation(df.index)\n",
    "    df_rand=df.reindex(new_index)\n",
    "    \n",
    "    #Split the data\n",
    "    bound=int(len(df_rand)*0.6)\n",
    "    train_set=df_rand.iloc[0:bound]\n",
    "    test_set=df_rand.iloc[bound:]\n",
    "    \n",
    "    #Fit the model\n",
    "    knn.fit(train_set[[train_col]], train_set[[target_col]])\n",
    "    \n",
    "    # Predict the results\n",
    "    predictions=knn.predict(test_set[[train_col]])\n",
    "    \n",
    "    #Calculate the RMSE\n",
    "    mse=mean_squared_error(test_set[target_col], predictions)\n",
    "    rmse=np.sqrt(mse)\n",
    "    \n",
    "    return rmse"
   ]
  },
  {
   "cell_type": "code",
   "execution_count": 30,
   "metadata": {},
   "outputs": [
    {
     "data": {
      "text/plain": [
       "curb-weight          4016.389640\n",
       "highway-mpg          4183.634006\n",
       "width                4263.847438\n",
       "length               4387.666434\n",
       "horsepower           4467.797166\n",
       "city-mpg             4968.818877\n",
       "compression-rate     5491.842830\n",
       "bore                 6148.201665\n",
       "normalized-losses    6423.014936\n",
       "wheel-base           6532.097315\n",
       "stroke               6757.657392\n",
       "height               7129.150144\n",
       "peak-rpm             7238.324949\n",
       "dtype: float64"
      ]
     },
     "execution_count": 30,
     "metadata": {},
     "output_type": "execute_result"
    }
   ],
   "source": [
    "#loop over all columns to calculate the rmse, storing it to a dictionary\n",
    "rmse_col={}\n",
    "train_col=df_norm.columns.drop('price')\n",
    "\n",
    "for col in train_col:\n",
    "    rmse_val=knn_train_test(col, 'price', df_norm)\n",
    "    rmse_col[col]=rmse_val\n",
    "\n",
    "#Convert the dictionary to a series\n",
    "rmse_results=pd.Series(rmse_col)\n",
    "rmse_results.sort_values()"
   ]
  },
  {
   "cell_type": "markdown",
   "metadata": {},
   "source": [
    "By using the default K values, **curb-weight** performs best"
   ]
  },
  {
   "cell_type": "markdown",
   "metadata": {},
   "source": [
    "Update the function by adding a list of K values"
   ]
  },
  {
   "cell_type": "code",
   "execution_count": 33,
   "metadata": {},
   "outputs": [],
   "source": [
    "def knn_train_test(train_col,target_col, df):\n",
    "    \n",
    "   \n",
    "    \n",
    "    #Shuffule and randomnize the data order\n",
    "    np.random.seed(0)\n",
    "    new_index=np.random.permutation(df.index)\n",
    "    df_rand=df.reindex(new_index)\n",
    "    \n",
    "    #Split the data\n",
    "    bound=int(len(df_rand)*0.6)\n",
    "    train_set=df_rand.iloc[0:bound]\n",
    "    test_set=df_rand.iloc[bound:]\n",
    "    \n",
    "    #Build the model\n",
    "    k_list=[1,3,5,7,9]\n",
    "    k_rmses={}\n",
    "    \n",
    "    for k in k_list:\n",
    "        knn=KNeighborsRegressor(n_neighbors=k)  \n",
    "        knn.fit(train_set[[train_col]], train_set[[target_col]])\n",
    "        predictions=knn.predict(test_set[[train_col]])\n",
    "        mse=mean_squared_error(test_set[target_col], predictions)\n",
    "        rmse=np.sqrt(mse)\n",
    "        k_rmses[k]=rmse\n",
    "\n",
    "    return k_rmses"
   ]
  },
  {
   "cell_type": "code",
   "execution_count": 35,
   "metadata": {},
   "outputs": [
    {
     "data": {
      "text/plain": [
       "{'normalized-losses': {1: 6686.914847135375,\n",
       "  3: 6043.335046951471,\n",
       "  5: 6423.014936082261,\n",
       "  7: 6965.335591194382,\n",
       "  9: 7278.612273531975},\n",
       " 'wheel-base': {1: 4532.045639555316,\n",
       "  3: 6470.147998150415,\n",
       "  5: 6532.097314675821,\n",
       "  7: 5640.38720062645,\n",
       "  9: 5427.170404398999},\n",
       " 'length': {1: 4384.721104071938,\n",
       "  3: 3852.0384504303643,\n",
       "  5: 4387.666434196859,\n",
       "  7: 4625.2723688739225,\n",
       "  9: 4515.666382941744},\n",
       " 'width': {1: 5217.8048042552,\n",
       "  3: 3833.959157538526,\n",
       "  5: 4263.847437569056,\n",
       "  7: 4161.477133479973,\n",
       "  9: 4060.235793988966},\n",
       " 'height': {1: 8965.718365109911,\n",
       "  3: 7425.717750476338,\n",
       "  5: 7129.150143661178,\n",
       "  7: 6825.842559938021,\n",
       "  9: 6889.0062510578955},\n",
       " 'curb-weight': {1: 6335.4936578682555,\n",
       "  3: 4726.828736766495,\n",
       "  5: 4016.3896396860923,\n",
       "  7: 3995.1701228365287,\n",
       "  9: 4067.6236999313564},\n",
       " 'bore': {1: 6590.718850244104,\n",
       "  3: 6315.718183021828,\n",
       "  5: 6148.20166464437,\n",
       "  7: 6286.640486055094,\n",
       "  9: 6335.68920170253},\n",
       " 'stroke': {1: 8378.632124872807,\n",
       "  3: 5986.5051317717725,\n",
       "  5: 6757.657392182846,\n",
       "  7: 6908.484247458316,\n",
       "  9: 6878.9133723925},\n",
       " 'compression-rate': {1: 6525.303032554631,\n",
       "  3: 5411.650011444281,\n",
       "  5: 5491.842829749106,\n",
       "  7: 5907.80089958487,\n",
       "  9: 6252.083971845505},\n",
       " 'horsepower': {1: 4062.298256339235,\n",
       "  3: 4272.750936797187,\n",
       "  5: 4467.797165505476,\n",
       "  7: 4808.280807210374,\n",
       "  9: 4856.128975739829},\n",
       " 'peak-rpm': {1: 8478.289462496343,\n",
       "  3: 6086.566107260491,\n",
       "  5: 7238.324948614037,\n",
       "  7: 7986.761081340845,\n",
       "  9: 7655.7989758744425},\n",
       " 'city-mpg': {1: 5230.613523016253,\n",
       "  3: 4940.805757248933,\n",
       "  5: 4968.818876718051,\n",
       "  7: 4486.382407106718,\n",
       "  9: 4714.731642463663},\n",
       " 'highway-mpg': {1: 5102.462178590902,\n",
       "  3: 4001.262856376245,\n",
       "  5: 4183.634005780261,\n",
       "  7: 4266.255613791455,\n",
       "  9: 4544.143355103684}}"
      ]
     },
     "execution_count": 35,
     "metadata": {},
     "output_type": "execute_result"
    }
   ],
   "source": [
    "rmse_col={}\n",
    "train_col=df_norm.columns.drop('price')\n",
    "for col in train_col:\n",
    "    rmse_val=knn_train_test(col, 'price', df_norm)\n",
    "    rmse_col[col]=rmse_val\n",
    "    \n",
    "rmse_col"
   ]
  },
  {
   "cell_type": "markdown",
   "metadata": {},
   "source": [
    "Visualize the results"
   ]
  },
  {
   "cell_type": "code",
   "execution_count": 38,
   "metadata": {},
   "outputs": [
    {
     "data": {
      "image/png": "[encoded data removed]",
      "text/plain": [
       "<Figure size 432x288 with 1 Axes>"
      ]
     },
     "metadata": {
      "needs_background": "light"
     },
     "output_type": "display_data"
    }
   ],
   "source": [
    "for key,val in rmse_col.items():\n",
    "    x = list(val.keys())\n",
    "    y = list(val.values())\n",
    "    \n",
    "    plt.scatter(x,y)\n",
    "    plt.xlabel('k value')\n",
    "    plt.ylabel('RMSE')"
   ]
  },
  {
   "cell_type": "markdown",
   "metadata": {},
   "source": [
    "Compute the average RMSE values for eachj column"
   ]
  },
  {
   "cell_type": "code",
   "execution_count": 39,
   "metadata": {},
   "outputs": [
    {
     "data": {
      "text/plain": [
       "width                4307.464865\n",
       "length               4353.072948\n",
       "highway-mpg          4419.551602\n",
       "horsepower           4493.451228\n",
       "curb-weight          4628.301171\n",
       "city-mpg             4868.270441\n",
       "wheel-base           5720.369711\n",
       "compression-rate     5917.736149\n",
       "bore                 6335.393677\n",
       "normalized-losses    6679.442539\n",
       "stroke               6982.038454\n",
       "height               7447.087014\n",
       "peak-rpm             7489.148115\n",
       "dtype: float64"
      ]
     },
     "execution_count": 39,
     "metadata": {},
     "output_type": "execute_result"
    }
   ],
   "source": [
    "avg_rmse_col={}\n",
    "for key, val in rmse_col.items():\n",
    "    avg_rmse=np.mean(list(val.values()))\n",
    "    avg_rmse_col[key]=avg_rmse\n",
    "    \n",
    "unvariate_avg_rmse=pd.Series(avg_rmse_col)\n",
    "unvariate_avg_rmse.sort_values()"
   ]
  },
  {
   "cell_type": "markdown",
   "metadata": {},
   "source": [
    "**\"Width\"** scores lowest "
   ]
  },
  {
   "cell_type": "markdown",
   "metadata": {},
   "source": [
    "**Multivariate Models**"
   ]
  },
  {
   "cell_type": "markdown",
   "metadata": {},
   "source": [
    "Add more and more columns using default k values to see the model performance"
   ]
  },
  {
   "cell_type": "code",
   "execution_count": 41,
   "metadata": {},
   "outputs": [],
   "source": [
    "# Slightly modify the function\n",
    "def knn_train_test(train_col,target_col, df):\n",
    "      \n",
    "    #Shuffule and randomnize the data order\n",
    "    np.random.seed(0)\n",
    "    new_index=np.random.permutation(df.index)\n",
    "    df_rand=df.reindex(new_index)\n",
    "    \n",
    "    #Split the data\n",
    "    bound=int(len(df_rand)*0.6)\n",
    "    train_set=df_rand.iloc[0:bound]\n",
    "    test_set=df_rand.iloc[bound:]\n",
    "    \n",
    "    #Build the model\n",
    "    k_list=[5]\n",
    "    k_rmses={}\n",
    "    \n",
    "    for k in k_list:\n",
    "        knn=KNeighborsRegressor(n_neighbors=k)  \n",
    "        knn.fit(train_set[train_col], train_set[target_col])\n",
    "        predictions=knn.predict(test_set[train_col])\n",
    "        mse=mean_squared_error(test_set[target_col], predictions)\n",
    "        rmse=np.sqrt(mse)\n",
    "        k_rmses[k]=rmse\n",
    "\n",
    "    return k_rmses"
   ]
  },
  {
   "cell_type": "code",
   "execution_count": 45,
   "metadata": {},
   "outputs": [
    {
     "data": {
      "text/plain": [
       "{'two features': {5: 4620.132012383613},\n",
       " 'three features': {5: 4365.0952383088015},\n",
       " 'four features': {5: 3087.687800696162},\n",
       " 'five features': {5: 3546.388454139552}}"
      ]
     },
     "execution_count": 45,
     "metadata": {},
     "output_type": "execute_result"
    }
   ],
   "source": [
    "#Add 2 best features according to average rmse values, up to 5 features\n",
    "two_features=['width','length']\n",
    "three_features=['width','length','highway-mpg']\n",
    "four_features=['width','length','highway-mpg','horsepower']\n",
    "five_features=['width','length','highway-mpg','horsepower','curb-weight']\n",
    "\n",
    "multi_rmse={}\n",
    "\n",
    "#Call the function to get related rmse\n",
    "rmse_two_features=knn_train_test(two_features, 'price', df_norm)\n",
    "multi_rmse[\"two features\"]=rmse_two_features\n",
    "\n",
    "rmse_three_features=knn_train_test(three_features, 'price', df_norm)\n",
    "multi_rmse[\"three features\"]=rmse_three_features\n",
    "\n",
    "rmse_four_features=knn_train_test(four_features, 'price', df_norm)\n",
    "multi_rmse[\"four features\"]=rmse_four_features\n",
    "\n",
    "rmse_five_features=knn_train_test(five_features, 'price', df_norm)\n",
    "multi_rmse[\"five features\"]=rmse_five_features\n",
    "\n",
    "multi_rmse"
   ]
  },
  {
   "cell_type": "markdown",
   "metadata": {},
   "source": [
    "When having four columns :**'width','length','highway-mpg','horsepower'** together, RMSE scores lowest"
   ]
  },
  {
   "cell_type": "markdown",
   "metadata": {},
   "source": [
    "Next take various K values into consideration and repeate the process"
   ]
  },
  {
   "cell_type": "code",
   "execution_count": 46,
   "metadata": {},
   "outputs": [],
   "source": [
    "def knn_train_test(train_col,target_col, df):\n",
    "      \n",
    "    #Shuffule and randomnize the data order\n",
    "    np.random.seed(0)\n",
    "    new_index=np.random.permutation(df.index)\n",
    "    df_rand=df.reindex(new_index)\n",
    "    \n",
    "    #Split the data\n",
    "    bound=int(len(df_rand)*0.6)\n",
    "    train_set=df_rand.iloc[0:bound]\n",
    "    test_set=df_rand.iloc[bound:]\n",
    "    \n",
    "    #Build the model\n",
    "    k_list=list(range(1,26))\n",
    "    k_rmses={}\n",
    "    \n",
    "    for k in k_list:\n",
    "        knn=KNeighborsRegressor(n_neighbors=k)  \n",
    "        knn.fit(train_set[train_col], train_set[target_col])\n",
    "        predictions=knn.predict(test_set[train_col])\n",
    "        mse=mean_squared_error(test_set[target_col], predictions)\n",
    "        rmse=np.sqrt(mse)\n",
    "        k_rmses[k]=rmse\n",
    "\n",
    "    return k_rmses"
   ]
  },
  {
   "cell_type": "code",
   "execution_count": 48,
   "metadata": {},
   "outputs": [
    {
     "data": {
      "text/plain": [
       "{'two features': {1: 4507.719170873092,\n",
       "  2: 4412.177489000691,\n",
       "  3: 4649.485139424407,\n",
       "  4: 4728.485295913782,\n",
       "  5: 4620.132012383613,\n",
       "  6: 4609.672404590223,\n",
       "  7: 4433.966876656895,\n",
       "  8: 4272.690488939574,\n",
       "  9: 4281.182256282415,\n",
       "  10: 4371.243855847435,\n",
       "  11: 4422.871247162024,\n",
       "  12: 4435.898976419007,\n",
       "  13: 4383.568349169282,\n",
       "  14: 4376.325998975297,\n",
       "  15: 4396.715889140629,\n",
       "  16: 4414.142203426591,\n",
       "  17: 4396.755756350217,\n",
       "  18: 4469.774323882534,\n",
       "  19: 4525.877863994281,\n",
       "  20: 4545.376041462628,\n",
       "  21: 4440.096882526627,\n",
       "  22: 4381.375310981355,\n",
       "  23: 4420.424806041667,\n",
       "  24: 4417.50741353162,\n",
       "  25: 4426.27791772704},\n",
       " 'three features': {1: 4068.1131307332694,\n",
       "  2: 4191.3156428383245,\n",
       "  3: 4458.285133388156,\n",
       "  4: 4339.413616015901,\n",
       "  5: 4365.0952383088015,\n",
       "  6: 4483.834936677419,\n",
       "  7: 4292.125734203994,\n",
       "  8: 4169.729001805197,\n",
       "  9: 4219.809493208155,\n",
       "  10: 4339.376196194422,\n",
       "  11: 4461.28693037047,\n",
       "  12: 4653.741585590685,\n",
       "  13: 4656.071375977038,\n",
       "  14: 4661.462086264678,\n",
       "  15: 4487.606365440104,\n",
       "  16: 4303.970427621486,\n",
       "  17: 4313.567737465069,\n",
       "  18: 4339.782443328928,\n",
       "  19: 4316.938966322336,\n",
       "  20: 4300.528068981618,\n",
       "  21: 4268.076432575962,\n",
       "  22: 4304.396047586836,\n",
       "  23: 4283.679584875132,\n",
       "  24: 4277.697611357017,\n",
       "  25: 4260.551336913923},\n",
       " 'four features': {1: 3024.352590653509,\n",
       "  2: 3085.87628769576,\n",
       "  3: 3366.25417205707,\n",
       "  4: 3172.59412127258,\n",
       "  5: 3087.687800696162,\n",
       "  6: 3311.918838580899,\n",
       "  7: 3466.1293586891043,\n",
       "  8: 3532.4109941671513,\n",
       "  9: 3523.822180912172,\n",
       "  10: 3489.9265971268414,\n",
       "  11: 3569.924260612191,\n",
       "  12: 3547.434484764566,\n",
       "  13: 3536.0613223415367,\n",
       "  14: 3570.6207025881467,\n",
       "  15: 3520.945943182715,\n",
       "  16: 3649.7095814576,\n",
       "  17: 3719.8048972866263,\n",
       "  18: 3783.777427375073,\n",
       "  19: 3861.147197977554,\n",
       "  20: 3822.1572079055622,\n",
       "  21: 3884.371357649176,\n",
       "  22: 3925.439124277867,\n",
       "  23: 3962.4108279570837,\n",
       "  24: 4028.019350543522,\n",
       "  25: 4095.0356160877477},\n",
       " 'five features': {1: 2674.3874549622124,\n",
       "  2: 2869.736585106939,\n",
       "  3: 3278.21427874061,\n",
       "  4: 3413.079789755078,\n",
       "  5: 3546.388454139552,\n",
       "  6: 3462.020596723815,\n",
       "  7: 3598.926559118559,\n",
       "  8: 3503.2245665138175,\n",
       "  9: 3393.7819682263857,\n",
       "  10: 3381.655624683066,\n",
       "  11: 3284.506762310919,\n",
       "  12: 3361.0761675180797,\n",
       "  13: 3352.450093957945,\n",
       "  14: 3415.43925812826,\n",
       "  15: 3511.8902062480174,\n",
       "  16: 3528.7206985156413,\n",
       "  17: 3606.748943901924,\n",
       "  18: 3661.913377792798,\n",
       "  19: 3652.672187555731,\n",
       "  20: 3750.1041572736663,\n",
       "  21: 3803.4324757665445,\n",
       "  22: 3834.666621806636,\n",
       "  23: 3896.1830226848674,\n",
       "  24: 3912.5189107916085,\n",
       "  25: 3969.749249653676}}"
      ]
     },
     "execution_count": 48,
     "metadata": {},
     "output_type": "execute_result"
    }
   ],
   "source": [
    "multi_rmse={}\n",
    "\n",
    "#Call the function to get related rmse\n",
    "rmse_two_features=knn_train_test(two_features, 'price', df_norm)\n",
    "multi_rmse[\"two features\"]=rmse_two_features\n",
    "\n",
    "rmse_three_features=knn_train_test(three_features, 'price', df_norm)\n",
    "multi_rmse[\"three features\"]=rmse_three_features\n",
    "\n",
    "rmse_four_features=knn_train_test(four_features, 'price', df_norm)\n",
    "multi_rmse[\"four features\"]=rmse_four_features\n",
    "\n",
    "rmse_five_features=knn_train_test(five_features, 'price', df_norm)\n",
    "multi_rmse[\"five features\"]=rmse_five_features\n",
    "\n",
    "multi_rmse"
   ]
  },
  {
   "cell_type": "markdown",
   "metadata": {},
   "source": [
    "Visualize thr result"
   ]
  },
  {
   "cell_type": "code",
   "execution_count": 49,
   "metadata": {},
   "outputs": [
    {
     "data": {
      "image/png": "[encoded data removed]",
      "text/plain": [
       "<Figure size 1080x576 with 1 Axes>"
      ]
     },
     "metadata": {
      "needs_background": "light"
     },
     "output_type": "display_data"
    }
   ],
   "source": [
    "plt.figure(figsize=(15,8))\n",
    "for key,val in multi_rmse.items():\n",
    "    x = list(val.keys())\n",
    "    y = list(val.values())\n",
    "   \n",
    "    labels=[key for key in multi_rmse.keys()]\n",
    "   \n",
    "    plt.plot(x, y)\n",
    "        \n",
    "    plt.xlabel('k value')\n",
    "    plt.ylabel('RMSE')\n",
    "    plt.legend(labels)\n",
    "    plt.xticks(range(1,26))\n",
    "    plt.grid(True)\n",
    "    \n",
    "plt.show()   "
   ]
  },
  {
   "cell_type": "markdown",
   "metadata": {},
   "source": [
    "Compute average RMSE for each model"
   ]
  },
  {
   "cell_type": "code",
   "execution_count": 50,
   "metadata": {},
   "outputs": [
    {
     "data": {
      "text/plain": [
       "five features     3506.539520\n",
       "four features     3581.513290\n",
       "three features    4352.658205\n",
       "two features      4453.589759\n",
       "dtype: float64"
      ]
     },
     "execution_count": 50,
     "metadata": {},
     "output_type": "execute_result"
    }
   ],
   "source": [
    "avg_rmse_col={}\n",
    "for key, val in multi_rmse.items():\n",
    "    avg_rmse=np.mean(list(val.values()))\n",
    "    avg_rmse_col[key]=avg_rmse\n",
    "    \n",
    "multivariate_avg_rmse=pd.Series(avg_rmse_col)\n",
    "multivariate_avg_rmse.sort_values()"
   ]
  },
  {
   "cell_type": "markdown",
   "metadata": {},
   "source": [
    "Model with five features scores best here, and it looks like rmse scores lowest when value of K is 1.<br>\n",
    "Next Apply K-Fold validation to see how model score accurately"
   ]
  },
  {
   "cell_type": "markdown",
   "metadata": {},
   "source": [
    "## Validations"
   ]
  },
  {
   "cell_type": "markdown",
   "metadata": {},
   "source": [
    "**K-Fold validation**"
   ]
  },
  {
   "cell_type": "code",
   "execution_count": 52,
   "metadata": {},
   "outputs": [
    {
     "name": "stdout",
     "output_type": "stream",
     "text": [
      "[1529.84308252 2690.02355938 3705.68651534 2440.46075568 3135.82749047\n",
      " 2101.47052085 3437.43373027 2874.83833459 3351.58326765 2008.53736585]\n",
      "\n",
      "\n",
      "Average RMSE:  2727.5704622594376\n"
     ]
    }
   ],
   "source": [
    "#set up 10 folders\n",
    "kf=KFold(n_splits=10, shuffle=True, random_state=1)\n",
    "\n",
    "\n",
    "knn=KNeighborsRegressor(n_neighbors=1)\n",
    "knn.fit(df_norm[five_features], df_norm['price'])\n",
    "\n",
    "#Pass knn into cross_val_score\n",
    "mses=cross_val_score(knn, X=df_norm[five_features], y=df_norm['price'],\n",
    "                     scoring='neg_mean_squared_error', cv=kf)\n",
    "\n",
    "#convert results into rmse\n",
    "rmse=np.sqrt(np.absolute(mses))\n",
    "avg_rmse=np.mean(rmse)\n",
    "\n",
    "print(rmse)\n",
    "print(\"\\n\")\n",
    "print(\"Average RMSE: \",avg_rmse)"
   ]
  },
  {
   "cell_type": "markdown",
   "metadata": {},
   "source": [
    "# Conclusion\n",
    "Model with 5 features performs best, these features are:<br>\n",
    "- width\n",
    "- length \n",
    "- highway-mpg \n",
    "- horsepower \n",
    "- curb-weight\n",
    "\n",
    "Model performs relatively better when having value of \"K\"  as 1"
   ]
  }
 ],
 "metadata": {
  "kernelspec": {
   "display_name": "Python 3",
   "language": "python",
   "name": "python3"
  },
  "language_info": {
   "codemirror_mode": {
    "name": "ipython",
    "version": 3
   },
   "file_extension": ".py",
   "mimetype": "text/x-python",
   "name": "python",
   "nbconvert_exporter": "python",
   "pygments_lexer": "ipython3",
   "version": "3.7.3"
  }
 },
 "nbformat": 4,
 "nbformat_minor": 2
}
